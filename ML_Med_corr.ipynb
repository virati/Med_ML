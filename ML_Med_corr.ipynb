{
 "cells": [
  {
   "cell_type": "markdown",
   "metadata": {},
   "source": [
    "# Machine learning for medicine\n",
    "## Understanding Correlation\n",
    "\n",
    "## Overview\n",
    "In medicine, we care about how differents physiologic processes *relate* to each other.\n",
    "Correlation is one way to measure how related two things are.\n",
    "In this notebook we get hands on with correlation."
   ]
  },
  {
   "cell_type": "markdown",
   "metadata": {},
   "source": [
    "## Code Setup"
   ]
  },
  {
   "cell_type": "code",
   "execution_count": 8,
   "metadata": {},
   "outputs": [],
   "source": [
    "import numpy as np\n",
    "import scipy\n",
    "import matplotlib.pyplot as plt\n",
    "from ipywidgets import interact, interactive, fixed, interact_manual\n",
    "import ipywidgets as widgets\n",
    "import scipy.stats as stats"
   ]
  },
  {
   "cell_type": "markdown",
   "metadata": {},
   "source": [
    "## What is correlation\n",
    "Correlations are the backbone of science.\n",
    "Correlations are one way to assess whether two variables are *related* to each other.\n",
    "\n",
    "Correlation checks to see whether there's a *linear* relationship between two variables $X$ and $Y$.\n",
    "In order words: if we *double* $X$ do we double $Y$?\n",
    "For some things, this is reasonable."
   ]
  },
  {
   "cell_type": "code",
   "execution_count": 9,
   "metadata": {},
   "outputs": [],
   "source": [
    "\n",
    "def simple_eg(slope=1.0,noise=0.0,samples=100):\n",
    "    x = np.random.uniform(-10,10,size=(samples,))\n",
    "    y = slope * x + np.random.normal(0,noise,size=x.shape)\n",
    "    \n",
    "    plt.figure()\n",
    "    plt.scatter(x,y)\n",
    "    plt.scatter(x,np.random.normal(0,noise,size=x.shape),color='red',alpha=0.4)\n",
    "    plt.ylim(-10,10)\n",
    "    plt.xlim(-10,10)\n",
    "    plt.axis('off')\n",
    "    plt.legend(['Correlated','Uncorrelated'])\n",
    "    corr_val = stats.pearsonr(x,y)\n",
    "    plt.text(2,-10,s='Pearson: ' + str(corr_val[0]) + '\\n p=' + str(corr_val[1]))\n",
    "    plt.show()"
   ]
  },
  {
   "cell_type": "code",
   "execution_count": 12,
   "metadata": {},
   "outputs": [
    {
     "data": {
      "application/vnd.jupyter.widget-view+json": {
       "model_id": "751fd51bd26a45e782491cc85c38a5b5",
       "version_major": 2,
       "version_minor": 0
      },
      "text/plain": [
       "interactive(children=(FloatSlider(value=1.0, description='slope', max=5.0, min=-5.0), FloatSlider(value=0.0, d…"
      ]
     },
     "metadata": {},
     "output_type": "display_data"
    }
   ],
   "source": [
    "interact(simple_eg,slope=(-5,5,0.1),noise=(0.0,10.0,0.5),samples=fixed(100));"
   ]
  },
  {
   "cell_type": "markdown",
   "metadata": {},
   "source": [
    "## Limited sample size\n",
    "\n",
    "Let's do the same sort of analysis, but change the number of samples we have available to us."
   ]
  },
  {
   "cell_type": "code",
   "execution_count": 24,
   "metadata": {},
   "outputs": [
    {
     "data": {
      "application/vnd.jupyter.widget-view+json": {
       "model_id": "1ff6ac046ac944b185c055a51413dc1f",
       "version_major": 2,
       "version_minor": 0
      },
      "text/plain": [
       "interactive(children=(FloatSlider(value=1.0, description='slope', max=5.0, step=0.01), FloatSlider(value=0.0, …"
      ]
     },
     "metadata": {},
     "output_type": "display_data"
    }
   ],
   "source": [
    "interact(simple_eg,slope=(0,5,0.01),noise=(0.0,10.0,0.1),samples=(2,50,1));"
   ]
  }
 ],
 "metadata": {
  "kernelspec": {
   "display_name": "Python 3",
   "language": "python",
   "name": "python3"
  },
  "language_info": {
   "codemirror_mode": {
    "name": "ipython",
    "version": 3
   },
   "file_extension": ".py",
   "mimetype": "text/x-python",
   "name": "python",
   "nbconvert_exporter": "python",
   "pygments_lexer": "ipython3",
   "version": "3.7.6"
  }
 },
 "nbformat": 4,
 "nbformat_minor": 4
}
