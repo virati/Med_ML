{
 "cells": [
  {
   "cell_type": "markdown",
   "metadata": {},
   "source": [
    "# Machine learning for medicine\n",
    "## Correlations\n",
    "What's a correlation? Hw can we asdfa=fasdfasdf\n",
    "\n",
    "Intuitively, it's when one things seems to go along with something else.\n",
    "\n",
    "The key thing here is that just because two things go together doesn't mean they *affect* each other.\n",
    "\n",
    "## Example\n",
    "CPM ->\n",
    "\n",
    "## Overview\n",
    "We often want to know if variables go with each other.\n",
    "\n",
    "## Simple correlation\n",
    "Let's see how well a signal correlates with itself.\n",
    "\n",
    "$ x = m \\cdot y$\n",
    "\n",
    "## Add in some noise\n",
    "\n",
    "## Scaling one variable\n",
    "\n",
    "## Correlation is not causation"
   ]
  },
  {
   "cell_type": "code",
   "execution_count": 1,
   "metadata": {},
   "outputs": [],
   "source": [
    "import numpy as np\n",
    "import scipy\n",
    "import matplotlib.pyplot as plt\n",
    "from ipywidgets import interact, interactive, fixed, interact_manual\n",
    "import ipywidgets as widgets\n",
    "import scipy.stats as stats"
   ]
  },
  {
   "cell_type": "markdown",
   "metadata": {},
   "source": [
    "## What is 'noise'?"
   ]
  },
  {
   "cell_type": "code",
   "execution_count": 2,
   "metadata": {},
   "outputs": [
    {
     "data": {
      "application/vnd.jupyter.widget-view+json": {
       "model_id": "8d689d893f9c4f93a510cfb85e422779",
       "version_major": 2,
       "version_minor": 0
      },
      "text/plain": [
       "interactive(children=(FloatSlider(value=5.0, description='var', max=10.0), Output()), _dom_classes=('widget-in…"
      ]
     },
     "metadata": {},
     "output_type": "display_data"
    },
    {
     "data": {
      "text/plain": [
       "<function __main__.f(var)>"
      ]
     },
     "execution_count": 2,
     "metadata": {},
     "output_type": "execute_result"
    }
   ],
   "source": [
    "def f(var):\n",
    "    t = np.linspace(0,10,100)\n",
    "\n",
    "    x = np.random.normal(np.sin(2 * np.pi * t),var,size=(100,1))\n",
    "    fig1 = plt.figure()\n",
    "    plt.plot(t,x)\n",
    "    plt.xlim((-1,11))\n",
    "    plt.ylim((-10,10))\n",
    "    plt.show()\n",
    "\n",
    "interact(f,var=(0,10,0.1))"
   ]
  },
  {
   "cell_type": "markdown",
   "metadata": {},
   "source": [
    "## Linear Correlations\n",
    "Linear functions are nice and easy.\n",
    "We like linear functions so much that we often squint our eyes to see a line even when there isn't.\n",
    "The whole point of linear correlation is to be able to say that a variable we're trying to explain is related to a variable we're measuring by a simple multiplication."
   ]
  },
  {
   "cell_type": "code",
   "execution_count": 3,
   "metadata": {},
   "outputs": [
    {
     "data": {
      "application/vnd.jupyter.widget-view+json": {
       "model_id": "0298c53c22ac4327acfb301f76d7dae9",
       "version_major": 2,
       "version_minor": 0
      },
      "text/plain": [
       "interactive(children=(FloatSlider(value=5.0, description='var', max=10.0), FloatSlider(value=5.5, description=…"
      ]
     },
     "metadata": {},
     "output_type": "display_data"
    },
    {
     "data": {
      "text/plain": [
       "<function __main__.g_lin(var, mag, fp, gain=1)>"
      ]
     },
     "execution_count": 3,
     "metadata": {},
     "output_type": "execute_result"
    }
   ],
   "source": [
    "def g_lin(var,mag,fp,gain=1):\n",
    "    #x = np.linspace(-4,4,100)\n",
    "    x = np.random.uniform(-3,3,size=(100,))\n",
    "    y = gain*np.random.normal(x,var)\n",
    "    \n",
    "    plt.figure()\n",
    "    plt.scatter(x,y)\n",
    "    plt.xlim((-5,5))\n",
    "    plt.ylim((-50,50))\n",
    "    \n",
    "    pears = stats.pearsonr(x,y)\n",
    "    spears = stats.spearmanr(x,y)\n",
    "    plt.title('Correlation: ' + str(pears[0]) + ' vs ' + str(spears[0]))\n",
    "    \n",
    "interact(g_lin,var=(0,10.),mag = (1,10.,0.5),fp=(0,4,0.5),gain=(0.1,10,0.1))"
   ]
  },
  {
   "cell_type": "markdown",
   "metadata": {},
   "source": [
    "## Nonlinear functions and correlation"
   ]
  },
  {
   "cell_type": "code",
   "execution_count": 4,
   "metadata": {},
   "outputs": [
    {
     "data": {
      "application/vnd.jupyter.widget-view+json": {
       "model_id": "001baeaae33f4b7d99f27c3d0f5e0703",
       "version_major": 2,
       "version_minor": 0
      },
      "text/plain": [
       "interactive(children=(FloatSlider(value=50.0, description='var'), FloatSlider(value=5.5, description='mag', ma…"
      ]
     },
     "metadata": {},
     "output_type": "display_data"
    },
    {
     "data": {
      "text/plain": [
       "<function __main__.g(var, mag, fp, gain=1)>"
      ]
     },
     "execution_count": 4,
     "metadata": {},
     "output_type": "execute_result"
    }
   ],
   "source": [
    "def g(var,mag,fp,gain=1):\n",
    "    #x = np.linspace(-4,4,100)\n",
    "    x = np.random.uniform(-3,3,size=(100,))\n",
    "    y = gain*np.random.normal(mag*(x-fp) * (x) * (x+fp),var)\n",
    "    \n",
    "    plt.figure()\n",
    "    plt.scatter(x,y)\n",
    "    plt.xlim((-5,5))\n",
    "    plt.ylim((-50,50))\n",
    "    \n",
    "    pears = stats.pearsonr(x,y)\n",
    "    spears = stats.spearmanr(x,y)\n",
    "    plt.title('Correlation: ' + str(pears[0]) + ' vs ' + str(spears[0]))\n",
    "    \n",
    "interact(g,var=(0,100.),mag = (1,10.,0.5),fp=(0,4,0.5),gain=(0.1,10,0.1))"
   ]
  },
  {
   "cell_type": "markdown",
   "metadata": {},
   "source": [
    "### What is this telling us?\n",
    "The Pearson Correlation tells us we're at only a 60\\% correlation.\n",
    "This is a *linear* correlation.\n",
    "But this is a bit absurd.\n",
    "We know that Y is a very, very clean calculation on X.\n",
    "Meaning, if we know X, we **know** Y.\n",
    "\n",
    "The reason the correlations are low is because we're using *linear* correlations.\n",
    "There is, by definition (since we *defined it*), a nonlinear relationship between Y and X.\n"
   ]
  },
  {
   "cell_type": "markdown",
   "metadata": {},
   "source": [
    "We'll do the same, but now with scatter plot observations"
   ]
  },
  {
   "cell_type": "code",
   "execution_count": 5,
   "metadata": {},
   "outputs": [
    {
     "data": {
      "application/vnd.jupyter.widget-view+json": {
       "model_id": "d7c7688cbcab4d7ab88458f77d7e5a0f",
       "version_major": 2,
       "version_minor": 0
      },
      "text/plain": [
       "interactive(children=(IntSlider(value=55, description='nsamp', min=10, step=5), FloatSlider(value=50.0, descri…"
      ]
     },
     "metadata": {},
     "output_type": "display_data"
    },
    {
     "data": {
      "text/plain": [
       "<function __main__.gr(nsamp, var, mag)>"
      ]
     },
     "execution_count": 5,
     "metadata": {},
     "output_type": "execute_result"
    }
   ],
   "source": [
    "def relat(x):\n",
    "    return (x-2) * (x) * (x+2)\n",
    "\n",
    "def gr(nsamp,var,mag):\n",
    "    x = np.random.uniform(-4.,4.,size=(nsamp,))\n",
    "    y = mag*np.random.normal(relat(x),var)\n",
    "    \n",
    "    xc = np.linspace(-4,4,100)\n",
    "    yc = mag*relat(xc)\n",
    "    yl = mag*xc\n",
    "    \n",
    "    fig1 = plt.figure()\n",
    "    \n",
    "    plt.scatter(x,y)\n",
    "    plt.xlim((-5,5))\n",
    "    plt.ylim((-50,50))\n",
    "    plt.plot(xc,yc,color='red')\n",
    "    plt.plot(xc,yl,color='blue')\n",
    "    \n",
    "    pears = stats.pearsonr(x,y)\n",
    "    plt.title('Correlation: ' + str(pears))\n",
    "    \n",
    "    plt.show()\n",
    "    \n",
    "interact(gr,nsamp=(10,100,5),var=(0,100.),mag = (0,5.))"
   ]
  }
 ],
 "metadata": {
  "kernelspec": {
   "display_name": "Python 3",
   "language": "python",
   "name": "python3"
  },
  "language_info": {
   "codemirror_mode": {
    "name": "ipython",
    "version": 3
   },
   "file_extension": ".py",
   "mimetype": "text/x-python",
   "name": "python",
   "nbconvert_exporter": "python",
   "pygments_lexer": "ipython3",
   "version": "3.8.1"
  }
 },
 "nbformat": 4,
 "nbformat_minor": 4
}
