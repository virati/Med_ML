{
 "cells": [
  {
   "cell_type": "markdown",
   "metadata": {},
   "source": [
    "# Machine learning for medicine\n",
    "## Understanding Correlation\n",
    "\n",
    "## Overview\n",
    "In medicine, we care about how differents physiologic processes *relate* to each other.\n",
    "Correlation is one way to measure how related two things are.\n",
    "In this notebook we get hands on with correlation.\n",
    "\n",
    "## Correlations\n",
    "Correlations are the backbone of science.\n",
    "Correlations are one way to assess whether two variables are *related* to each other.\n",
    "\n",
    "Correlation checks to see whether there's a *linear* relationship between two variables $X$ and $Y$.\n",
    "In order words: if we *double* $X$ do we double $Y$?"
   ]
  },
  {
   "cell_type": "markdown",
   "metadata": {},
   "source": [
    "## Code Setup"
   ]
  },
  {
   "cell_type": "code",
   "execution_count": 1,
   "metadata": {},
   "outputs": [],
   "source": [
    "import numpy as np\n",
    "import scipy\n",
    "import matplotlib.pyplot as plt\n",
    "from ipywidgets import interact, interactive, fixed, interact_manual\n",
    "import ipywidgets as widgets\n",
    "import scipy.stats as stats"
   ]
  },
  {
   "cell_type": "markdown",
   "metadata": {},
   "source": [
    "## Introduction\n",
    "In every question we're studying *relationships* between things we're interested in.\n",
    "Correlation is one way that we can see if changing one variable changes another variable."
   ]
  },
  {
   "cell_type": "code",
   "execution_count": 8,
   "metadata": {},
   "outputs": [],
   "source": [
    "%%capture\n",
    "def simple_eg(slope=1.0,noise=0.0):\n",
    "    x = np.random.uniform(-10,10,size=(100,))\n",
    "    y = slope * x + np.random.normal(0,noise,size=x.shape)\n",
    "    \n",
    "    plt.figure()\n",
    "    plt.scatter(x,y)\n",
    "    plt.scatter(x,np.random.normal(0,noise,size=x.shape),color='red',alpha=0.4)\n",
    "    plt.ylim(-10,10)\n",
    "    plt.xlim(-10,10)\n",
    "    plt.axis('off')\n",
    "    plt.legend(['Correlated','Uncorrelated'])\n",
    "    corr_val = stats.pearsonr(x,y)\n",
    "    plt.text(2,-5,s='Pearson: ' + str(corr_val[0]) + '\\n p=' + str(corr_val[1]))\n",
    "    plt.show()"
   ]
  },
  {
   "cell_type": "code",
   "execution_count": 9,
   "metadata": {},
   "outputs": [
    {
     "data": {
      "application/vnd.jupyter.widget-view+json": {
       "model_id": "c69491e698a34ea0b2575350ec5b1ed1",
       "version_major": 2,
       "version_minor": 0
      },
      "text/plain": [
       "interactive(children=(FloatSlider(value=1.0, description='slope', max=5.0, min=-5.0), FloatSlider(value=0.0, d…"
      ]
     },
     "metadata": {},
     "output_type": "display_data"
    }
   ],
   "source": [
    "interact(simple_eg,slope=(-5,5,0.1),noise=(0.0,10.0,0.5));"
   ]
  },
  {
   "cell_type": "markdown",
   "metadata": {},
   "source": [
    "Here, we can see an example where the value of y correlates with the value of x, depending on where you set the slider (blue).\n",
    "We can also see an example of when y *doesn't* correlate with the value of x (red).\n",
    "Without any noise, it's pretty straightforward.\n",
    "But the real world is noisy and this noise can make it tough to tell if there is or isn't a relationship.\n",
    "Try this out yourself by setting the noise slider at 5.0\n",
    "\n",
    "So much of EBM is designing experiments so that we can cleanly say that y and x are related.\n",
    "\n",
    "## Correlation Coefficient\n",
    "\n",
    "## Scaling one variable\n",
    "\n",
    "## Correlation is not causation"
   ]
  },
  {
   "cell_type": "markdown",
   "metadata": {},
   "source": [
    "## What is 'noise'?"
   ]
  },
  {
   "cell_type": "code",
   "execution_count": 4,
   "metadata": {},
   "outputs": [
    {
     "data": {
      "application/vnd.jupyter.widget-view+json": {
       "model_id": "7d413884e78240abb544e05959c134b0",
       "version_major": 2,
       "version_minor": 0
      },
      "text/plain": [
       "interactive(children=(FloatSlider(value=5.0, description='var', max=10.0), Output()), _dom_classes=('widget-in…"
      ]
     },
     "metadata": {},
     "output_type": "display_data"
    },
    {
     "data": {
      "text/plain": [
       "<function __main__.f(var)>"
      ]
     },
     "execution_count": 4,
     "metadata": {},
     "output_type": "execute_result"
    }
   ],
   "source": [
    "\n",
    "def f(var):\n",
    "    t = np.linspace(0,10,100)\n",
    "\n",
    "    x = np.random.normal(np.sin(2 * np.pi * t),var,size=(100,1))\n",
    "    fig1 = plt.figure()\n",
    "    plt.plot(t,x)\n",
    "    plt.xlim((-1,11))\n",
    "    plt.ylim((-10,10))\n",
    "    plt.show()\n",
    "\n",
    "interact(f,var=(0,10,0.1))"
   ]
  },
  {
   "cell_type": "markdown",
   "metadata": {},
   "source": [
    "## Linear Correlations\n",
    "Linear functions are nice and easy.\n",
    "We like linear functions so much that we often squint our eyes to see a line even when there isn't.\n",
    "The whole point of linear correlation is to be able to say that a variable we're trying to explain is related to a variable we're measuring by a simple multiplication."
   ]
  },
  {
   "cell_type": "code",
   "execution_count": 5,
   "metadata": {},
   "outputs": [
    {
     "data": {
      "application/vnd.jupyter.widget-view+json": {
       "model_id": "a8733cb8dbdd4bdfac6e137856fb11c5",
       "version_major": 2,
       "version_minor": 0
      },
      "text/plain": [
       "interactive(children=(FloatSlider(value=5.0, description='var', max=10.0), FloatSlider(value=5.5, description=…"
      ]
     },
     "metadata": {},
     "output_type": "display_data"
    },
    {
     "data": {
      "text/plain": [
       "<function __main__.g_lin(var, mag, fp, gain=1)>"
      ]
     },
     "execution_count": 5,
     "metadata": {},
     "output_type": "execute_result"
    }
   ],
   "source": [
    "def g_lin(var,mag,fp,gain=1):\n",
    "    #x = np.linspace(-4,4,100)\n",
    "    x = np.random.uniform(-3,3,size=(100,))\n",
    "    y = gain*np.random.normal(x,var)\n",
    "    \n",
    "    plt.figure()\n",
    "    plt.scatter(x,y)\n",
    "    plt.xlim((-5,5))\n",
    "    plt.ylim((-50,50))\n",
    "    \n",
    "    pears = stats.pearsonr(x,y)\n",
    "    spears = stats.spearmanr(x,y)\n",
    "    plt.title('Correlation: ' + str(pears[0]) + ' vs ' + str(spears[0]))\n",
    "    \n",
    "interact(g_lin,var=(0,10.),mag = (1,10.,0.5),fp=(0,4,0.5),gain=(0.1,10,0.1))"
   ]
  },
  {
   "cell_type": "markdown",
   "metadata": {},
   "source": [
    "## Nonlinear functions and correlation"
   ]
  },
  {
   "cell_type": "code",
   "execution_count": 6,
   "metadata": {},
   "outputs": [
    {
     "data": {
      "application/vnd.jupyter.widget-view+json": {
       "model_id": "4e5e582c64c4475782b34df00d2c4905",
       "version_major": 2,
       "version_minor": 0
      },
      "text/plain": [
       "interactive(children=(FloatSlider(value=50.0, description='var'), FloatSlider(value=5.5, description='mag', ma…"
      ]
     },
     "metadata": {},
     "output_type": "display_data"
    },
    {
     "data": {
      "text/plain": [
       "<function __main__.g(var, mag, fp, gain=1)>"
      ]
     },
     "execution_count": 6,
     "metadata": {},
     "output_type": "execute_result"
    }
   ],
   "source": [
    "def g(var,mag,fp,gain=1):\n",
    "    #x = np.linspace(-4,4,100)\n",
    "    x = np.random.uniform(-3,3,size=(100,))\n",
    "    y = gain*mag*(x-fp) * (x) * (x+fp) * x\n",
    "    \n",
    "    x = x - np.mean(x)\n",
    "    y = y - np.mean(y) + np.random.normal(0,var,size=x.shape)\n",
    "    \n",
    "    plt.figure()\n",
    "    plt.scatter(x,y)\n",
    "    plt.xlim((-5,5))\n",
    "    plt.ylim((-50,50))\n",
    "    \n",
    "    pears = stats.pearsonr(x,y)\n",
    "    spears = stats.spearmanr(x,y)\n",
    "    plt.title('Correlation: ' + str(pears[0]) + ' vs ' + str(spears[0]))\n",
    "    \n",
    "interact(g,var=(0,100.),mag = (1,10.,0.5),fp=(0,4,0.5),gain=(0.1,10,0.1))"
   ]
  },
  {
   "cell_type": "markdown",
   "metadata": {},
   "source": [
    "### What is this telling us?\n",
    "The Pearson Correlation tells us we're at only a 60\\% correlation.\n",
    "This is a *linear* correlation.\n",
    "But this is a bit absurd.\n",
    "We know that Y is a very, very clean calculation on X.\n",
    "Meaning, if we know X, we **know** Y.\n",
    "\n",
    "The reason the correlations are low is because we're using *linear* correlations.\n",
    "There is, by definition (since we *defined it*), a nonlinear relationship between Y and X.\n"
   ]
  },
  {
   "cell_type": "markdown",
   "metadata": {},
   "source": [
    "We'll do the same, but now with scatter plot observations"
   ]
  },
  {
   "cell_type": "code",
   "execution_count": 7,
   "metadata": {},
   "outputs": [
    {
     "data": {
      "application/vnd.jupyter.widget-view+json": {
       "model_id": "f5e239958b7b46c8ab1087ef339a1895",
       "version_major": 2,
       "version_minor": 0
      },
      "text/plain": [
       "interactive(children=(IntSlider(value=55, description='nsamp', min=10, step=5), FloatSlider(value=50.0, descri…"
      ]
     },
     "metadata": {},
     "output_type": "display_data"
    },
    {
     "data": {
      "text/plain": [
       "<function __main__.gr(nsamp, var, mag)>"
      ]
     },
     "execution_count": 7,
     "metadata": {},
     "output_type": "execute_result"
    }
   ],
   "source": [
    "def relat(x):\n",
    "    return (x-2) * (x) * (x+2)\n",
    "\n",
    "def gr(nsamp,var,mag):\n",
    "    x = np.random.uniform(-4.,4.,size=(nsamp,))\n",
    "    y = mag*np.random.normal(relat(x),var)\n",
    "    \n",
    "    xc = np.linspace(-4,4,100)\n",
    "    yc = mag*relat(xc)\n",
    "    yl = mag*xc\n",
    "    \n",
    "    fig1 = plt.figure()\n",
    "    \n",
    "    plt.scatter(x,y)\n",
    "    plt.xlim((-5,5))\n",
    "    plt.ylim((-50,50))\n",
    "    plt.plot(xc,yc,color='red')\n",
    "    plt.plot(xc,yl,color='blue')\n",
    "    \n",
    "    pears = stats.pearsonr(x,y)\n",
    "    plt.title('Correlation: ' + str(pears))\n",
    "    \n",
    "    plt.show()\n",
    "    \n",
    "interact(gr,nsamp=(10,100,5),var=(0,100.),mag = (0,5.))"
   ]
  },
  {
   "cell_type": "code",
   "execution_count": null,
   "metadata": {},
   "outputs": [],
   "source": []
  }
 ],
 "metadata": {
  "kernelspec": {
   "display_name": "Python 3",
   "language": "python",
   "name": "python3"
  },
  "language_info": {
   "codemirror_mode": {
    "name": "ipython",
    "version": 3
   },
   "file_extension": ".py",
   "mimetype": "text/x-python",
   "name": "python",
   "nbconvert_exporter": "python",
   "pygments_lexer": "ipython3",
   "version": "3.7.6"
  }
 },
 "nbformat": 4,
 "nbformat_minor": 4
}
