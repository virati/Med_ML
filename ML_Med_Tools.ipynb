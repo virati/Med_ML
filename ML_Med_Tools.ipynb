{
 "cells": [
  {
   "cell_type": "markdown",
   "metadata": {},
   "source": [
    "# Machine Learning for Medicine: Workshop\n",
    "## What tools do we need?\n",
    "\n",
    "### Overview\n",
    "Machine learning (ML) is a powerful approach to studying nature through data.\n",
    "Lucky for us, ML is dominantly driven by *open source* tools, or tools that are freely available to all of us.\n",
    "In this notebook we'll outline the tools.\n",
    "\n",
    "Machine learning (ML) is a powerful approach to identifying and validating patterns in our data.\n",
    "What makes it challenging sometimes is that there isn't exactly a \"standard toolkit\".\n",
    "For more on the motivation head down to [background section](#Background)\n",
    "\n",
    "In order to learn and apply ML you'll need a set of tools.\n",
    "Luckily, these tools are *general* tools that can actually help you program things in general.\n",
    "In this notebook we'll run through some of those tools and provide some resources to get more comfortable with ML tools.\n",
    "\n",
    "\n",
    "### The list\n",
    "\n",
    "#### Python\n",
    "If you're viewing this then you're already interacting with Python and Jupyter.\n",
    "Python is basically a programming language, a way for us to tell the computer what to do."
   ]
  },
  {
   "cell_type": "markdown",
   "metadata": {},
   "source": [
    "#### Jupyter\n",
    "Jupyter is an addition to Python that lets us write notebooks with Python embedded in it."
   ]
  },
  {
   "cell_type": "markdown",
   "metadata": {},
   "source": [
    "#### SciPy and Stats\n"
   ]
  },
  {
   "cell_type": "code",
   "execution_count": null,
   "metadata": {},
   "outputs": [],
   "source": [
    "import scipy.signal\n",
    "import scipy.stats as stats"
   ]
  },
  {
   "cell_type": "markdown",
   "metadata": {},
   "source": [
    "We're telling the rest of our program: hey, we're going to use scipy.signal and scipy.stats.\n",
    "We say something more with scipy.stats - we tell Python that anytime we say 'stats' we mean 'scipy.stats'.\n",
    "This makes it so we don't have to type as much and so our code is a bit more readable."
   ]
  },
  {
   "cell_type": "markdown",
   "metadata": {},
   "source": [
    "#### Scikit Learn"
   ]
  },
  {
   "cell_type": "code",
   "execution_count": null,
   "metadata": {},
   "outputs": [],
   "source": []
  },
  {
   "cell_type": "markdown",
   "metadata": {},
   "source": [
    "## Background\n",
    "\n",
    "In standard statistics, and EBM in particular, the goal is to design your experiment carefully so that it fits into one of the standard pipelines.\n",
    "Then each pipeline has associated with it a set of statistical tests and methods.\n",
    "\n",
    "In ML, the goal is to adjust your analysis so it fits the dataset you have from the experiment you were able to run.\n",
    "If the experiment was well controlled and isolated, then ML pretty much boils down to a standard set of statistical approaches.\n",
    "But where ML shines is its ability to extract patterns even if the experiment had issues."
   ]
  }
 ],
 "metadata": {
  "kernelspec": {
   "display_name": "Python 3",
   "language": "python",
   "name": "python3"
  },
  "language_info": {
   "codemirror_mode": {
    "name": "ipython",
    "version": 3
   },
   "file_extension": ".py",
   "mimetype": "text/x-python",
   "name": "python",
   "nbconvert_exporter": "python",
   "pygments_lexer": "ipython3",
   "version": "3.8.1"
  }
 },
 "nbformat": 4,
 "nbformat_minor": 4
}
