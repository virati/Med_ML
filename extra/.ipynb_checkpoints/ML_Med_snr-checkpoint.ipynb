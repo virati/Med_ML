{
 "cells": [
  {
   "cell_type": "markdown",
   "metadata": {},
   "source": [
    "## Limitations of measurement\n",
    "\n",
    "One of the most important concepts taught in engineering courses is the idea of 'signal' and 'noise'.\n",
    "The notion of a 'signal-to-noise' ratio is important because it forces us to think *critically* of our measurements.\n",
    "\n",
    "## An Example\n",
    "Just because we measure something doesn't mean it reflects what we're *actually* interested in.\n",
    "For example, when we measure an A1c, we're using it as a surrogate measurement of diabetes state.\n",
    "However, in the setting of kidney disease, A1c can be low even in the presence of diabetes because of the reduced insulin clearance.\n",
    "In this case, the *signal* we care about, the A1c reflecting diabetes state, is there, but it's challenged by the *noise* of insulin clearance.\n",
    "\n",
    "## Hands on\n",
    "Let's get hands on with signal to noise ratio."
   ]
  }
 ],
 "metadata": {
  "kernelspec": {
   "display_name": "Python 3",
   "language": "python",
   "name": "python3"
  },
  "language_info": {
   "codemirror_mode": {
    "name": "ipython",
    "version": 3
   },
   "file_extension": ".py",
   "mimetype": "text/x-python",
   "name": "python",
   "nbconvert_exporter": "python",
   "pygments_lexer": "ipython3",
   "version": "3.7.6"
  }
 },
 "nbformat": 4,
 "nbformat_minor": 4
}
