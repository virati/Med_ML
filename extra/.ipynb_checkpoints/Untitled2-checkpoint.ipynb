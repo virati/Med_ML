{
 "cells": [
  {
   "cell_type": "markdown",
   "metadata": {},
   "source": [
    "# The Clinical Machine\n",
    "\n",
    "The job of a clinician can be broadly divided into two parts: *inference* and *control*.\n",
    "In this notebook we'll develop a mechanistic model of the clinician in order to reverse-engineer many of the processes a good clinician has.\n",
    "This will then clarify the role that machine learning and artificial intelligence will play in assisting the clinician in their job.\n",
    "\n",
    "## The system diagram\n",
    "\n",
    "### The patient\n",
    "Like any good clinician, we acknowledge that the *patient* is at the very center of any model of the clinician.\n",
    "Beyond being a touch of feel-goodery, this is actually a crucially important point in developing a model of the clinician.\n",
    "\n",
    "For this study, we develop a simplified model of the patient.\n",
    "The patient has a particular state $d$.\n",
    "This is often referred to as an *illness script*.\n",
    "This illness script arises because of disturbances to physiologic processes $f_p\\prime = f_p + \\eta$ where $\\eta$ is the pathophysiologic disturbance to the normal physiology $f_p$.\n",
    "\n",
    "The illness script is a pattern of outputs, possibly changing over time (or dynamic), that is associated with at least one pathophysiologic process.\n",
    "\n",
    "### The clinician\n",
    "The clinician has two relatively simple goals: figure out what the *disturbance to physiology* $\\eta$ is that is causing a particular set of symptoms $\\vec{s}$.\n",
    "Once this is figured out, they then go to a 'lookup table' to figure out what the typical *control policy* is to alleviate this pathologic process $\\eta$ and, in turn, alleviate the symptoms $\\vec{s}$."
   ]
  }
 ],
 "metadata": {
  "kernelspec": {
   "display_name": "Python 3",
   "language": "python",
   "name": "python3"
  },
  "language_info": {
   "codemirror_mode": {
    "name": "ipython",
    "version": 3
   },
   "file_extension": ".py",
   "mimetype": "text/x-python",
   "name": "python",
   "nbconvert_exporter": "python",
   "pygments_lexer": "ipython3",
   "version": "3.8.2"
  }
 },
 "nbformat": 4,
 "nbformat_minor": 4
}
