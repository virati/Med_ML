{
 "cells": [
  {
   "cell_type": "markdown",
   "metadata": {},
   "source": [
    "# Machine learning for medicine\n",
    "## Using ML\n",
    "\n",
    "In this notebook we're going to apply ML to a dataset and contrast it with what you may do in a standard Discovery project.\n",
    "The goal of this notebook is to empower you to perform parallel, ML-style analysis on your data and maybe pick up on some cool patterns that you otherwise would have missed.\n",
    "\n",
    "### Imports"
   ]
  },
  {
   "cell_type": "code",
   "execution_count": 10,
   "metadata": {},
   "outputs": [],
   "source": [
    "import pandas as pds\n",
    "import numpy as np\n",
    "from ipywidgets import interact, interactive, fixed, interact_manual\n",
    "import scipy.stats as stats\n",
    "import ipywidgets as widgets\n",
    "import matplotlib.pyplot as plt\n",
    "\n",
    "import networkx as nx"
   ]
  },
  {
   "cell_type": "markdown",
   "metadata": {},
   "source": [
    "## Diabetes\n",
    "\n",
    "We're going to work with a straight forward static system in this experiment.\n",
    "We've got four variables: $x,y,z,w$ that we're trying to study.\n",
    "\n",
    "\\begin{equation}\n",
    "x = \\text{diabetes} \\in {\\{\\text{yes},\\text{no}\\}}\\\\\n",
    "y = \\text{bloodsugar} \\\\\n",
    "z = \\text{insulin} \\\\ \n",
    "w = \\text{potassium}\n",
    "\\end{equation}\n",
    "\n",
    "Thanks to the first year and a half of med school, we have some ideas of how these variables relate to each other."
   ]
  },
  {
   "cell_type": "code",
   "execution_count": 11,
   "metadata": {},
   "outputs": [
    {
     "ename": "TypeError",
     "evalue": "add_edge() missing 1 required positional argument: 'v_of_edge'",
     "output_type": "error",
     "traceback": [
      "\u001b[0;31m---------------------------------------------------------------------------\u001b[0m",
      "\u001b[0;31mTypeError\u001b[0m                                 Traceback (most recent call last)",
      "\u001b[0;32m<ipython-input-11-595aee19beaf>\u001b[0m in \u001b[0;36m<module>\u001b[0;34m\u001b[0m\n\u001b[1;32m      1\u001b[0m \u001b[0mhealthy_patient\u001b[0m \u001b[0;34m=\u001b[0m \u001b[0mnx\u001b[0m\u001b[0;34m.\u001b[0m\u001b[0mGraph\u001b[0m\u001b[0;34m(\u001b[0m\u001b[0;34m)\u001b[0m\u001b[0;34m\u001b[0m\u001b[0;34m\u001b[0m\u001b[0m\n\u001b[1;32m      2\u001b[0m \u001b[0mhealthy_patient\u001b[0m\u001b[0;34m.\u001b[0m\u001b[0madd_nodes_from\u001b[0m\u001b[0;34m(\u001b[0m\u001b[0;34m[\u001b[0m\u001b[0;36m0\u001b[0m\u001b[0;34m,\u001b[0m\u001b[0;36m1\u001b[0m\u001b[0;34m,\u001b[0m\u001b[0;36m2\u001b[0m\u001b[0;34m,\u001b[0m\u001b[0;36m3\u001b[0m\u001b[0;34m]\u001b[0m\u001b[0;34m)\u001b[0m\u001b[0;34m\u001b[0m\u001b[0;34m\u001b[0m\u001b[0m\n\u001b[0;32m----> 3\u001b[0;31m \u001b[0mhealthy_patient\u001b[0m\u001b[0;34m.\u001b[0m\u001b[0madd_edge\u001b[0m\u001b[0;34m(\u001b[0m\u001b[0;34m[\u001b[0m\u001b[0;36m2\u001b[0m\u001b[0;34m,\u001b[0m\u001b[0;36m1\u001b[0m\u001b[0;34m]\u001b[0m\u001b[0;34m)\u001b[0m\u001b[0;34m\u001b[0m\u001b[0;34m\u001b[0m\u001b[0m\n\u001b[0m\u001b[1;32m      4\u001b[0m \u001b[0mhealthy_patient\u001b[0m\u001b[0;34m.\u001b[0m\u001b[0madd_edge\u001b[0m\u001b[0;34m(\u001b[0m\u001b[0;34m[\u001b[0m\u001b[0;34m]\u001b[0m\u001b[0;34m)\u001b[0m\u001b[0;34m\u001b[0m\u001b[0;34m\u001b[0m\u001b[0m\n",
      "\u001b[0;31mTypeError\u001b[0m: add_edge() missing 1 required positional argument: 'v_of_edge'"
     ]
    }
   ],
   "source": [
    "healthy_patient = nx.Graph()\n",
    "healthy_patient.add_nodes_from([0,1,2,3])\n",
    "healthy_patient.add_edge([2,1])\n",
    "healthy_patient.add_edge([])"
   ]
  },
  {
   "cell_type": "markdown",
   "metadata": {},
   "source": [
    "## Data from an Experiment\n",
    "### Experiment 1"
   ]
  },
  {
   "cell_type": "markdown",
   "metadata": {},
   "source": [
    "### Experiment 2\n",
    "We've got a whole bunch of people with anemia.\n",
    "We're going to see if a new drug, Awesomumab, increases the Hemoglobin in patients.\n",
    "We recruit about 500 patients for this study, 250 in the drug arm and 250 in the placebo arm.\n",
    "For each of the patients we have a pre-study hemoglobin and a post-study hemoglobin.\n",
    "We want to know if the patients that received Awesomumab had an elevated hemoglobin compared to those that received only placebo.\n",
    "\n",
    "Let's take a look at our data."
   ]
  },
  {
   "cell_type": "code",
   "execution_count": 3,
   "metadata": {},
   "outputs": [
    {
     "data": {
      "application/vnd.jupyter.widget-view+json": {
       "model_id": "1a17912fd07e47a2b4a0fcf2f40c2c15",
       "version_major": 2,
       "version_minor": 0
      },
      "text/plain": [
       "interactive(children=(IntSlider(value=0, description='mod_strength', max=10, min=-10), IntSlider(value=0, desc…"
      ]
     },
     "metadata": {},
     "output_type": "display_data"
    }
   ],
   "source": [
    "def sys(mod_strength,unknown_val):\n",
    "    ins_level = np.random.randint(0,10,size=(100,))\n",
    "    dz_state = np.zeros(100)\n",
    "    dz_state[60:] = 1\n",
    "    np.random.shuffle(dz_state)\n",
    "    \n",
    "    unknown_state = np.ones(100)\n",
    "    unknown_state[50:] = unknown_val\n",
    "    np.random.shuffle(unknown_state)\n",
    "    \n",
    "    blood_glucose = -(dz_state - 1)*(unknown_state) * 100 + (dz_state)*(unknown_state)*mod_strength*ins_level + np.random.normal(0,10,size=dz_state.shape)\n",
    "    #200*(-dz_state + 1) + (1-dz_state)*(10*ins_level - 100) + np.random.normal(0,10,size=dz_state.shape)\n",
    "\n",
    "    x = ins_level\n",
    "    y = blood_glucose\n",
    "    \n",
    "    #Plotting\n",
    "    fig = plt.figure()\n",
    "    ax = fig.add_axes([0,0,1,1])\n",
    "    #ax.axis('off')\n",
    "    ax.scatter(ins_level,blood_glucose)\n",
    "    #plt.xlim((-10,10))\n",
    "    #plt.ylim((-10,10))\n",
    "    pears = stats.pearsonr(x,y)\n",
    "    spear = stats.spearmanr(x,y)\n",
    "    plt.title(pears)\n",
    "    plt.show()\n",
    "    \n",
    "w = interactive(sys,mod_strength=(-10,10,1),unknown_val=(0,1,1))\n",
    "display(w)"
   ]
  },
  {
   "cell_type": "markdown",
   "metadata": {},
   "source": [
    "## The example\n",
    "\n",
    "We'll work in the context of Diabetes.\n",
    "Specifically, we're going to study how Pancreas $\\beta$ cells, insulin, blood glucose, and potassium all interact.\n",
    "\n",
    "The core of the example is developed and described [elsewhere]() as it is out of the scope of the discussion here.\n",
    "\n",
    "### "
   ]
  }
 ],
 "metadata": {
  "kernelspec": {
   "display_name": "Python 3",
   "language": "python",
   "name": "python3"
  },
  "language_info": {
   "codemirror_mode": {
    "name": "ipython",
    "version": 3
   },
   "file_extension": ".py",
   "mimetype": "text/x-python",
   "name": "python",
   "nbconvert_exporter": "python",
   "pygments_lexer": "ipython3",
   "version": "3.8.1"
  }
 },
 "nbformat": 4,
 "nbformat_minor": 4
}
