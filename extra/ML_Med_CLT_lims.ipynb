{
 "cells": [
  {
   "cell_type": "markdown",
   "metadata": {},
   "source": [
    "# Misunderstanding the central limit theorem\n",
    "\n",
    "The idea that we need large sample sizes to be able to trust a study's result comes from a result in math called the *Central Limit Theorem*.\n",
    "You can read about it in more detail [here]().\n",
    "\n",
    "Briefly, what the CLT says it that if you have an infinite number of observations of something you're interested in **and** those observations are independent of each other **and** those observations are identical, then you can assume \n",
    "\n",
    "## When observations aren't independent\n",
    "\n",
    "## When observations aren't identical\n",
    "The whole point of the CLT is that we can infer how a specific thing behaves if we have a very, very large number of *it*.\n",
    "The problem here in medicine is that we don't have *identically* distributed anything.\n",
    "If our goal is to understand how pancreatic beta cell activity affect mean blood glucose, how exactly are we going to get 1000 people with the exact same genetics, same life stressors, same diet, same socioeconomic status, same gender, same sleep cycle?\n",
    "If we can do that, then we have an \"identically distributed\" set of 1000 people so we can focus on the relationship we care about: beta cell activity and mean blood glucose.\n",
    "We'll never be able to do that.\n"
   ]
  }
 ],
 "metadata": {
  "kernelspec": {
   "display_name": "Python 3",
   "language": "python",
   "name": "python3"
  },
  "language_info": {
   "codemirror_mode": {
    "name": "ipython",
    "version": 3
   },
   "file_extension": ".py",
   "mimetype": "text/x-python",
   "name": "python",
   "nbconvert_exporter": "python",
   "pygments_lexer": "ipython3",
   "version": "3.8.2"
  }
 },
 "nbformat": 4,
 "nbformat_minor": 4
}
