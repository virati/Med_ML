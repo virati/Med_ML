{
  "nbformat": 4,
  "nbformat_minor": 0,
  "metadata": {
    "kernelspec": {
      "display_name": "Python 3",
      "language": "python",
      "name": "python3"
    },
    "language_info": {
      "codemirror_mode": {
        "name": "ipython",
        "version": 3
      },
      "file_extension": ".py",
      "mimetype": "text/x-python",
      "name": "python",
      "nbconvert_exporter": "python",
      "pygments_lexer": "ipython3",
      "version": "3.8.2"
    },
    "colab": {
      "name": "ML_Med_test_train.ipynb",
      "provenance": [],
      "collapsed_sections": [
        "MyCUItTQrwDO",
        "lAzjOspNrc04"
      ]
    },
    "widgets": {
      "application/vnd.jupyter.widget-state+json": {
        "fffe3b97e6b44a7499ca9bd12d4909ba": {
          "model_module": "@jupyter-widgets/controls",
          "model_name": "VBoxModel",
          "state": {
            "_view_name": "VBoxView",
            "_dom_classes": [
              "widget-interact"
            ],
            "_model_name": "VBoxModel",
            "_view_module": "@jupyter-widgets/controls",
            "_model_module_version": "1.5.0",
            "_view_count": null,
            "_view_module_version": "1.5.0",
            "box_style": "",
            "layout": "IPY_MODEL_577ed3cc496e41eaa1e60097ce3c8fbf",
            "_model_module": "@jupyter-widgets/controls",
            "children": [
              "IPY_MODEL_38f1e0df2acf4ef0beebbae61c865d88",
              "IPY_MODEL_2b67a742df7845d9b82b24c74b74c54c",
              "IPY_MODEL_b8366410ba034bb0bbaba544ec100e6f",
              "IPY_MODEL_8590d8f549954d578e2b1698692735fc",
              "IPY_MODEL_1fdee003214642f2944e2d0c3029e39b",
              "IPY_MODEL_69eb2237e41649299b6c39531b4282f3"
            ]
          }
        },
        "577ed3cc496e41eaa1e60097ce3c8fbf": {
          "model_module": "@jupyter-widgets/base",
          "model_name": "LayoutModel",
          "state": {
            "_view_name": "LayoutView",
            "grid_template_rows": null,
            "right": null,
            "justify_content": null,
            "_view_module": "@jupyter-widgets/base",
            "overflow": null,
            "_model_module_version": "1.2.0",
            "_view_count": null,
            "flex_flow": null,
            "width": null,
            "min_width": null,
            "border": null,
            "align_items": null,
            "bottom": null,
            "_model_module": "@jupyter-widgets/base",
            "top": null,
            "grid_column": null,
            "overflow_y": null,
            "overflow_x": null,
            "grid_auto_flow": null,
            "grid_area": null,
            "grid_template_columns": null,
            "flex": null,
            "_model_name": "LayoutModel",
            "justify_items": null,
            "grid_row": null,
            "max_height": null,
            "align_content": null,
            "visibility": null,
            "align_self": null,
            "height": null,
            "min_height": null,
            "padding": null,
            "grid_auto_rows": null,
            "grid_gap": null,
            "max_width": null,
            "order": null,
            "_view_module_version": "1.2.0",
            "grid_template_areas": null,
            "object_position": null,
            "object_fit": null,
            "grid_auto_columns": null,
            "margin": null,
            "display": null,
            "left": null
          }
        },
        "38f1e0df2acf4ef0beebbae61c865d88": {
          "model_module": "@jupyter-widgets/controls",
          "model_name": "CheckboxModel",
          "state": {
            "_view_name": "CheckboxView",
            "style": "IPY_MODEL_fbecd466808548a599a7228f381164cf",
            "_dom_classes": [],
            "description": "show_truth",
            "_model_name": "CheckboxModel",
            "_view_module": "@jupyter-widgets/controls",
            "_model_module_version": "1.5.0",
            "value": true,
            "_view_count": null,
            "disabled": false,
            "_view_module_version": "1.5.0",
            "indent": true,
            "description_tooltip": null,
            "_model_module": "@jupyter-widgets/controls",
            "layout": "IPY_MODEL_211000a038ed477da4b272745696d286"
          }
        },
        "2b67a742df7845d9b82b24c74b74c54c": {
          "model_module": "@jupyter-widgets/controls",
          "model_name": "CheckboxModel",
          "state": {
            "_view_name": "CheckboxView",
            "style": "IPY_MODEL_9ecb3273b23a4119b895c0c01da4c060",
            "_dom_classes": [],
            "description": "show_tr",
            "_model_name": "CheckboxModel",
            "_view_module": "@jupyter-widgets/controls",
            "_model_module_version": "1.5.0",
            "value": false,
            "_view_count": null,
            "disabled": false,
            "_view_module_version": "1.5.0",
            "indent": true,
            "description_tooltip": null,
            "_model_module": "@jupyter-widgets/controls",
            "layout": "IPY_MODEL_d1ff55406cb149a1a9a5cafedb860496"
          }
        },
        "b8366410ba034bb0bbaba544ec100e6f": {
          "model_module": "@jupyter-widgets/controls",
          "model_name": "CheckboxModel",
          "state": {
            "_view_name": "CheckboxView",
            "style": "IPY_MODEL_01c3081e6062422593007e01f6365ee2",
            "_dom_classes": [],
            "description": "show_te",
            "_model_name": "CheckboxModel",
            "_view_module": "@jupyter-widgets/controls",
            "_model_module_version": "1.5.0",
            "value": false,
            "_view_count": null,
            "disabled": false,
            "_view_module_version": "1.5.0",
            "indent": true,
            "description_tooltip": null,
            "_model_module": "@jupyter-widgets/controls",
            "layout": "IPY_MODEL_0996229403c94fa0b6d610e1880ec801"
          }
        },
        "8590d8f549954d578e2b1698692735fc": {
          "model_module": "@jupyter-widgets/controls",
          "model_name": "CheckboxModel",
          "state": {
            "_view_name": "CheckboxView",
            "style": "IPY_MODEL_cdd69db43f4a4585aeae8476b3d71698",
            "_dom_classes": [],
            "description": "show_model",
            "_model_name": "CheckboxModel",
            "_view_module": "@jupyter-widgets/controls",
            "_model_module_version": "1.5.0",
            "value": false,
            "_view_count": null,
            "disabled": false,
            "_view_module_version": "1.5.0",
            "indent": true,
            "description_tooltip": null,
            "_model_module": "@jupyter-widgets/controls",
            "layout": "IPY_MODEL_945574cc03604de49290f9506bc0de1f"
          }
        },
        "1fdee003214642f2944e2d0c3029e39b": {
          "model_module": "@jupyter-widgets/controls",
          "model_name": "CheckboxModel",
          "state": {
            "_view_name": "CheckboxView",
            "style": "IPY_MODEL_fa8b45b60d694420ade62c7abeec2378",
            "_dom_classes": [],
            "description": "show_pred",
            "_model_name": "CheckboxModel",
            "_view_module": "@jupyter-widgets/controls",
            "_model_module_version": "1.5.0",
            "value": false,
            "_view_count": null,
            "disabled": false,
            "_view_module_version": "1.5.0",
            "indent": true,
            "description_tooltip": null,
            "_model_module": "@jupyter-widgets/controls",
            "layout": "IPY_MODEL_fe68f7abc7f645ea9aad212d673c2baf"
          }
        },
        "69eb2237e41649299b6c39531b4282f3": {
          "model_module": "@jupyter-widgets/output",
          "model_name": "OutputModel",
          "state": {
            "_view_name": "OutputView",
            "msg_id": "",
            "_dom_classes": [],
            "_model_name": "OutputModel",
            "outputs": [
              {
                "output_type": "display_data",
                "metadata": {
                  "tags": []
                },
                "image/png": "iVBORw0KGgoAAAANSUhEUgAABIwAAANeCAYAAABwB5UFAAAABHNCSVQICAgIfAhkiAAAAAlwSFlzAAALEgAACxIB0t1+/AAAADh0RVh0U29mdHdhcmUAbWF0cGxvdGxpYiB2ZXJzaW9uMy4yLjEsIGh0dHA6Ly9tYXRwbG90bGliLm9yZy+j8jraAAAgAElEQVR4nOzdeZjWdaH//9cwrC6AC6t4xIVcUxEXVNxQBPdUKHcRzKWMVNJj2fGUmSdLwyWtSMGUyi1EDM2FVHLDJU1NK3dAFA1BRBHGmfv3R79zf/uczEpm+MwMj8d1eV183nNz36/xukp8+rnvqalUKpUAAAAAwP+vTdkDAAAAAGheBCMAAAAACgQjAAAAAAoEIwAAAAAKBCMAAAAACgQjAAAAAAoEIwBgpbTxxhvn1VdfLXsGAECz1LbsAQBA69e/f//qr5csWZL27duntrY2SfLNb34zBx54YFnTWoQrr7wyU6ZMyWuvvZY11lgjRxxxRI4//viPfOwLL7yQM888M7Nnz06SbL755vn617+ejTbaqPC4ZcuW5aCDDsp7772XGTNmNPn3AAC0LIIRANDknnjiieqvBw8enPPOOy877bTT3z3uww8/TNu2/njyf1UqlVxwwQXZeOONM2vWrIwePTq9evXKfvvt93eP7d69ey699NKss846aWhoyM9+9rOcdtppufXWWwuPu+qqq7LmmmvmvffeW1HfBgDQgnhLGgBQmpkzZ2bXXXfN+PHjs/POO+erX/1qJk+enMMPP7zwuL99+9iyZctywQUXZPfdd89OO+2Uc845Jx988MFHPv+rr76ao446KgMGDMgOO+yQU0899SMf9+677+bMM8/MwIEDs8cee+SKK65IQ0NDkmTy5Mk57LDDcu6552bAgAEZNmxYHnroocLv/drXvpZBgwZll112ybhx41JfX98Yf3uqPv/5z2fzzTdP27Zts8EGG2TPPffM7373u498bOfOndOnT5/U1NSkUqmktrY2s2bNKjxm9uzZmTp1ak444YRG3QkAtB7+Ex4AUKq//OUveeedd3LPPfekoaEht91228c+/sILL8ysWbMyZcqUtG3bNl/5yldy+eWXZ+zYsX/32EsuuSQ777xzrrnmmtTV1eXpp5/+yOf81re+lXfffTd33313Fi5cmNGjR6dbt24ZMWJEkuSpp57KsGHD8vDDD+euu+7KKaeckunTp6dr164566yzstZaa+XOO+/MkiVLcuKJJ6ZXr1457LDD/u51br311nzzm9/8h9/b1KlT07t374/9/iuVSh577LF87nOf+9jHbbvttnn//ffT0NCQMWPGFL523nnn5fTTT0/Hjh0/9jkAgJWXYAQAlKpNmzYZM2ZM2rdv/08fW6lUcsMNN2Tq1Knp2rVrkuTEE0/M2LFjPzIYtW3bNnPnzs2bb76Znj17Ztttt/27x9TX1+e2227LlClTstpqq2W11VbLcccdl6lTp1aD0Zprrpljjz02NTU12XfffTNhwoTce++9GTRoUO6777489thj6dixY1ZZZZWMHDky119//UcGowMOOCAHHHDAv/u3qOCyyy5LQ0NDDj300I993GOPPZb3338/N998c9ZZZ53q+V133ZX6+voMGTIkM2fOXK4tAEDrJRgBAKVaY4010qFDh3/psW+//XaWLFmSQw45pHpWqVSqbx/7v84444xccsklGT58eLp06ZLjjjsuw4cPLzxmwYIFqaurK9zZ07t378ybN6963aNHj9TU1BS+/uabb2bu3Ln58MMPM2jQoOrXGhoa0qtXr3/p+/l3TZo0KVOmTMnPf/7zfymwrbLKKjn88MOz44475rbbbkunTp3yve99L+PHj2+SfQBA6yEYAQCl+tsQkySdOnUqfCbRW2+9Vf31GmuskY4dO2batGnp0aPHP33ubt265bzzzkvy1ztujjvuuGy33XZZb731Cs/Zrl27zJ07t/qTxF5//fXC88+bNy+VSqW69fXXX8/gwYPTs2fPtG/fPg8//PC/9GHdU6dOzX//93//w69PmzbtH74l7aabbsr48ePzs5/9LD179vynr/W/GhoasmTJksybNy81NTV57bXXcuSRRyZJ6urq8u6772bnnXfO9ddfnz59+vzLzwsAtG4+9BoAaFY22WSTPP/883nuueeydOnSXHbZZdWvtWnTJiNGjMj555+f+fPnJ/lrzPntb3/7kc91++2354033kiSdOnSJTU1NWnTpvjHn9ra2gwbNizjxo3L4sWL89prr2XixIk58MADq495++23q5+DdPvtt+fFF1/Mbrvtlu7du2fnnXfOd77znSxevDgNDQ2ZNWtWHnnkkY/cc+CBB+aJJ574h3/9o1g0derUjBs3LhMnTsy66677sX//HnjggTz77LOpr6/P4sWL853vfCedO3fOhhtumH79+uXee+/NlClTMmXKlJx33nlZa621MmXKlCa7KwoAaJkEIwCgWVl//fXzxS9+MSNHjszee++dAQMGFL5+xhlnZL311stnP/vZbLPNNhk5cmRefvnlj3yup59+OiNGjEj//v1z8skn5+yzz/7I4PJf//Vf6dSpU/baa68cccQR2X///QufEbTlllvm1VdfzcCBA3PxxRfn0ksvzRprrJEk+e53v5u6urrsu+++2W677TJmzJjCXVGN4eKLL87ChQszfPjw9O/fP/37988555xT/fp+++2XqVOnJkkWLVqU008/Pdtuu2322muvzJo1K1deeWU6dOiQtm3bplu3btW/unTpkjZt2qRbt26pra1t1M0AQMtWU6lUKmWPAABoriZPnpwbb7wxv/jFL8qeAgCwwrjDCAAAAIACwQgAAACAAm9JAwAAAKDAHUYAAAAAFDSrYDR69OiyJwAAAACs9JpVMFqwYEHZEwAAAABWes0qGAEAAABQPsEIAAAAgALBCAAAAICCtmUPAAAAAGgKdXV1mTNnTj744IOyp6wQHTt2TJ8+fdKuXbvlfi7BCAAAAGiV5syZk9VXXz19+/ZNTU1N2XOaVKVSyfz58zNnzpysv/76y/183pIGAAAAtEoffPBB1lprrVYfi5KkpqYma621VqPdTSUYAQAAAK3WyhCL/ldjfq+CEQAAAAAFPsMIAAAAoAksWLAgI0eOTJL85S9/SZs2bbLmmmsmSW688ca0b9/+H/7eRYsW5dZbb82RRx6ZJJk5c2YmTJiQH//4x02+OxGMAAAAAJrEGmuskVtuuSVJctlll2WVVVbJ6NGjq1//8MMP07btR6eZRYsW5Re/+EU1GK1oghEAAADACnLWWWelffv2ee6557LNNttktdVWK4Sk/fffPz/60Y9y0UUXZdasWTnooIOy0047Zffdd8/777+fMWPG5M9//nM233zzXHjhhU32GU2CEQAAALBSOPSGQ//u7IBPHZCRW4/MkrolOermo/7u65/d7LP53Bafy9tL3s7nb/184Wu//OwvP9GOefPm5brrrkttbW0uu+yyj3zM2LFj8/zzz1fvUJo5c2aeffbZTJs2Ld27d8/hhx+exx9/PNtuu+0n2vDP+NBrAAAAgBVo2LBhqa2t/bd/35ZbbpmePXumTZs22WSTTfLaa681wbq/cocRAAAAsFL4uDuCOrXr9LFfX7PTmp/4jqK/e61Onaq/rq2tTUNDQ/V66dKl//D3/e2HZNfW1qa+vr5R9nwUdxgBAAAAlGSdddbJs88+myT5wx/+kDlz5iRJVl111bz33nul7RKMAAAAAEoydOjQvPPOO9lvv/0yadKk9O3bN8lff8LaNttsk/333z8XXHDBCt9VU6lUKiv8Vf+BQw45JJMnTy57BgAAANAKPPfcc9l0003LnrFCNdb37A4jAAAAAAoEIwAAAAAKBCMAAACg1WpGn8TT5BrzexWMAAAAgFapY8eOmT9//koRjSqVSubPn5+OHTs2yvO1bZRnAQAAAGhm+vTpkzlz5uStt94qe8oK0bFjx/Tp06dRnkswAgAAAFqldu3aZf311y97RovkLWkAAAAAFAhGAAAAABQIRgAAAAAUCEYAAAAAFAhGAAAAABQIRgAAAAAUCEYAAAAAFAhGAAAAABQIRgAAAAAUCEYAAAAAFAhGAAAAABQIRgAAAAAUCEYAAAAAFAhGAAAAABQIRgAAAAAUCEYAAAAAFAhGAAAAABQIRgAAAAAUCEYAAAAAFAhGAAAAABQIRgAAAAAUCEYAAAAAFAhGAAAAABQIRgAAAAAUCEYAAAAAFAhGAAAAABQIRgAAAAAUCEYAAAAAFAhGAAAAABQIRgAAAAAUCEYAAAAAFAhGAAAAABQIRgAAAAAUCEYAAAAAFAhGAAAAABQIRgAAAAAUCEYAAAAAFAhGAAAAABQIRgAAAAAUCEYAAAAAFAhGAAAAABQIRgAAAAAUCEYAAAAAFAhGAAAAABQIRgAAAAAUCEYAAAAAFAhGAAAAABQIRgAAAAAUCEYAAAAAFAhGAAAAABQIRgAAAAAUCEYAAAAAFAhGAAAAABQIRgAAAAAUNFowqq+vz2c+85mceOKJSZLZs2dnxIgRGTJkSE499dQsW7assV4KAAAAgCbUaMHommuuyYYbbli9vvDCCzNy5Mjcdddd6dy5c2666abGeikAAAAAmlCjBKM33ngj9957b4YPH54kqVQqefjhhzN06NAkycEHH5zp06c3xksBAAAA0MQaJRidf/75OeOMM9KmzV+fbsGCBencuXPatm2bJOnZs2fmzZvXGC8FAAAAQBNb7mB0zz33ZM0118wWW2zRGHsAAAAAKFnb5X2C3/3ud/nNb36TGTNmZOnSpVm8eHG+/e1vZ9GiRfnwww/Ttm3bvPHGG+nRo0dj7AUAAACgiS33HUZjx47NjBkz8pvf/Cbf//73M3DgwFx00UXZYYcdcscddyRJbr755gwePHi5xwIAAADQ9Brtp6T9X2eccUYmTpyYIUOGZOHChRkxYkRTvRQAAAAAjaimUqlUyh7xvw455JBMnjy57BkAAAAAK7Umu8MIAAAAgJZJMAIAAACgQDACAAAAoEAwAgAAAKBAMAIAAACgQDACAAAAoEAwAgAAAKBAMAIAAACgQDACAAAAoEAwAgAAAKBAMAIAAACgQDACAAAAoEAwAgAAAKBAMAIAAACgQDACAAAAoEAwAgAAAKBAMAIAAACgQDACAAAAoEAwAgAAAKBAMAIAAACgQDACAAAAoEAwAgAAAKBAMAIAAACgQDACAAAAoEAwAgAAAKBAMAIAAACgQDACAAAAoEAwAgAAAKBAMAIAAACgQDACAAAAoEAwAgAAAKBAMAIAAACgQDACAAAAoEAwAgAAAKBAMAIAAACgQDACAAAAoEAwAgAAAKBAMAIAAACgQDACAAAAoEAwAgAAAKBAMAIAAACgQDACAAAAoEAwAgAAAKBAMAIAAACgQDACAAAAoEAwAgAAAKBAMAIAAACgQDACAAAAoEAwAgAAAKBAMAIAAACgQDACAAAAoEAwAgAAAKBAMAIAAACgQDACAAAAoEAwAgAAAKBAMAIAAACgQDACAAAAoEAwAgAAAKBAMAIAAACgQDACAAAAoEAwAgAAAKBAMAIAAACgQDACAAAAoEAwAgAAAKBAMAIAAACgQDACAAAAoEAwAgAAAKBAMAIAAACgQDACAAAAoEAwAgAAAKBAMAIAAACgQDACAAAAoEAwAgAAAKBAMAIAAACgQDACAAAAoEAwAgAAAKBAMAIAAACgQDACAAAAoEAwAgAAAKBAMAIAAACgQDACAAAAoEAwAgAAAKBAMAIAAACgQDACAAAAoEAwAgAAAKBAMAIAAACgQDACAAAAoEAwAgAAAKBAMAIAAACgQDACAAAAoEAwAgAAAKBAMAIAAACgQDACAAAAoEAwAgAAAKBAMAIAAACgQDACAAAAoEAwAgAAAKBAMAIAAACgQDACAAAAoEAwAgAAAKBAMAIAAACgQDACAAAAoEAwAgAAAKBAMAIAAACgQDACAAAAoEAwAgAAAKBAMAIAAACgQDACAAAAoEAwAgAAAKBAMAIAAACgQDACAAAAoEAwAgAAAKBAMAIAAACgQDACAAAAoEAwAgAAAKBAMAIAAACgQDACAAAAoEAwAgAAAKBAMAIAAACgQDACAAAAoEAwAgAAAKBAMAIAAACgQDACAAAAoEAwAgAAAKBAMAIAAACgQDACAAAAoEAwAgAAAKBAMAIAAACgQDACAAAAoEAwAgAAAKBAMAIAAGCl8NDsh/Knv/yp7BnQIrQtewAAAAA0pVcXvpqdJ+ychkpDVmm3Sl4Y80LZk6DZE4wAAABolV5b9Fouf/TyTHpqUhoqDUmS2468reRV0DIIRgAAALQqT817Kj945Ae548U70qG2Q47e8uiM2WFMeqzWo+xp0GIIRgAAALQKf/rLn7LHT/eoXh+15VH58g5fzjqd1ylxFbRMghEAAAAt2sIPFuaHj/4wlz1yWfXs+uHXZ5f1dilxFbRsghEAAAAt0qKli/KTx3+Sq39/dd5e8nb23nDvHPHpI7L3hnuXPQ1aPMEIAACAFuWt997KoImD8u7Sd5MkB3zqgJy242nZZO1NSl4GrYdgBAAAQIvwwYcf5IBfHJA/vPmH6tkdR92RT/f4dImroHUSjAAAAGjWltUvy8+f/nkumXlJ5i2elyT55u7fzOcHfL7kZdB6CUYAAAA0S0vqluSmZ2/KJTMvyfwl87N1z61zxb5XZMd1dyx7GrR6ghEAAADNyrL6ZTlq8lG5f9b9SZJtem2TcUPHZdB/DEpNTU3J62DlIBgBAADQLDRUGnLrn27NydNOrp6dvO3J+fquXxeKYAUTjAAAAChVQ6UhNz17U6564qo8Pe/pJMmhmx6ai4ddnNo2tSWvg5WTYAQAAEApKpVKdpqwU15d+GqSZJO1N8kV+12RAz51gFAEJROMAAAAWKEqlUr2+/l+efKNJ6tnO627U64bfl3atvGvqdAc+F8iAAAAK8zMOTNz8PUHF87+eMof07lD55IWAR9FMAIAAKDJXfW7q/LdB7+bpR8uTbvadunSoUvuOfaerLXKWmVPAz6CYAQAAECTOXv62Zn45MTq9Td3/2aO2vKodGrXqcRVwD8jGAEAANDopv5pak761UmFsydPejLdV+1e0iLg3yEYAQAA0GheWfhKvvfA93LzH2+unk0/Zno27bZpiauAf5dgBAAAwHL72zuK1ui0Rk4ccGKO2eqYrL/G+iUvAz4JwQgAAIBP7KPeenbfyPuy9iprl7QIaAyCEQAAAP+2eYvnpf+P+xfOrjn4muy1wV4lLQIa03IHo9dffz1nnnlm5s+fn5qamnz2s5/Nsccem4ULF+a0007La6+9lnXWWScXX3xxunTp0hibAQAAKMnz85/PVU9clV8+98vq2eX7Xp6DNz24xFVAY1vuYFRbW5uzzjorm2++eRYvXpxDDz00O++8cyZPnpwdd9wxJ5xwQsaPH5/x48fnjDPOaIzNAAAArGC/f+P32edn+1SvD9/i8Hxphy+lb9e+5Y0Cmkyb5X2C7t27Z/PNN0+SrLbaatlggw0yb968TJ8+PZ/5zGeSJJ/5zGdy9913L+9LAQAAsILNemdWel/UuxCLJhw0IRcNvUgsglZsuYPR35ozZ06ee+65bLXVVpk/f366d++eJOnWrVvmz5/fmC8FAABAE3q/7v1c/sjlGXjlwOrZKdufkrlj52bYRsNKXAasCI32odfvvfdexowZk6997WtZbbXVCl+rqalJTU1NY70UAAAATeSdD97J4GsG5/V3X0/bNm3Tt2vfjO4/OqO3GV32NGAFapRgVFdXlzFjxuSAAw7I3nvvnSRZa6218uabb6Z79+558803s+aaazbGSwEAANAEFixZkM2v2LxwNuWwKdmm1zYlLQLKtNxvSatUKjn77LOzwQYb5LjjjqueDx48OFOmTEmSTJkyJXvuuefyvhQAAACNrK6+LkOuHVKIRUdveXTmjp0rFsFKbLnvMHr88cdzyy235FOf+lQOOuigJMnpp5+eE044Iaeeempuuumm9O7dOxdffPFyjwUAAKBx1NXXZdrz03LBAxfk1YWvJkk267ZZ7jr6Lh8pAqSmUqlUyh7xvw455JBMnjy57BkAAACtVl19Xfa6dq88P//5JMk2vbbJSduelP367ScUAVWN9qHXAAAANF/1DfXZ7IrN8u7Sd6tno/qPyrl7nJs2NY36A7SBVkAwAgAAaMUqlUp+8/JvcvTNRxfOXzn1lbSvbV/SKqC5E4wAAABaoUqlku8/9P08MPuBPDzn4STJKu1WyVMnP5VV2q1S8jqguROMAAAAWpljbj4md790d/X6or0vyvDNhqddbbsSVwEtiWAEAADQSnx7xrdz+aOXV697rtYz9468N507dC5xFdASCUYAAAAt3LNvPZvv3P+dwl1Fj53wWHqv3rvEVUBLJhgBAAC0UFP+OCVfmPaFJEnXjl1z8CYH55zdzkmP1XqUvAxo6QQjAACAFmb84+PzjXu/Ub3ead2dMuGgCd56BjQawQgAAKCFeOHtF7LrxF0LZ/eNvC/91upX0iKgtRKMAAAAmrnn5z+fq5+8Otc+dW317IYRN2TQfwwqcRXQmglGAAAAzdQ9L9+TIycfWb0+buvjcsr2p6TX6r1KXAWsDAQjAACAZmbmnJk5+PqDC2e/OuJX2abXNiUtAlY2ghEAAEAz8c4H7+S7D3w3E5+cWD07f8/zM3LrkeWNAlZKghEAAEDJ3lj8Rg676bAs+GBB3nrvrSTJuXucm+O3Ob7kZcDKSjACAAAoyex3ZmeHK3eoXm/abdNcd+h12bTbpiWuAhCMAAAAVrhFSxdlkx9sUji7YK8LcvRWR5e0CKBIMAIAAFhBltUvy/XPXJ9z7j2nerZvv31z5YFXlrgK4O8JRgAAAE1s8bLFOei6g/LcW8+lfW37bN1z6xy15VEZvtnwsqcBfCTBCAAAoIks/XBp1r9k/cLZRXtflEM2PSQ1NTUlrQL45wQjAACARtZQacjlj1ye/7n/f6pnPVfrmcdPeFwoAloEwQgAAKCRNFQa8tMnf5obnr0hv3/j90mStm3a5qUvv5S2bfzrF9By+H8sAACA5VSpVDJo4qC8vODlJEnfrn1z+b6X58CND0xtm9qS1wH8+wQjAACA5TDixhF5YNYD1euBfQbmF4f+Ih3adihxFcDyEYwAAAA+gUdfezTDbxyeuvq66tkfT/ljOnfoXOIqgMYhGAEAAPwbrn7y6nxt+tfSoW2HdO3YNb1W65VrD7423VbtVvY0gEYjGAEAAPwLvnHvNzL+8fHV66/s+JWM6j8qndp1KnEVQNMQjAAAAD7GXS/elWOnHFs4e+LEJ9JjtR4lLQJoeoIRAADAR3hpwUu5dOalueEPN1TP7j7m7mzWbbMSVwGsGIIRAADA37j+metz2h2nJUm6dOySL273xYzcemTW6bxOycsAVhzBCAAAIMm0P0/L52/9fOHsvpH3pfuq3UtaBFAewQgAAFipvfnem9nnZ/vk9Xdfr55ddeBV2affPiWuAiiXYAQAAKyUXnj7hZz/2/Pz4OwHs2jpoiTJJcMuyYjNR5S8DKB8ghEAALBSeebNZ7L3tXtXrz+3+efy5YFfTt+ufcsbBdDMCEYAAMBK4Y3Fb2SbH29TOLvywCuzb799S1oE0Hy1KXsAAABAU1pStyRXPHpFIRadtO1JmTt2rlgE8A+4wwgAAGiVFn6wMMMmDcusd2alQ9sOGdhnYA7c+MCM3Hpk2dMAmj3BCAAAaFUWfrAwm12+WeHsphE3ZUDvASUtAmh5BCMAAKBV+LDhw4yeOjp3vXhX9WzYRsMy4aAJJa4CaJkEIwAAoEWrq6/L5Ocm5weP/iAvvv1ikqTfWv1y77H3pqampuR1AC2TYAQAALRIdfV12Wb8Npn//vwkydY9t87EgyZmyIZD0qbGz/cBWB6CEQAA0KI0VBqy1Y+2qoaiJBm+2fBcPOxioQigkQhGAABAi1CpVHLvK/fmyMlHFs5f/vLL6dC2Q0mrAFonwQgAAGj2vvfA93LzH2/O7EWzkyS9Vu+VGSNnZNX2q5a8DKB1EowAAIBma9Qto/LrF35dvf7ukO/mc5t/Lu1q25W4CqD1E4wAAIBmZ/zj4/ONe79ROPvjKX9M5w6dyxkEsJIRjAAAgGbj7SVv5/Q7Ts+dL95ZPXvk84+kT+c+Ja4CWPn4EQIAAEDpnnj9iZx464l5ecHLeev9tzK6/+g8ceITmTt2rlgEUAJ3GAEAAKW55+V7qj/1rKamJkM3GppfHf6r1NTUlLwMYOUmGAEAACvc7HdmZ4crdyicPTjqwazXdb2SFgHwtwQjAABghZm3eF7eq3sve/x0j+rZ3cfcnc26bVbiKgD+L8EIAABocs+99VxG3jIy8xbPy4/2/1G+OuirOWjjg9Jr9V5lTwPgIwhGAABAk3nx7Rezy8Rdqtf7f2r/bN5t8wzbaFiJqwD4ZwQjAACg0S1auig/fuzHGffwuOrZtQdfmz032LPEVQD8qwQjAACg0SxetjiTnpqUXf5jl1z6yKXp2rFrLtjrghyw8QFlTwPg3yAYAQAAy+3tJW9nt6t3y/z35ydJJh40MTOPn5neq/cueRkAn4RgBAAAfGLv172fva7ZK68sfKV6dstht2S7dbYrbxQAy61N2QMAAICWp1Kp5PG5j2fQhEHVWPT1Xb+euWPnikUArYA7jAAAgH/Z0g+X5oeP/TC3/vnW/Gi/H2XjtTfOtwd/O/v026fsaQA0IsEIAAD4p+rq6zJq6qhMf2l6kmTLHlumodKQXxz6i5KXAdAUBCMAAOAfaqg0ZPJzkzPm9jHVs8O2OCwX7n1h2tT4hAuA1kowAgAA/k6lUskzbz6TP8//czUW7f+p/fPD/X6Y2ja1Ja8DoKkJRgAAQFWlUsm5952bHz/+49TU1OSuo+/KD/f7Yfb/1P5CEcBKRDACAACSJBc9eFEueuii/3e990X51FqfymbdNitxFQBlEIwAAGAl99S8p3L6Hafn2beeTZJs2m3TTD1salZtv2rJywAoi2AEAAArqSffeDLT/jwt2/beNm++92b27bdvLtr7onTp2KXsaawN1YIAACAASURBVACUTDACAICVzC+f/WW+dPuXkiRdO3bNcf2Py8PHP5xV2q1S8jIAmgvBCAAAVhIPzn4ww28YXr3u3KFzZh4/M6t3WL3EVQA0R4IRAAC0csvql+Wa31+Tc+45p3r20OiHsl7X9UpcBUBzJhgBAEAr9fCch3PpzEszZ9GcXDLsknxhuy/kxAEnptuq3cqeBkAzJxgBAEAr8+QbT2bfn+1bvR7Vf1T6rdUvX+/19RJXAdCSCEYAANBKvPXeWzl52sl5cPaD1bNbD781A3oPKHEVAC2RYAQAAC3cgiUL8uxbz+b2F27PQ3MeSpLcMOKGDPqPQSUvA6ClEowAAKCFmrNoTrb/yfZJkjU6rZFfH/nrjOo/KhussUHJywBo6QQjAABoYeYtnpedJuyUJXVLqme//Owvs26XdUtcBUBr0qbsAQAAwL/u2t9fm/4/7l+NReOGjsvcsXOzydqblLwMgNbEHUYAANDMLVq6KDf84Ya8veTtrNJulezWd7ccsskhGbH5iLKnAdBKCUYAANBMvV/3fg6+/uA8Pe/pJMmu6+2aSYdMyinbn1LyMgBaO8EIAACamQ8bPsyZd52Z6565rnp2xk5n5NSBp6ampqbEZQCsLAQjAABoJhoqDXnng3fy5V9/OXe/dHeSZFT/UfnWHt8SigBYoQQjAAAoWX1Dfb786y/n0bmPpt+a/TK6/+gc8ekjMnTDoUIRAKUQjAAAoCSVSiX/efd/ZtJTk6pnZ+9ydnbvu7tQBECpBCMAAFjBKpVKZrw6I4f/8vDq2a7r7ZprD7427WrblbgMAP5KMAIAgBXoodkPJUkue+SydO7QOf3W6pcbR9yYjm07lrwMAP4fwQgAAFaA8Y+Pzzfu/UaSZLe+u+UH+/4ga3ZaM+1r25c7DAA+gmAEAABN6Lpnrsvpd5xevR6y4ZD8eP8fu6MIgGZNMAIAgCbQUGnIibeemGnPT0uSdOnYJTNGzki3VbuVvAwA/jnBCAAAGtH9s+7PpKcmZYd1dkiP1Xrk1IGn5ugtj06v1XuVPQ0A/mWCEQAANIIZr87IYTcdVr3euufWOW/weSUuAoBPTjACAIDlMGfRnGz/k+0LZ/eNvC/91upX0iIAWH6CEQAAfALzFs9LkgydNLR6dufRd2aL7luUNQkAGo1gBAAA/4Y//uWPGfzTwWlf2z6j+o/KuKHjskX3LdJ79d5lTwOARiMYAQDAv+DlBS9n5wk7V683WnOjHLvVsVmv63olrgKApiEYAQDAx1hStyRXPHpFLnroourZTz/z0wzZcEiJqwCgaQlGAADwERYvW5wJT0zInuvvmev+cF226L5FTtn+lBy48YFlTwOAJicYAQDA31iwZEH2+OkeefO9N5Mkbdu0zfRjpqdzh84lLwOAFUcwAgCAJMvql2Wfn+2T5956rnp21YFXZZ9++5S4CgDKIRgBALBSq6uvy1vvv5UDf3Fg5r47N0ly1qCzMmaHMSUvA4DyCEYAAKyUltUvy3kzzsudL96Z7w75bgavPzj7bLRPdu+7e2pqasqeBwClEowAAFipfNjwYY6fenzufPHOJMm6XdZNp7ad8t0h3y15GQA0H4IRAAArhUqlkttfuD3HTz2+ejZisxEZN2xc2tS0KXEZADQ/ghEAAK1apVLJfa/el26rdKvGomEbDcv4A8anbRt/HAaAj+KfkAAAtEqVSiXnzTgvP3zsh0mSy/a5LDeMuCED+wwUigDgn/BPSgAAWp1xD43L9x78XvX6W3t8KwdufGDa1bYrcRUAtByCEQAArcZLC17KWXeflftn3Z8k2WjNjTLtiGlZvcPqJS8DgJbFp/sBANDiPT738Zz0q5NSV1+Xlxe+nGO2OibPfvHZzDhuhlgEAJ+AO4wAAGixpvxxSr4w7QtJki4du+S4rY/Lw6MfTm2b2pKXAUDLJhgBANDiPPfWc9nzmj2r1zU1NXlo9EPp2rFriasAoPUQjAAAaDHe+eCdPPLaIznuluOqZw+OfjB9u/YtbxQAtEKCEQAAzd6jrz2as6aflZcXvJxpR0zLKdufkuO3OT5rr7J22dMAoFUSjAAAaLaenvd0hk4aWr0+buvj0m3Vbjlr0FklrgKA1k8wAgCg2fnL+3/Jd+7/Tn7+9M+rZ7ccdku2W2e7ElcBwMpDMAIAoNlY+MHC3PHCHWlf2z7XPXNdampqct2h12WX9XYpexoArFQEIwAASjf33bnZ7ifbpVKppKamJveNvC+/Pe63WX+N9cueBgArJcEIAIDS/OX9v2Snq3bK4mWLq2d3H313NlpzoxJXAQBtyh4AAMDK6bbnb8uA8QOqsejCvS/M3LFzs2m3TUteBgC4wwgAgBXm3aXvZsITEzLztZkZs8OYDOwzMKP7j87eG+5d9jQA4G8IRgAANLkldUty6A2H5sk3nkySDOwzMP3W7Jfrh19f8jIA4KMIRgAANJn6hvp8/6HvZ9zD46pnp2x/Sr466KupqakpcRkA8HEEIwAAGl1DpSGz3pmVSU9NyhWPXpEkOXarY3P+nucLRQDQAghGAAA0moZKQ0799am56dmb0m3Vbrl++PUZ0GtAhm00TCgCgBZEMAIAYLlVKpWc/Zuzc/WTV1fPzt393HxqrU9lk7U3KW8YAPCJCEYAACyXB2c/mOE3DK9eD/qPQZl0yKS0r21f4ioAYHkIRgAAfCIPz3k4L7z9Qua+Oze9V++djdfeOFcecGU6tetU9jQAYDkJRgAA/Fuu+t1V+a97/itJsl7X9XLHUXfk1IGnuqMIAFoRwQgAgH/JLX+8JSdPO7l6vWWPLXPz5252RxEAtEKCEQAAH6u+oT7/fe9/Z8ITE5Ikq7VfLfePuj/dV+1e8jIAoKkIRgAAfKS7Xrwr1z1zXdrVtsteG+yVsTuOzTFbHZNuq3YrexoA0MQEIwAACu6fdX8+e+Nnq9djdhiTQzc9NDU1NSWuAgBWJMEIAIAkydx352ava/bKwg8WVs9+c+xvssnam5S4CgAog2AEALCSm7d4XhZ+sDD/efd/VmPR7Ufenq16blXyMgCgLIIRAMBK6s/z/5zdr949SbL9Otvn/D3PT5cOXbJO53XKHQYAlE4wAgBYyby68NXseNWO1ev2te1z8bCL07dr3/JGAQDNimAEALCSqFQqGffwuFz44IXVs4kHTczQjYaWuAoAaI4EIwCAVm7R0kW55vfXpE/nPnnurecyeP3BOXTTQ3PwpgeXPQ0AaKYEIwCAVmrhBwuz5zV75vV3X0+SHLXlUblivyvSrrZdycsAgOZOMAIAaGWW1S/LEb88Ig/OfrB6duHeF+aITx9R4ioAoCURjAAAWom6+rosrV+aYZOG5aUFLyVJvrLTV3L6jqeXvAwAaGkEIwCAFq6uvi5fuv1L+f2832f4psMzuv/obLDGBtl1vV1TU1NT9jwAoAUSjAAAWqgPGz7MibeemNtfuL16NqD3gOzed/fyRgEArYJgBADQwlQqldzx4h0Zdcuo6tkhmx6SS4Zdkto2tSUuAwBaC8EIAKCFqFQqueeVe9Knc5+cedeZSZIhGw7JlQdc6SefAQCNSjACAGjmKpVKLnjgglw689IkyYkDTswvP/vLrL/G+mnbxh/nAIDG508YAADN2A8e+UHO/+351euTtj0pXx30VXcUAQBNSjACAGiG3l7ydr542xdz3yv3JUnWX2P93H7k7encoXPJywCAlUGbsgcAAPD/3D/r/hw75dg8P//51NXXZcwOY/LMF57JA6MeEIsAgBXGHUYAAM3A1D9NzUm/OilJ0qamTQ7Z5JDcOOLG1NTUlLwMAFgZCUYAACV6acFLGTRhUOHs0c8/ml6r9yppEQCAYAQAUIo5i+akrr4uu129W/Xs/lH3Z4M1NihxFQDAXwlGAAAr0ONzH8+Rk4/M+3Xv5wf7/iDfHvzt7LPRPum2areypwEAVAlGAAArwB/e/EOGXDuken3Ipodk+3W2T8/Vepa4CgDgowlGAABNaMGSBfnBIz/IDx/7YfXs5s/dnB367FDiKgCAjycYAQA0gXc+eCcTnpiQYRsNy1VPXJX1uq6X/9nzf7J7393LngYA8E8JRgAAjeiNxW9khyt3SF19XZJks26b5bETHsvaq6xd8jIAgH+dYAQA0AjeXfpudrhyhyz8YGH17PYjb89WPbcqcRUAwCfTpqlfYMaMGRk6dGiGDBmS8ePHN/XLAQCsUA2Vhjw297HsPGHnaiy6YK8LMnfsXLEIAGixmvQOo/r6+px77rmZOHFievTokeHDh2fw4MHZaKONmvJlAQCa3OJlizPuoXG5/YXbc/Vnrs6A3gMyautR2WW9XcqeBgCw3Jo0GD311FNZb731su666yZJ9ttvv0yfPl0wAgBarA8+/CAjbhyRx+c+niTZtve2qUlNJh40seRlAACNp0nfkjZv3rz07Nmzet2jR4/MmzevKV8SAKBJ1DfUZ9JTk7LBJRtUY9FJ256UWw67Jf3W6lfyOgCAxuVDrwEAPkZDpSG/e/13mfXOrJx515lJkqO2PCoX7HVBampqSl4HANA0mjQY9ejRI2+88Ub1et68eenRo0dTviQAQKNoqDRk7B1jc/0frk+S3Hn0nZl40MQM2XBI2tQ0+c8NAQAoVZMGo09/+tN55ZVXMnv27PTo0SPTpk3LRRdd1JQvCQCwXCqVSs6555xc9cRV1bPL9708m669abbovkWJywAAVpwmDUZt27bNOeeck+OPPz719fU59NBD06+f9/gDAM3T717/XU799al54e0XkiQ7rrtjfn7Iz9OhbYeSlwEArFhN/hlGu+22W3bbbbemfhkAgE/s4TkP51d//lX2XH/PvFf3Xg7b4rCcN/i8rNJulbKnAQCUwodeAwArrYlPTMzZvzk7SdJt1W45eduT89Doh9K+tn3JywAAyiUYAQArnXtfuTdH/PKI6vU6ndfJjJEz0qldpxJXAQA0H4IRALDSeL/u/Ux6alK+ce83kiQd23bMQ6MfSo/V/BRXAIC/JRgBAK3e3S/dnUtnXpo333szPzngJzlt4Gk5YcAJ6dKxS9nTAACaJcEIAGi1Hpj1QEbcOKJ6/YXtvpAN1tggZ+x8RomrAACaP8EIAGh1Xn/39ZzwqxPy+NzHq2fTj5meTbttWuIqAICWQzACAFqNN997M8+8+Ux+++pv8/s3fp8kmXbEtPTv1b/kZQAALYtgBAC0eC+8/UJ2nbhrkqRLxy6Zfsz0jOo/Kut2WbfkZQAALZNgBAC0WLPemZWBVw4snN1+5O3pvXrvkhYBALQObcoeAADwSUx4YkIhFl154JWZO3Zu+nbtW94oAIBWwh1GAECLMf/9+fnZ0z/LgiUL0nv13hm60dActvlhGbrR0LKnAQC0KoIRANDsLVq6KEOuHZLZ78xOkgzZcEi+vuvX8/kBny95GQBA6yQYAQDNVl19Xb50+5cy9U9Tq2ff3P2bQhEAQBMTjACAZufDhg/z9pK3M/bOsZn+0vQkyWkDT8sZO59R8jIAgJWDYAQANBt19XU57pbj8tS8p7LJ2ptkzA5jMmrrUdm97+6pqakpex4AwEpDMAIASlffUJ8vTPtCbv3zrdWz0f1HZ+d1dxaKAABKIBgBAKW688U7M3LKyOr1gRsfmMv3vTy1bWrLGwUAsJITjACAFa5SqeTeV+5NbZvaXP3k1em+avd8usenM+HACWlX267sefD/tXffcVrVB77HvzMUK02UUZRiQcVeo2JHERRQgi2xghpTkJUrUWOuaxLNWtZNNHFjITGKsayxYkRBIBHQmFiyijFqxIgrUUZBERWR9tw/7t3n5mw0KgycKe/3X3N+w7zm+8dxePh4ZgYAWjzBCABYrS5/9PJc8bsrkiT799w/Px7w43Raq1Na13pZAgDQWHhlBgCsFj/7w89ywW8uqF4fvtXhuerQqzxRBADQCAlGAMAqtbyyPMPHDc+klyclSXp07JGJJ0xM+zXal7wMAIBPIhgBAKvEhJkTcvtzt+cLXb+QLdfbMrt33T1f3u7L6bx257KnAQDwKQQjAKBBjf/z+HzlV1+pXu/bfd/87/3+d4mLAAD4vAQjAKBBzJo/K32u71M4+91pv0v3Dt1LWgQAwIoSjACAlfLau6+lVW2rDLp1UPVs2vBp2WK9LUpcBQDAyhCMAIAV8oc3/pBBtw5Kq9pWOXnHk/OTw36S3hv0Tpd1upQ9DQCAlSQYAQCfy/NvPZ+Dbjqoer1j3Y4ZsfuIbNRuoxJXAQDQkAQjAOAzWbhkYX742A9z9RNXV8/uPObO9OnW5x98FAAATZFgBAD8Q/MXzc+Yp8ak/+b988BLD2TPTfbMiN1H5KDNDvr0DwYAoEkSjACAj1X/fn32vH7PfLT0oyRJu7btMuWkKVmrzVolLwMAYFUTjACAgg+XfJj9b9w/sxfMrp7dMvSWHLjpgSWuAgBgdRKMAIAkyeJlizNv4bwMuGVA3vrgrSTJJQddkpN3OrnkZQAArG6CEQC0cAuXLMy3p3w7016dln/t968ZstWQHNrr0Oy5yZ5lTwMAoCSCEQC0UB8t/SjH3nlsHv/r40mSTTttmk5rdsr3DvxeycsAACibYAQALcyy5csy7sVxOeOBM6pnp+1yWr53wPdSU1NT4jIAABoLwQgAWojlleV56OWH0r1D94x8cGSS5EvbfSn/dsi/pbamtuR1AAA0JoIRADRzyyvLc86kc3Lrs7cmSa4ccGXu+9J92XmjnYUiAAA+lmAEAM1UpVLJdx/+bn76h59Wzy49+NIc2fvItKptVeIyAAAaO8EIAJqhmW/PzOiHRueJvz6RJNmt62755dG/zJqt1yx5GQAATYHn0AGgGZn26rScfO/JWV5ZnnkL52XE7iPy0siXct+X7xOLAAD4zDxhBADNwE3P3JRvTf5WkmT9tdfP/EXzM334dL/1DACAFSIYAUATNqN+RgbcPKB63XHNjnn0lEfTbo12Ja4CAKCpE4wAoAl664O38vScp3PyvScnSdq0apPfn/b7bLjuhiUvAwCgORCMAKAJeXjWwzln0jmp/6A+Dx7/YM7d+9wM22lYOqzZoexpAAA0I4IRADQBv5v9uwy9fWj1+uu7fT0brbtRztzzzBJXAQDQXAlGANCIzXl/Tv5l2r/krufvqp5NOnFStu2ybYmrAABo7gQjAGiE3vrgrdz/5/vTZZ0uGffiuHRcs2N+8cVfZNeuu5Y9DQCAFkAwAoBG5C/v/CX7/HyfJEmr2lb5zcm/yWOnPpaN229c8jIAAFoSwQgAGoE578/JLtftUjibOmxqNuu0WUmLAABoyWrLHgAALVmlUsl9L96XL/z0C9Wzawddm9dHvy4WAQBQGk8YAUAJ3vnwnVzz5DV5/K+P55/3++ccuOmBOX2X07N3973LngYAAIIRAKxOCz5akAE3D8is+bOSJPv33D89OvbI2CFjyx0GAAB/QzACgNVgybIluezRy3L1E1dXz76977dzxhfOKHEVAAB8PMEIAFahpcuXZubbM3Pnn+6sxqJ/2uOfcu7e56ampqbkdQAA8PEEIwBYBZYsW5LTfnVaJr08KZ3W6pR7j703fbr1yYE9DxSKAABo9AQjAGhAy5Yvy8gHR+beF+6tnv3gkB9ki/W2SK/OvUpcBgAAn51gBAAN5OFZD+e4u46rXg/sNTDXDLomrWv9dQsAQNPiFSwArIRKpZKpr07NzLdn5r2P3kvPjj2zy0a75Ir+V6RNqzZlzwMAgBUiGAHACvrBb3+QHzz2gyTJpp02zYTjJ+SML5whFAEA0OQJRgDwOf3HH/8jZ008q3rdp1uf3HrkrWnbqm2JqwAAoOEIRgDwGS1ZtiQX/OaCjH1mbJJk4/YbZ/KJk9NhzQ4lLwMAgIYlGAHAp7jn+Xtyx5/uyBqt18jQrYdmk/ab5MQdT0z7NdqXPQ0AAFYJwQgAPsGEmRNyyrhTqtdn9zk7g7YclJqamhJXAQDAqicYAcD/MGv+rPQd2zeLli6qnj126mPp0bFHiasAAGD1EYwA4P+ZvWB25i+an+8+/N1qLJo6bGp6de5V8jIAAFi9BCMAWryn5zydw245LEmya9dd88NDfpj2a7RP3bp1JS8DAIByCEYAtFgvzH0hfcf2rV63X6N9rht0Xbq261riKgAAKJ9gBECLU6lUcukjl+aqx6+qnv3y6F9mn+77lLgKAAAaD8EIgBbjrQ/eythnxqZb+27563t/zeAtB+eobY5Kv837lT0NAAAaFcEIgGbvzQ/eTJ/r+2ThkoVJkmE7DcuPBvworWpblbwMAAAaJ8EIgGbrwyUf5ou3fzEz6mdUz64eeHWGbD2kxFUAAND4CUYANDuLly3OoqWLMuDmAZk1f1aS5KIDL8qpu5xa7jAAAGgiBCMAmo0Pl3yY4eOG56W3X8qRvY/MyC+MzGadNssem+xR9jQAAGhSBCMAmrzFyxbnuLuOy29f+231bL8e+/mtZwAAsIIEIwCarGXLl+W+F+/LiAdGVM+G7zQ83+/7/dTU1JS4DAAAmjbBCIAmp1Kp5MGZD2bTjpvmwmkXpramNkf2PjJXDLgitTW1Zc8DAIAmTzACoMmoVCo5b8p5uemZm5Ikp+96eu459p5079BdKAIAgAYkGAHQ6FUqlfzL9H/J1U9cXT07c48zM7rP6LSu9VcZAAA0NK+yAWjU3v7w7Zx636n5/ezfJ0l23mjn3Hn0nVmrzVolLwMAgOZLMAKgUZowc0JuePqGjPzCyLRr2y7f2udbGb7T8LRbo13Z0wAAoNkTjABoVG599tZ886FvJkla17bOCdufkJu+eFPJqwAAoGURjABoFJ5/6/kcdNNB1ev2a7TPI6c8kvXXXr/EVQAA0DIJRgCU6pV3XkmSHPyLg5MkNTU1eeIrT6Rru65lzgIAgBZNMAKgFNNfnZ5j7zw2tTW1uaL/Fbmy/5Xpt3m/dFyzY9nTAACgxROMAFitnvjrEzniP46oXh+77bHpu2nfdF67c4mrAACAvyUYAbBazFs4Lz987Ie54ekbqmcTT5iY7eu2L3EVAADwcWrLHgBA8zZ34dxcMv2SzF04N7c/d3u267Jdxn1pXF4f/bpYBAAAjZQnjABYJWbNn5U+1/dJktTW1GaXjXbJH776h7Rfo33JywAAgE8jGAHQoN5d9G56/6R34WzSiZPSe4Pen/ARAABAYyMYAdAgli5fmv984z9z0r0nVc+uGXhNjtj6iH/wUQAAQGMkGAGwUuYvmp+Lp1+cKa9Mya1Db82BPQ/MqTufml277lr2NAAAYAUJRgCskPc+ei8Dbx2YmW/PTJLs032ftK5tnasHXl3yMgAAYGUJRgB8LkuWLckvZvwi5//6/OrZuXufmzP3PLPEVQAAQEMSjAD4TJYuX5rHXnss7yx6pxqLzvjCGTlvn/NSU1NT8joAAKAhCUYA/ENLly/N6b86PRNmTkiSTDxhYm478rbs12M/oQgAAJopwQiAj7W8sjyjJozKnX+6s3p2/eHXZ7su2wlFAADQzAlGAPydJ/76RP5pwj/l1fmvJkkGbDEgYwaPSetaf20AAEBL4JU/AEmSSqWSKa9MyQMvPZChvYemUqnkq7t+Nefte17atmpb9jwAAGA1EowAyI9+96Nc9uhlSZKu7brmrL3OyiOnPOKJIgAAaKH8SwCgBZswc0JOGXdK9br3Br3z4PEPeqIIAABaOMEIoAVa8NGC3DLjllw07aIkSd26dfn1Sb9Op7U6lbwMAABoDAQjgBZk3Avj8uPHf5x3PnwnNw+9OUuXL80pO5+SddquU/Y0AACgERGMAFqASS9Pysn3nly9Hr3X6PTs2DMj9xhZ4ioAAKCxEowAmrFX57+a0+8/Pc/WP1s9++2pv03Pjj3LGwUAADR6ghFAM/T6e69nRv2MPPX6U/nzvD+ntqY2k0+anK3X37rsaQAAQBMgGAE0I8/WP5v+N/dPknRYs0MePvnhnLbLaalbt67kZQAAQFMiGAE0Ay/Neyn737h/4WzyiZOFIgAAYIXUlj0AgJUz5qkxhVh025G35fXRr2fj9huXuAoAAGjKPGEE0AS98d4buemZm/LOoneyzQbb5PCtDs+JO5yYvbvvXfY0AACgGRCMAJqQtz54K/vesG8WfLQgSTKw18Acv/3xOWnHk0peBgAANCeCEUATsGjponz1/q9m0suTqmc/OOQH+fL2Xy5xFQAA0FwJRgCN2OJlizN34dycM+mc/PqVXydJvrP/d/LV3b5a8jIAAKA5E4wAGqFFSxfl6DuOzgtzX8g2G2yT8/c9PyN2H5G9uu1V9jQAAKAFEIwAGpEly5bkhHtOyPRXp1fPztrzrOzWdbfU1NSUuAwAAGhJBCOARuK+F+/L1+7/WvX6pB1PyiUHXSIUAQAAq51gBFCiSqWSCTMnpHVt69z9/N3p0bFHdu+6e67of0Va1bYqex4AANBCCUYAJahUKjn/1+fnhqdvSJIcuOmB+clhP0m7tu2EIgAAoHSCEcBqVKlUcuXvrszlv728enbstsfm8kMuT+taX5IBAIDGwb9OAFaTZcuX5YR7TsjUWVOTJDvU7ZC7j707a7dZu+RlAAAARYIRwCp2+x9vzz0v3JM9N9kzu220Ww7a9KAcs+0xab9G+7KnAQAAfCzBCGAVuf2Pt+d/Tfxf1evDeh2Wk3Y8qcRFAAAAn41gBNDAXpz7Yg4ce2D1ep226+SR4Y+kbt26ElcBAAB8doIRQAP5yzt/SZvaNjnqjqOqZ49/5fFs0n6TElcBAAB8foIRwEp65L8eyTF3HJMkOXnHkzNm0Jhsvf7W6bRWp5KXAQAArBjBCGAFPfX6Uxl82+Dq9V7d9sroPqOz/trrl7gKAABg5QlGAJ/TB4s/yKWPXJrr//P66tmDxz+YHTfcscRVAAAADUcwAviM3vzgzVz35HU5rNdhefS1R3PwZgfnG7t/I3tu/qGEBwAAFepJREFUsmfZ0wAAABqUYATwKV6d/2r2un6v6nXdunWZeMLEtGnVpsRVAAAAq45gBPAJ3vvovez+092z4KMF1bM7j7kzfbr1KXEVAADAqicYAfwPC5cszLuL3s1BNx1UjUX/fti/Z2jvoSUvAwAAWD0EI4D/591F7+bMCWfmqTeeyqUHXZqTdzw5A7YY4IdZAwAALY5gBLR47y9+P4NvG5wX576YJOm9Qe9069AtA7ccWPIyAACAcghGQIu1ZNmS3PGnO/LNh75ZPRu91+iM7jO6xFUAAADlE4yAFmfZ8mX51Z9/la06b5VzJp2TJPn6bl/P+fudn5qampLXAQAAlE8wAlqMpcuX5uv3fz3jXxqfJLmi/xWZeMLEbLPBNkIRAADA3xCMgGZveWV5Rk8cndufu716duWAK3PUNkeltqa2xGUAAACNk2AENGsvzXspIx8cmRn1M5Ik/Tbvl58N/lnatGpT8jIAAIDGy/9aB5qdSqWSB156IMfccUySZMnyJfnWPt/KK2e+krFDxopFAAAAn8ITRkCz8u+P/3sunn5xkqRu3brMXzQ/k0+c7GcUAQAAfA6CEdAsPPn6kzn8tsOr1z079szkkyZn7TZrl7gKAACgaRKMgCbtrwv+mj+99aecfO/JSZL1114/Dw97OOuttV7JywAAAJouwQhokn714q/yzUnfzAeLP8iDxz+Y7+z/nRy/w/FZt+26ZU8DAABo8gQjoEmZ/JfJOemek6rXo/YclR4de2T7uu1LXAUAANC8CEZAkzB7wexcNPWi/OrPv6qeTR8+PZuvt3mJqwAAAJonwQho1N54743c88I96bVer0x8eWJ6duyZ6w+/Pr036F32NAAAgGZLMAIapefefC79ftEvSdKmVZtMPnFyHv/K4+myTpeSlwEAADR/ghHQqPzXu/+VPX+2Z+Hs0VMezSbtNylpEQAAQMsjGAGNQqVSyX0v3pczHjyjenbL0Fty4KYHlrgKAACgZRKMgFLVv1+fH//+x3nyjSfzrwf/awb2Gpiv7fa17LThTmVPAwAAaLEEI6AU8xbOy3437pd3PnwnSdJ/i/7ZpP0muXbQtSUvAwAAQDACVquPln6UC6demBuevqF6dunBl+akHU8qcRUAAAB/SzACVosly5bk+bnP5/4/31+NRefvd36+sfs3Sl4GAADA/yQYAavUR0s/ytF3HJ0nX38y7ddon/HHjc/+PfbP3t33LnsaAAAAn0AwAlaJJcuWZNi4YfnNK7+pnl076Nps1mmzbL7e5iUuAwAA4NPUrswHX3bZZRkwYEAGDx6cESNGZMGCBdX3XXfddenXr1/69++f6dOnr/RQoOmY9PKk9LiyRzUWHbf9cZl91uwc0POA1NTUlLwOAACAT7NSTxjtvffeGT16dFq3bp3LL7881113Xc4+++zMnDkz48ePz/jx41NfX5/hw4dn4sSJadWqVUPtBhqZ5ZXleejlhzLz7ZmpralNr869sm/3ffO9A76XVrX+2wcAAGhKVioY7bPPPtW3d9ppp0yYMCFJMmXKlAwcODBt27ZNt27d0qNHj8yYMSM777zzyq0FGp1KpZLvPvzd/PQPP02SbNl5y4w/bny+uutXhSIAAIAmaqW+Je1v3XXXXdlvv/2SJPX19dlwww2r76urq0t9fX1DfSqgkfj5f/48G/9w42os6rd5v0w+aXLWabuOWAQAANCEfeoTRsOGDcvcuXP/7nzUqFE5+OCDkyTXXHNNWrVqlcMPP7zhFwKNzqKli/LPv/7n3PLsLUmSbbtsm3uPvTfrtF2n5GUAAAA0hE8NRjfeeOM/fP/dd9+dhx9+ODfeeGP1h9nW1dVlzpw51T9TX1+furq6lVsKlG7s02Nz9wt3Z50262TYTsOy1fpb5fjtj89abdYqexoAAAANaKV+htG0adPys5/9LDfffHPWWuv//4Oxb9++GT16dIYPH576+vrMmjUrO+yww0qPBcpxx3N35MwJZ1avz9/v/By82cGprWmw72oFAACgEVmpYHTRRRdl8eLFGT58eJJkxx13zIUXXphevXrl0EMPzWGHHZZWrVrlggsu8BvSoAn687w/54AbD6her9F6jfzu1N+lbl1PDAIAADRnNZVKpVL2iP82dOjQ3H333WXPgBbvlXdeyTuL3sllj16W6a9OT5L8/rTfp1uHbiUvAwAAYHVYqSeMgOblsdcey5G/PDJJsvNGO+cnh/0k7ddon/XWWq/kZQAAAKxOghGQP7zxhwy6dVD1um7dutxwxA3psk6XElcBAABQFsEIWrBKpZKLpl2Ua5+8tnp2/3H3Z5eNdilxFQAAAGUTjKAFeu3d1zL2mbHp3qF7Fny0IEdvc3S+tN2Xsle3vcqeBgAAQCMgGEEL8tq7r2WPn+1RvT5tl9Nyeb/LU1NTU+IqAAAAGhvBCFqA9xe/n0NvOTQvv/1y9ezGITfmkM0PKXEVAAAAjZVgBM3YwiULs3jZ4hx6y6F5df6rSZIrB1yZY7Y9puRlAAAANGaCETRDCz5akKPvODpvvPdGvrj1F3NOn3PSs2PP7LzRzmVPAwAAoAkQjKAZWbhkYQ6/7fD86a0/JUlqamoyeKvB2a3rbiUvAwAAoCkRjKAZWLp8ae780505a+JZ1bNRe47KOXufU+IqAAAAmirBCJqwZcuXZdyL47JV563yw8d+mPZrtM/R2xydCw+80G8+AwAAYIUJRtAELVu+LCMeGJH7XrwvSXL6rqdn3JfGZcN1NxSKAAAAWGmCETQhlUol5005Lzc9c1P17Ny9z83IPUamtqa2xGUAAAA0J4IRNAGVSiXzF83P8Xcfn6fnPJ0kOaDnARk7ZGzatGpT8joAAACaG8EIGrlfPvfL3PLsLRm1x6h079A9R21zVI7b/ris2XrNsqcBAADQTAlG0Ehd++S1uXDqhUmSNq3aZNHSRbl20LUlrwIAAKAlEIygkXlmzjM59JZDq9fdOnTLpBMnpf0a7UtcBQAAQEsiGEEj8fxbz2fN1mvmsFsPS5J0WqtTpg2bls5rdy55GQAAAC2NYAQle+ClB3LafaclSf7tkH/LtQOvzQE9D0i7NdqVvAwAAICWSjCCkjw86+Ecd9dx1ethOw3LwF4D02HNDiWuAgAAAMEIVrs3P3gzlz1yWW77423Vs2nDp2WL9bYocRUAAAD8f4IRrGaVSiXjXxqfPt365HsHfC/bdtm27EkAAABQIBjBala3bl2eOv2prNN2nbKnAAAAwMeqLXsAtERiEQAAAI2ZYAQAAABAgWAEAAAAQIFgBAAAAECBYAQAAABAgWAEAAAAQIFgBAAAAECBYAQAAABAgWAEAAAAQIFgBAAAAECBYAQAAABAgWAEAAAAQIFgBAAAAECBYAQAAABAgWAEAAAAQIFgBAAAAECBYAQAAABAgWAEAAAAQIFgBAAAAECBYAQAAABAgWAEAAAAQIFgBAAAAECBYAQAAABAgWAEAAAAQIFgBAAAAECBYAQAAABAgWAEAAAAQIFgBAAAAECBYAQAAABAgWAEAAAAQIFgBAAAAECBYAQAAABAgWAEAAAAQIFgBAAAAECBYAQAAABAgWAEAAAAQIFgBAAAAECBYAQAAABAgWAEAAAAQIFgBAAAAECBYAQAAABAgWAEAAAAQIFgBAAAAECBYAQAAABAgWAEAAAAQIFgBAAAAECBYAQAAABAgWAEAAAAQIFgBAAAAECBYAQAAABAgWAEAAAAQIFgBAAAAECBYAQAAABAgWAEAAAAQIFgBAAAAECBYAQAAABAgWAEAAAAQIFgBAAAAECBYAQAAABAgWAEAAAAQIFgBAAAAECBYAQAAABAgWAEAAAAQIFgBAAAAECBYAQAAABAgWAEAAAAQIFgBAAAAECBYAQAAABAgWAEAAAAQIFgBAAAAECBYAQAAABAgWAEAAAAQIFgBAAAAECBYAQAAABAgWAEAAAAQIFgBAAAAECBYAQAAABAgWAEAAAAQIFgBAAAAECBYAQAAABAgWAEAAAAQIFgBAAAAECBYAQAAABAgWAEAAAAQIFgBAAAAECBYAQAAABAgWAEAAAAQIFgBAAAAECBYAQAAABAgWAEAAAAQIFgBAAAAECBYAQAAABAgWAEAAAAQIFgBAAAAECBYAQAAABAgWAEAAAAQIFgBAAAAECBYAQAAABAgWAEAAAAQIFgBAAAAECBYAQAAABAgWAEAAAAQIFgBAAAAECBYAQAAABAgWAEAAAAQIFgBAAAAECBYAQAAABAgWAEAAAAQIFgBAAAAECBYAQAAABAgWAEAAAAQIFgBAAAAECBYAQAAABAgWAEAAAAQIFgBAAAAECBYAQAAABAgWAEAAAAQIFgBAAAAECBYAQAAABAgWAEAAAAQIFgBAAAAECBYAQAAABAgWAEAAAAQIFgBAAAAECBYAQAAABAgWAEAAAAQIFgBAAAAECBYAQAAABAgWAEAAAAQIFgBAAAAECBYAQAAABAQYMEo5///OfZaqut8vbbbydJKpVKvv/976dfv34ZPHhwnnvuuYb4NAAAAACsBisdjN544408+uij6dq1a/Vs2rRpmTVrVh566KFcdNFF+e53v7uynwYAAACA1WSlg9Ell1ySs88+OzU1NdWzKVOmZMiQIampqclOO+2UBQsW5M0331zZTwUAAADAarBSwWjy5Mnp0qVLtt5668J5fX19Ntxww+r1hhtumPr6+pX5VAAAAACsJq0/7Q8MGzYsc+fO/bvzUaNG5brrrsvPf/7zVTIMAAAAgHJ8ajC68cYbP/b8xRdfzOzZs3PEEUckSebMmZOhQ4fmjjvuSF1dXebMmVP9s3PmzEldXV3DLAYAAABglfrUYPRJttpqqzz22GPV6759++bOO+/Meuutl759++bmm2/OwIED88wzz6Rdu3bp0qVLgwwGAAAAYNVa4WD0j+y///6ZOnVq+vXrl7XWWisXX3zxqvg0AAAAAKwCNZVKpVL2iP82dOjQ3H333WXPAAAAAGjRVuq3pAEAAADQ/AhGAAAAABQIRgAAAAAUCEYAAAAAFAhGAAAAABQIRgAAAAAUCEYAAAAAFAhGAAAAABQIRgAAAAAUCEYAAAAAFAhGAAAAABQIRgAAAAAUCEYAAAAAFAhGAAAAABQIRgAAAAAUCEYAAAAAFAhGAAAAABQIRgAAAAAUCEYAAAAAFAhGAAAAABQIRgAAAAAUCEYAAAAAFAhGAAAAABQIRgAAAAAUCEYAAAAAFAhGAAAAABQIRgAAAAAUCEYAAAAAFAhGAAAAABQIRgAAAAAUCEYAAAAAFAhGAAAAABQIRgAAAAAUCEYAAAAAFAhGAAAAABQIRgAAAAAUCEYAAAAAFAhGAAAAABQIRgAAAAAUCEYAAAAAFAhGAAAAABQIRgAAAAAUCEYAAAAAFAhGAAAAABQIRgAAAAAUCEYAAAAAFAhGAAAAABQIRgAAAAAUCEYAAAAAFAhGAAAAABQIRgAAAAAUCEYAAAAAFAhGAAAAABQIRgAAAAAUCEYAAAAAFAhGAAAAABQIRgAAAAAUCEYAAAAAFAhGAAAAABQIRgAAAAAUCEYAAAAAFAhGAAAAABQIRgAAAAAUCEYAAAAAFAhGAAAAABQIRgAAAAAUCEYAAAAAFAhGAAAAABQIRgAAAAAUCEYAAAAAFAhGAAAAABQIRgAAAAAUCEYAAAAAFAhGAAAAABQIRgAAAAAUCEYAAAAAFNRUKpVK2SP+2x577JGNN9647BkAAAAAzUanTp1y/fXXf66PaVTBCAAAAIDy+ZY0AAAAAAoEIwAAAAAKBCMAAAAACgQjAAAAAAoEIwAAAAAKBCMAAAAAChpFMHrwwQczcODAbL311nn22Wer57Nnz84OO+yQI444IkcccUQuuOCCElfCyvmk+zxJrrvuuvTr1y/9+/fP9OnTS1oIDeuqq67KvvvuW/0aPnXq1LInQYOZNm1a+vfvn379+mXMmDFlz4FVom/fvhk8eHCOOOKIDB06tOw50CDOO++87LXXXhk0aFD1bP78+Rk+fHgOOeSQDB8+PO+++26JC2Hlfdx9viKvzVuvypGf1ZZbbpmrrroq3/nOd/7ufd27d8+4ceNKWAUN65Pu85kzZ2b8+PEZP3586uvrM3z48EycODGtWrUqaSk0nGHDhuXUU08tewY0qGXLluXCCy/MDTfckLq6uhx11FHp27dvtthii7KnQYMbO3Zs1ltvvbJnQIMZOnRoTjjhhJx77rnVszFjxmSvvfbK6aefnjFjxmTMmDE5++yzS1wJK+fj7vPk8782bxRPGG2++ebZbLPNyp4Bq9Qn3edTpkzJwIED07Zt23Tr1i09evTIjBkzSlgIwGcxY8aM9OjRI926dUvbtm0zcODATJkypexZAHwGu+++ezp06FA4mzJlSoYMGZIkGTJkSCZPnlzGNGgwH3efr4hGEYz+kdmzZ2fIkCE54YQT8uSTT5Y9BxpcfX19Ntxww+p1XV1d6uvrS1wEDeeWW27J4MGDc95553m8m2bD121aklNPPTVDhw7N7bffXvYUWGXmzZuXLl26JEk22GCDzJs3r+RFsGp83tfmq+1b0oYNG5a5c+f+3fmoUaNy8MEHf+zHdOnSJb/5zW/SqVOn/PGPf8yIESMyfvz4rLvuuqt6LqyQFbnPoSn7R/f8l7/85XzjG99ITU1NfvSjH+XSSy/NJZdcUsJKAFbEbbfdlrq6usybNy/Dhw/PZpttlt13373sWbBK1dTUpKampuwZ0OBW5LX5agtGN9544+f+mLZt26Zt27ZJku222y7du3fPK6+8ku23376B10HDWJH7vK6uLnPmzKle19fXp66urgFXwarzWe/5o48+Ol/72tdW7RhYTXzdpqX47/u6c+fO6devX2bMmCEY0Sx17tw5b775Zrp06ZI333zTz+2iWVp//fWrb3/W1+aN+lvS3n777SxbtixJ8tprr2XWrFnp1q1byaugYfXt2zfjx4/P4sWLq/f5DjvsUPYsWGlvvvlm9e3JkyenV69eJa6BhrP99ttn1qxZee2117J48eKMHz8+ffv2LXsWNKiFCxfm/fffr7796KOP+jpOs9W3b9/ce++9SZJ77703Bx10UMmLoOGtyGvzmkqlUlmVoz6LSZMm5aKLLsrbb7+d9u3bp3fv3rn++uszceLE/PjHP07r1q1TW1ubkSNHekFGk/VJ93mSXHPNNbnrrrvSqlWrfPvb387+++9f8lpYeWeffXZeeOGFJMnGG2+cCy+8sPrzAaCpmzp1ai6++OIsW7YsRx55ZL7+9a+XPQka1GuvvZYRI0Yk+b+/GXDQoEHuc5qFs846K48//njeeeeddO7cOSNHjszBBx+cUaNG5Y033kjXrl1z5ZVXpmPHjmVPhRX2cff5448//rlfmzeKYAQAAABA49GovyUNAAAAgNVPMAIAAACgQDACAAAAoEAwAgAAAKBAMAIAAACgQDACAAAAoEAwAgAAAKDg/wAqLbqvuh6HBQAAAABJRU5ErkJggg==\n",
                "text/plain": "<Figure size 1440x1080 with 1 Axes>"
              }
            ],
            "_view_module": "@jupyter-widgets/output",
            "_model_module_version": "1.0.0",
            "_view_count": null,
            "_view_module_version": "1.0.0",
            "layout": "IPY_MODEL_b35ddf5ec77f442ca6ef7835736d6ae8",
            "_model_module": "@jupyter-widgets/output"
          }
        },
        "fbecd466808548a599a7228f381164cf": {
          "model_module": "@jupyter-widgets/controls",
          "model_name": "DescriptionStyleModel",
          "state": {
            "_view_name": "StyleView",
            "_model_name": "DescriptionStyleModel",
            "description_width": "",
            "_view_module": "@jupyter-widgets/base",
            "_model_module_version": "1.5.0",
            "_view_count": null,
            "_view_module_version": "1.2.0",
            "_model_module": "@jupyter-widgets/controls"
          }
        },
        "211000a038ed477da4b272745696d286": {
          "model_module": "@jupyter-widgets/base",
          "model_name": "LayoutModel",
          "state": {
            "_view_name": "LayoutView",
            "grid_template_rows": null,
            "right": null,
            "justify_content": null,
            "_view_module": "@jupyter-widgets/base",
            "overflow": null,
            "_model_module_version": "1.2.0",
            "_view_count": null,
            "flex_flow": null,
            "width": null,
            "min_width": null,
            "border": null,
            "align_items": null,
            "bottom": null,
            "_model_module": "@jupyter-widgets/base",
            "top": null,
            "grid_column": null,
            "overflow_y": null,
            "overflow_x": null,
            "grid_auto_flow": null,
            "grid_area": null,
            "grid_template_columns": null,
            "flex": null,
            "_model_name": "LayoutModel",
            "justify_items": null,
            "grid_row": null,
            "max_height": null,
            "align_content": null,
            "visibility": null,
            "align_self": null,
            "height": null,
            "min_height": null,
            "padding": null,
            "grid_auto_rows": null,
            "grid_gap": null,
            "max_width": null,
            "order": null,
            "_view_module_version": "1.2.0",
            "grid_template_areas": null,
            "object_position": null,
            "object_fit": null,
            "grid_auto_columns": null,
            "margin": null,
            "display": null,
            "left": null
          }
        },
        "9ecb3273b23a4119b895c0c01da4c060": {
          "model_module": "@jupyter-widgets/controls",
          "model_name": "DescriptionStyleModel",
          "state": {
            "_view_name": "StyleView",
            "_model_name": "DescriptionStyleModel",
            "description_width": "",
            "_view_module": "@jupyter-widgets/base",
            "_model_module_version": "1.5.0",
            "_view_count": null,
            "_view_module_version": "1.2.0",
            "_model_module": "@jupyter-widgets/controls"
          }
        },
        "d1ff55406cb149a1a9a5cafedb860496": {
          "model_module": "@jupyter-widgets/base",
          "model_name": "LayoutModel",
          "state": {
            "_view_name": "LayoutView",
            "grid_template_rows": null,
            "right": null,
            "justify_content": null,
            "_view_module": "@jupyter-widgets/base",
            "overflow": null,
            "_model_module_version": "1.2.0",
            "_view_count": null,
            "flex_flow": null,
            "width": null,
            "min_width": null,
            "border": null,
            "align_items": null,
            "bottom": null,
            "_model_module": "@jupyter-widgets/base",
            "top": null,
            "grid_column": null,
            "overflow_y": null,
            "overflow_x": null,
            "grid_auto_flow": null,
            "grid_area": null,
            "grid_template_columns": null,
            "flex": null,
            "_model_name": "LayoutModel",
            "justify_items": null,
            "grid_row": null,
            "max_height": null,
            "align_content": null,
            "visibility": null,
            "align_self": null,
            "height": null,
            "min_height": null,
            "padding": null,
            "grid_auto_rows": null,
            "grid_gap": null,
            "max_width": null,
            "order": null,
            "_view_module_version": "1.2.0",
            "grid_template_areas": null,
            "object_position": null,
            "object_fit": null,
            "grid_auto_columns": null,
            "margin": null,
            "display": null,
            "left": null
          }
        },
        "01c3081e6062422593007e01f6365ee2": {
          "model_module": "@jupyter-widgets/controls",
          "model_name": "DescriptionStyleModel",
          "state": {
            "_view_name": "StyleView",
            "_model_name": "DescriptionStyleModel",
            "description_width": "",
            "_view_module": "@jupyter-widgets/base",
            "_model_module_version": "1.5.0",
            "_view_count": null,
            "_view_module_version": "1.2.0",
            "_model_module": "@jupyter-widgets/controls"
          }
        },
        "0996229403c94fa0b6d610e1880ec801": {
          "model_module": "@jupyter-widgets/base",
          "model_name": "LayoutModel",
          "state": {
            "_view_name": "LayoutView",
            "grid_template_rows": null,
            "right": null,
            "justify_content": null,
            "_view_module": "@jupyter-widgets/base",
            "overflow": null,
            "_model_module_version": "1.2.0",
            "_view_count": null,
            "flex_flow": null,
            "width": null,
            "min_width": null,
            "border": null,
            "align_items": null,
            "bottom": null,
            "_model_module": "@jupyter-widgets/base",
            "top": null,
            "grid_column": null,
            "overflow_y": null,
            "overflow_x": null,
            "grid_auto_flow": null,
            "grid_area": null,
            "grid_template_columns": null,
            "flex": null,
            "_model_name": "LayoutModel",
            "justify_items": null,
            "grid_row": null,
            "max_height": null,
            "align_content": null,
            "visibility": null,
            "align_self": null,
            "height": null,
            "min_height": null,
            "padding": null,
            "grid_auto_rows": null,
            "grid_gap": null,
            "max_width": null,
            "order": null,
            "_view_module_version": "1.2.0",
            "grid_template_areas": null,
            "object_position": null,
            "object_fit": null,
            "grid_auto_columns": null,
            "margin": null,
            "display": null,
            "left": null
          }
        },
        "cdd69db43f4a4585aeae8476b3d71698": {
          "model_module": "@jupyter-widgets/controls",
          "model_name": "DescriptionStyleModel",
          "state": {
            "_view_name": "StyleView",
            "_model_name": "DescriptionStyleModel",
            "description_width": "",
            "_view_module": "@jupyter-widgets/base",
            "_model_module_version": "1.5.0",
            "_view_count": null,
            "_view_module_version": "1.2.0",
            "_model_module": "@jupyter-widgets/controls"
          }
        },
        "945574cc03604de49290f9506bc0de1f": {
          "model_module": "@jupyter-widgets/base",
          "model_name": "LayoutModel",
          "state": {
            "_view_name": "LayoutView",
            "grid_template_rows": null,
            "right": null,
            "justify_content": null,
            "_view_module": "@jupyter-widgets/base",
            "overflow": null,
            "_model_module_version": "1.2.0",
            "_view_count": null,
            "flex_flow": null,
            "width": null,
            "min_width": null,
            "border": null,
            "align_items": null,
            "bottom": null,
            "_model_module": "@jupyter-widgets/base",
            "top": null,
            "grid_column": null,
            "overflow_y": null,
            "overflow_x": null,
            "grid_auto_flow": null,
            "grid_area": null,
            "grid_template_columns": null,
            "flex": null,
            "_model_name": "LayoutModel",
            "justify_items": null,
            "grid_row": null,
            "max_height": null,
            "align_content": null,
            "visibility": null,
            "align_self": null,
            "height": null,
            "min_height": null,
            "padding": null,
            "grid_auto_rows": null,
            "grid_gap": null,
            "max_width": null,
            "order": null,
            "_view_module_version": "1.2.0",
            "grid_template_areas": null,
            "object_position": null,
            "object_fit": null,
            "grid_auto_columns": null,
            "margin": null,
            "display": null,
            "left": null
          }
        },
        "fa8b45b60d694420ade62c7abeec2378": {
          "model_module": "@jupyter-widgets/controls",
          "model_name": "DescriptionStyleModel",
          "state": {
            "_view_name": "StyleView",
            "_model_name": "DescriptionStyleModel",
            "description_width": "",
            "_view_module": "@jupyter-widgets/base",
            "_model_module_version": "1.5.0",
            "_view_count": null,
            "_view_module_version": "1.2.0",
            "_model_module": "@jupyter-widgets/controls"
          }
        },
        "fe68f7abc7f645ea9aad212d673c2baf": {
          "model_module": "@jupyter-widgets/base",
          "model_name": "LayoutModel",
          "state": {
            "_view_name": "LayoutView",
            "grid_template_rows": null,
            "right": null,
            "justify_content": null,
            "_view_module": "@jupyter-widgets/base",
            "overflow": null,
            "_model_module_version": "1.2.0",
            "_view_count": null,
            "flex_flow": null,
            "width": null,
            "min_width": null,
            "border": null,
            "align_items": null,
            "bottom": null,
            "_model_module": "@jupyter-widgets/base",
            "top": null,
            "grid_column": null,
            "overflow_y": null,
            "overflow_x": null,
            "grid_auto_flow": null,
            "grid_area": null,
            "grid_template_columns": null,
            "flex": null,
            "_model_name": "LayoutModel",
            "justify_items": null,
            "grid_row": null,
            "max_height": null,
            "align_content": null,
            "visibility": null,
            "align_self": null,
            "height": null,
            "min_height": null,
            "padding": null,
            "grid_auto_rows": null,
            "grid_gap": null,
            "max_width": null,
            "order": null,
            "_view_module_version": "1.2.0",
            "grid_template_areas": null,
            "object_position": null,
            "object_fit": null,
            "grid_auto_columns": null,
            "margin": null,
            "display": null,
            "left": null
          }
        },
        "b35ddf5ec77f442ca6ef7835736d6ae8": {
          "model_module": "@jupyter-widgets/base",
          "model_name": "LayoutModel",
          "state": {
            "_view_name": "LayoutView",
            "grid_template_rows": null,
            "right": null,
            "justify_content": null,
            "_view_module": "@jupyter-widgets/base",
            "overflow": null,
            "_model_module_version": "1.2.0",
            "_view_count": null,
            "flex_flow": null,
            "width": null,
            "min_width": null,
            "border": null,
            "align_items": null,
            "bottom": null,
            "_model_module": "@jupyter-widgets/base",
            "top": null,
            "grid_column": null,
            "overflow_y": null,
            "overflow_x": null,
            "grid_auto_flow": null,
            "grid_area": null,
            "grid_template_columns": null,
            "flex": null,
            "_model_name": "LayoutModel",
            "justify_items": null,
            "grid_row": null,
            "max_height": null,
            "align_content": null,
            "visibility": null,
            "align_self": null,
            "height": null,
            "min_height": null,
            "padding": null,
            "grid_auto_rows": null,
            "grid_gap": null,
            "max_width": null,
            "order": null,
            "_view_module_version": "1.2.0",
            "grid_template_areas": null,
            "object_position": null,
            "object_fit": null,
            "grid_auto_columns": null,
            "margin": null,
            "display": null,
            "left": null
          }
        },
        "6d88401bc3714f6eb9dcb088824b0e51": {
          "model_module": "@jupyter-widgets/controls",
          "model_name": "VBoxModel",
          "state": {
            "_view_name": "VBoxView",
            "_dom_classes": [
              "widget-interact"
            ],
            "_model_name": "VBoxModel",
            "_view_module": "@jupyter-widgets/controls",
            "_model_module_version": "1.5.0",
            "_view_count": null,
            "_view_module_version": "1.5.0",
            "box_style": "",
            "layout": "IPY_MODEL_5baba18360e445b28de18937f40decd6",
            "_model_module": "@jupyter-widgets/controls",
            "children": [
              "IPY_MODEL_de3d1a43b717428c892c33ce5cfb466d",
              "IPY_MODEL_510bdcaa87f249d2b5c7f3476fdb7b24",
              "IPY_MODEL_9dcda56642ea44b2b4d12cbd09327d63",
              "IPY_MODEL_397b9d7e30e644f1bd423fabf3b844bd",
              "IPY_MODEL_e520181f35364a3a92bc87e63b643944"
            ]
          }
        },
        "5baba18360e445b28de18937f40decd6": {
          "model_module": "@jupyter-widgets/base",
          "model_name": "LayoutModel",
          "state": {
            "_view_name": "LayoutView",
            "grid_template_rows": null,
            "right": null,
            "justify_content": null,
            "_view_module": "@jupyter-widgets/base",
            "overflow": null,
            "_model_module_version": "1.2.0",
            "_view_count": null,
            "flex_flow": null,
            "width": null,
            "min_width": null,
            "border": null,
            "align_items": null,
            "bottom": null,
            "_model_module": "@jupyter-widgets/base",
            "top": null,
            "grid_column": null,
            "overflow_y": null,
            "overflow_x": null,
            "grid_auto_flow": null,
            "grid_area": null,
            "grid_template_columns": null,
            "flex": null,
            "_model_name": "LayoutModel",
            "justify_items": null,
            "grid_row": null,
            "max_height": null,
            "align_content": null,
            "visibility": null,
            "align_self": null,
            "height": null,
            "min_height": null,
            "padding": null,
            "grid_auto_rows": null,
            "grid_gap": null,
            "max_width": null,
            "order": null,
            "_view_module_version": "1.2.0",
            "grid_template_areas": null,
            "object_position": null,
            "object_fit": null,
            "grid_auto_columns": null,
            "margin": null,
            "display": null,
            "left": null
          }
        },
        "de3d1a43b717428c892c33ce5cfb466d": {
          "model_module": "@jupyter-widgets/controls",
          "model_name": "FloatSliderModel",
          "state": {
            "_view_name": "FloatSliderView",
            "style": "IPY_MODEL_acc5a546eb634550a91d61248cf80526",
            "_dom_classes": [],
            "description": "noise",
            "step": 0.1,
            "_model_name": "FloatSliderModel",
            "orientation": "horizontal",
            "max": 50,
            "_view_module": "@jupyter-widgets/controls",
            "_model_module_version": "1.5.0",
            "value": 25,
            "_view_count": null,
            "disabled": false,
            "_view_module_version": "1.5.0",
            "min": 0,
            "continuous_update": true,
            "readout_format": ".2f",
            "description_tooltip": null,
            "readout": true,
            "_model_module": "@jupyter-widgets/controls",
            "layout": "IPY_MODEL_0501bba8803e402f88f65be8a3f7b1bd"
          }
        },
        "510bdcaa87f249d2b5c7f3476fdb7b24": {
          "model_module": "@jupyter-widgets/controls",
          "model_name": "FloatSliderModel",
          "state": {
            "_view_name": "FloatSliderView",
            "style": "IPY_MODEL_7a49350ef4274d688d49c0e5ef5c4ff7",
            "_dom_classes": [],
            "description": "train_ratio",
            "step": 0.01,
            "_model_name": "FloatSliderModel",
            "orientation": "horizontal",
            "max": 0.99,
            "_view_module": "@jupyter-widgets/controls",
            "_model_module_version": "1.5.0",
            "value": 0.5,
            "_view_count": null,
            "disabled": false,
            "_view_module_version": "1.5.0",
            "min": 0.01,
            "continuous_update": true,
            "readout_format": ".2f",
            "description_tooltip": null,
            "readout": true,
            "_model_module": "@jupyter-widgets/controls",
            "layout": "IPY_MODEL_9e86df3e1e1646ea87200e18f3068f58"
          }
        },
        "9dcda56642ea44b2b4d12cbd09327d63": {
          "model_module": "@jupyter-widgets/controls",
          "model_name": "IntSliderModel",
          "state": {
            "_view_name": "IntSliderView",
            "style": "IPY_MODEL_6837ddfd91054c11be4c68a07c239ba4",
            "_dom_classes": [],
            "description": "trial",
            "step": 1,
            "_model_name": "IntSliderModel",
            "orientation": "horizontal",
            "max": 1000,
            "_view_module": "@jupyter-widgets/controls",
            "_model_module_version": "1.5.0",
            "value": 500,
            "_view_count": null,
            "disabled": false,
            "_view_module_version": "1.5.0",
            "min": 1,
            "continuous_update": true,
            "readout_format": "d",
            "description_tooltip": null,
            "readout": true,
            "_model_module": "@jupyter-widgets/controls",
            "layout": "IPY_MODEL_3c0339a9ca594af58c708a9bb3b1e82b"
          }
        },
        "397b9d7e30e644f1bd423fabf3b844bd": {
          "model_module": "@jupyter-widgets/controls",
          "model_name": "CheckboxModel",
          "state": {
            "_view_name": "CheckboxView",
            "style": "IPY_MODEL_834267b3beaa4eeea5fe5677a6519340",
            "_dom_classes": [],
            "description": "show_te",
            "_model_name": "CheckboxModel",
            "_view_module": "@jupyter-widgets/controls",
            "_model_module_version": "1.5.0",
            "value": false,
            "_view_count": null,
            "disabled": false,
            "_view_module_version": "1.5.0",
            "indent": true,
            "description_tooltip": null,
            "_model_module": "@jupyter-widgets/controls",
            "layout": "IPY_MODEL_17159e26ed5748e2982dd8a07940eb0c"
          }
        },
        "e520181f35364a3a92bc87e63b643944": {
          "model_module": "@jupyter-widgets/output",
          "model_name": "OutputModel",
          "state": {
            "_view_name": "OutputView",
            "msg_id": "",
            "_dom_classes": [],
            "_model_name": "OutputModel",
            "outputs": [
              {
                "output_type": "display_data",
                "metadata": {
                  "tags": []
                },
                "image/png": "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\n",
                "text/plain": "<Figure size 1440x1080 with 1 Axes>"
              }
            ],
            "_view_module": "@jupyter-widgets/output",
            "_model_module_version": "1.0.0",
            "_view_count": null,
            "_view_module_version": "1.0.0",
            "layout": "IPY_MODEL_cd8cae465c9d4b1a86c21cfd1a9691ca",
            "_model_module": "@jupyter-widgets/output"
          }
        },
        "acc5a546eb634550a91d61248cf80526": {
          "model_module": "@jupyter-widgets/controls",
          "model_name": "SliderStyleModel",
          "state": {
            "_view_name": "StyleView",
            "handle_color": null,
            "_model_name": "SliderStyleModel",
            "description_width": "",
            "_view_module": "@jupyter-widgets/base",
            "_model_module_version": "1.5.0",
            "_view_count": null,
            "_view_module_version": "1.2.0",
            "_model_module": "@jupyter-widgets/controls"
          }
        },
        "0501bba8803e402f88f65be8a3f7b1bd": {
          "model_module": "@jupyter-widgets/base",
          "model_name": "LayoutModel",
          "state": {
            "_view_name": "LayoutView",
            "grid_template_rows": null,
            "right": null,
            "justify_content": null,
            "_view_module": "@jupyter-widgets/base",
            "overflow": null,
            "_model_module_version": "1.2.0",
            "_view_count": null,
            "flex_flow": null,
            "width": null,
            "min_width": null,
            "border": null,
            "align_items": null,
            "bottom": null,
            "_model_module": "@jupyter-widgets/base",
            "top": null,
            "grid_column": null,
            "overflow_y": null,
            "overflow_x": null,
            "grid_auto_flow": null,
            "grid_area": null,
            "grid_template_columns": null,
            "flex": null,
            "_model_name": "LayoutModel",
            "justify_items": null,
            "grid_row": null,
            "max_height": null,
            "align_content": null,
            "visibility": null,
            "align_self": null,
            "height": null,
            "min_height": null,
            "padding": null,
            "grid_auto_rows": null,
            "grid_gap": null,
            "max_width": null,
            "order": null,
            "_view_module_version": "1.2.0",
            "grid_template_areas": null,
            "object_position": null,
            "object_fit": null,
            "grid_auto_columns": null,
            "margin": null,
            "display": null,
            "left": null
          }
        },
        "7a49350ef4274d688d49c0e5ef5c4ff7": {
          "model_module": "@jupyter-widgets/controls",
          "model_name": "SliderStyleModel",
          "state": {
            "_view_name": "StyleView",
            "handle_color": null,
            "_model_name": "SliderStyleModel",
            "description_width": "",
            "_view_module": "@jupyter-widgets/base",
            "_model_module_version": "1.5.0",
            "_view_count": null,
            "_view_module_version": "1.2.0",
            "_model_module": "@jupyter-widgets/controls"
          }
        },
        "9e86df3e1e1646ea87200e18f3068f58": {
          "model_module": "@jupyter-widgets/base",
          "model_name": "LayoutModel",
          "state": {
            "_view_name": "LayoutView",
            "grid_template_rows": null,
            "right": null,
            "justify_content": null,
            "_view_module": "@jupyter-widgets/base",
            "overflow": null,
            "_model_module_version": "1.2.0",
            "_view_count": null,
            "flex_flow": null,
            "width": null,
            "min_width": null,
            "border": null,
            "align_items": null,
            "bottom": null,
            "_model_module": "@jupyter-widgets/base",
            "top": null,
            "grid_column": null,
            "overflow_y": null,
            "overflow_x": null,
            "grid_auto_flow": null,
            "grid_area": null,
            "grid_template_columns": null,
            "flex": null,
            "_model_name": "LayoutModel",
            "justify_items": null,
            "grid_row": null,
            "max_height": null,
            "align_content": null,
            "visibility": null,
            "align_self": null,
            "height": null,
            "min_height": null,
            "padding": null,
            "grid_auto_rows": null,
            "grid_gap": null,
            "max_width": null,
            "order": null,
            "_view_module_version": "1.2.0",
            "grid_template_areas": null,
            "object_position": null,
            "object_fit": null,
            "grid_auto_columns": null,
            "margin": null,
            "display": null,
            "left": null
          }
        },
        "6837ddfd91054c11be4c68a07c239ba4": {
          "model_module": "@jupyter-widgets/controls",
          "model_name": "SliderStyleModel",
          "state": {
            "_view_name": "StyleView",
            "handle_color": null,
            "_model_name": "SliderStyleModel",
            "description_width": "",
            "_view_module": "@jupyter-widgets/base",
            "_model_module_version": "1.5.0",
            "_view_count": null,
            "_view_module_version": "1.2.0",
            "_model_module": "@jupyter-widgets/controls"
          }
        },
        "3c0339a9ca594af58c708a9bb3b1e82b": {
          "model_module": "@jupyter-widgets/base",
          "model_name": "LayoutModel",
          "state": {
            "_view_name": "LayoutView",
            "grid_template_rows": null,
            "right": null,
            "justify_content": null,
            "_view_module": "@jupyter-widgets/base",
            "overflow": null,
            "_model_module_version": "1.2.0",
            "_view_count": null,
            "flex_flow": null,
            "width": null,
            "min_width": null,
            "border": null,
            "align_items": null,
            "bottom": null,
            "_model_module": "@jupyter-widgets/base",
            "top": null,
            "grid_column": null,
            "overflow_y": null,
            "overflow_x": null,
            "grid_auto_flow": null,
            "grid_area": null,
            "grid_template_columns": null,
            "flex": null,
            "_model_name": "LayoutModel",
            "justify_items": null,
            "grid_row": null,
            "max_height": null,
            "align_content": null,
            "visibility": null,
            "align_self": null,
            "height": null,
            "min_height": null,
            "padding": null,
            "grid_auto_rows": null,
            "grid_gap": null,
            "max_width": null,
            "order": null,
            "_view_module_version": "1.2.0",
            "grid_template_areas": null,
            "object_position": null,
            "object_fit": null,
            "grid_auto_columns": null,
            "margin": null,
            "display": null,
            "left": null
          }
        },
        "834267b3beaa4eeea5fe5677a6519340": {
          "model_module": "@jupyter-widgets/controls",
          "model_name": "DescriptionStyleModel",
          "state": {
            "_view_name": "StyleView",
            "_model_name": "DescriptionStyleModel",
            "description_width": "",
            "_view_module": "@jupyter-widgets/base",
            "_model_module_version": "1.5.0",
            "_view_count": null,
            "_view_module_version": "1.2.0",
            "_model_module": "@jupyter-widgets/controls"
          }
        },
        "17159e26ed5748e2982dd8a07940eb0c": {
          "model_module": "@jupyter-widgets/base",
          "model_name": "LayoutModel",
          "state": {
            "_view_name": "LayoutView",
            "grid_template_rows": null,
            "right": null,
            "justify_content": null,
            "_view_module": "@jupyter-widgets/base",
            "overflow": null,
            "_model_module_version": "1.2.0",
            "_view_count": null,
            "flex_flow": null,
            "width": null,
            "min_width": null,
            "border": null,
            "align_items": null,
            "bottom": null,
            "_model_module": "@jupyter-widgets/base",
            "top": null,
            "grid_column": null,
            "overflow_y": null,
            "overflow_x": null,
            "grid_auto_flow": null,
            "grid_area": null,
            "grid_template_columns": null,
            "flex": null,
            "_model_name": "LayoutModel",
            "justify_items": null,
            "grid_row": null,
            "max_height": null,
            "align_content": null,
            "visibility": null,
            "align_self": null,
            "height": null,
            "min_height": null,
            "padding": null,
            "grid_auto_rows": null,
            "grid_gap": null,
            "max_width": null,
            "order": null,
            "_view_module_version": "1.2.0",
            "grid_template_areas": null,
            "object_position": null,
            "object_fit": null,
            "grid_auto_columns": null,
            "margin": null,
            "display": null,
            "left": null
          }
        },
        "cd8cae465c9d4b1a86c21cfd1a9691ca": {
          "model_module": "@jupyter-widgets/base",
          "model_name": "LayoutModel",
          "state": {
            "_view_name": "LayoutView",
            "grid_template_rows": null,
            "right": null,
            "justify_content": null,
            "_view_module": "@jupyter-widgets/base",
            "overflow": null,
            "_model_module_version": "1.2.0",
            "_view_count": null,
            "flex_flow": null,
            "width": null,
            "min_width": null,
            "border": null,
            "align_items": null,
            "bottom": null,
            "_model_module": "@jupyter-widgets/base",
            "top": null,
            "grid_column": null,
            "overflow_y": null,
            "overflow_x": null,
            "grid_auto_flow": null,
            "grid_area": null,
            "grid_template_columns": null,
            "flex": null,
            "_model_name": "LayoutModel",
            "justify_items": null,
            "grid_row": null,
            "max_height": null,
            "align_content": null,
            "visibility": null,
            "align_self": null,
            "height": null,
            "min_height": null,
            "padding": null,
            "grid_auto_rows": null,
            "grid_gap": null,
            "max_width": null,
            "order": null,
            "_view_module_version": "1.2.0",
            "grid_template_areas": null,
            "object_position": null,
            "object_fit": null,
            "grid_auto_columns": null,
            "margin": null,
            "display": null,
            "left": null
          }
        }
      }
    }
  },
  "cells": [
    {
      "cell_type": "markdown",
      "metadata": {
        "id": "nSZfzFroZgh7",
        "colab_type": "text"
      },
      "source": [
        "# Machine learning for medicine (MedML@Emory) Workshop\n"
      ]
    },
    {
      "cell_type": "markdown",
      "metadata": {
        "id": "7YRHNzk8PGkC",
        "colab_type": "text"
      },
      "source": [
        "## License\n",
        "    This program is free software: you can redistribute it and/or modify\n",
        "    it under the terms of the GNU General Public License as published by\n",
        "    the Free Software Foundation, either version 3 of the License, or\n",
        "    (at your option) any later version.\n",
        "\n",
        "    This program is distributed in the hope that it will be useful,\n",
        "    but WITHOUT ANY WARRANTY; without even the implied warranty of\n",
        "    MERCHANTABILITY or FITNESS FOR A PARTICULAR PURPOSE.  See the\n",
        "    GNU General Public License for more details.\n",
        "\n",
        "    You should have received a copy of the GNU General Public License\n",
        "    along with this program.  If not, see <https://www.gnu.org/licenses/>."
      ]
    },
    {
      "cell_type": "markdown",
      "metadata": {
        "id": "W7JirD8EPFEV",
        "colab_type": "text"
      },
      "source": [
        "## Training/Testing Dataset - The Basics of Inference\n",
        "Authors: Vineet Tiruvadi, Avinash Murugan, Alex Milani\n",
        "\n",
        "## Overview\n",
        "Machine learning (ML) is all about patterns, but how can we be sure the patterns we find in our data are *really there* in the thing we're trying to study?\n",
        "One way is to do another experiment and see if the pattern holds.\n",
        "But what if we could do this without having to run another experiment?\n",
        "\n",
        "In this notebook we introduce the idea of 'training and testing' sets.\n",
        "By leaving out a part of the data you collect, you can learn *and* validate complex patterns in your data.\n",
        "This simple process becomes a major strength of ML by directly addressing how \"generalizable\" your results are to broader populations and/or how well your results track with the truth.\n",
        "\n",
        "Outline:\n",
        "\n",
        "* Code imports\n",
        "* Background\n",
        "  * Standard Experiments\n",
        "  * ML and testing/training\n",
        "* Testing/training Example\n",
        "* What's \"Big\" about Big Data"
      ]
    },
    {
      "cell_type": "markdown",
      "metadata": {
        "id": "hGuaRdA-qG9x",
        "colab_type": "text"
      },
      "source": [
        "### Code Imports\n"
      ]
    },
    {
      "cell_type": "markdown",
      "metadata": {
        "id": "MyCUItTQrwDO",
        "colab_type": "text"
      },
      "source": [
        "\n",
        "#### Standard Imports"
      ]
    },
    {
      "cell_type": "code",
      "metadata": {
        "jupyter": {
          "source_hidden": true
        },
        "id": "bBCwq5EIZgh9",
        "colab_type": "code",
        "colab": {}
      },
      "source": [
        "# The big library for doing math + data in python\n",
        "import numpy as np\n",
        "\n",
        "# A big library that has a lot of useful functions for scientific use of python\n",
        "import scipy\n",
        "\n",
        "# The main library for plotting\n",
        "import matplotlib\n",
        "import matplotlib.pyplot as plt\n",
        "import seaborn as sns\n",
        "sns.set_style(\"white\")\n",
        "matplotlib.rcParams['figure.figsize'] = [20, 15]\n",
        "\n",
        "# The main library used for statistics\n",
        "import scipy.stats as stats\n",
        "\n",
        "# Libraries that let us use interactive widgets\n",
        "from ipywidgets import interact, interactive, fixed, interact_manual\n",
        "import ipywidgets as widgets\n",
        "from ipywidgets import interactive,interact, HBox, Layout,VBox\n",
        "\n",
        "# Misc stuff related to cleaning up code and displaying results in a pretty way\n",
        "#from example_systems import *\n",
        "from IPython.display import Markdown as md\n",
        "\n",
        "import logging\n",
        "logging.getLogger().setLevel(logging.CRITICAL)"
      ],
      "execution_count": 0,
      "outputs": []
    },
    {
      "cell_type": "markdown",
      "metadata": {
        "id": "lAzjOspNrc04",
        "colab_type": "text"
      },
      "source": [
        "#### ML Related Imports"
      ]
    },
    {
      "cell_type": "code",
      "metadata": {
        "id": "70xBgjncZgiB",
        "colab_type": "code",
        "colab": {}
      },
      "source": [
        "# Our machine learning libraries\n",
        "from sklearn.linear_model import LinearRegression\n",
        "from sklearn.model_selection import train_test_split"
      ],
      "execution_count": 0,
      "outputs": []
    },
    {
      "cell_type": "markdown",
      "metadata": {
        "id": "mOplM3NFrW54",
        "colab_type": "text"
      },
      "source": [
        "#### General purpose functions used in the notebook"
      ]
    },
    {
      "cell_type": "code",
      "metadata": {
        "id": "rXdyTYB8Z8XZ",
        "colab_type": "code",
        "colab": {}
      },
      "source": [
        "#### General Functions\n",
        "def gen_data(slope=2.34,noise=10,trial=1):\n",
        "    X = np.random.uniform(-10,10,size=(200,1))\n",
        "    Y = slope * X + np.random.normal(0,noise,size=X.shape)\n",
        "  \n",
        "    return X, Y\n",
        "\n",
        "def gen_data_split(slope=2.34, noise=10, trial=1, train_ratio=0.1):\n",
        "    X,Y = gen_data(slope=slope,noise=noise,trial=trial)\n",
        "    Xtr,Xte,Ytr,Yte = train_test_split(X,Y,test_size=1-train_ratio,random_state=trial)\n",
        "    \n",
        "    return {'Xtr':Xtr, 'Xte':Xte, 'Ytr':Ytr, 'Yte':Yte, 'slope':slope, 'Xb':X}\n",
        "\n",
        "def gen_lin_Y(dataset,noise,train_ratio,trial,show_truth,show_tr,show_te,show_model,show_pred):\n",
        "    #Do our linear regression analysis\n",
        "    if dataset == 0:\n",
        "      dataset = gen_data_split(noise=noise,train_ratio=train_ratio,trial=trial)\n",
        "\n",
        "    X_basis = dataset['Xb']\n",
        "\n",
        "    Xtr = dataset['Xtr']\n",
        "    Ytr = dataset['Ytr']\n",
        "\n",
        "    Xte = dataset['Xte']\n",
        "    Yte = dataset['Yte']\n",
        "\n",
        "    m = dataset['slope']\n",
        "\n",
        "    reg = LinearRegression(fit_intercept=False).fit(Xtr, Ytr)\n",
        "    reg.score(Xtr, Ytr)\n",
        "    Ypred = reg.predict(Xte)\n",
        "\n",
        "    slope_estimate = round(reg.coef_[0,0],4)\n",
        "    if show_tr: plt.scatter(Xtr,Ytr,s=30,alpha=0.7,label='Training',color='blue')\n",
        "    if show_te: plt.scatter(Xte,Yte,s=70,alpha=0.9,color='red',label='Test')\n",
        "    if show_pred: plt.scatter(Xte,Ypred,s=90, facecolors='none', edgecolors='r',alpha=0.7,label='Prediction')\n",
        "    if show_truth: plt.plot(X_basis,m*X_basis,'--',alpha=0.9,label='Truth',color='green')\n",
        "    if show_model: plt.plot(X_basis,slope_estimate*X_basis,alpha=0.3,linewidth=6,color='green',label='Model'); plt.text(0,-40,'Estimated slope: ' + str(slope_estimate),color='green')\n",
        "    \n",
        "    plt.legend()\n",
        "    plt.ylim((-50,50))\n",
        "    plt.xlim((-15,15))\n",
        "    plt.title('True slope = ' + str(m))\n",
        "    sns.despine()\n"
      ],
      "execution_count": 0,
      "outputs": []
    },
    {
      "cell_type": "markdown",
      "metadata": {
        "id": "ABUy26KRpAnL",
        "colab_type": "text"
      },
      "source": [
        "\n",
        "\n",
        "## Background\n",
        "\n",
        "### Inference\n",
        "The core goal in everything we're doing in science is *inference*.\n",
        "This means that our goal is to build a mental understanding (model) of how something we care about works.\n",
        "If we care about cardiac physiology, we need to have an understanding of how blood volume, stroke volume, coronary arteries, all interact.\n",
        "\n",
        "We build this understanding today largely by using *data*.\n",
        "While data is just one tool in a larger toolset, data is the one that keeps us most grounded in reality.\n",
        "\n",
        "The thing *generating* our data is typically the thing we're interested in understanding: inference is the process of understanding that think *through* the data we collect from it.\n"
      ]
    },
    {
      "cell_type": "markdown",
      "metadata": {
        "id": "y17qKcT6ZgiD",
        "colab_type": "text"
      },
      "source": [
        "### Experiments and data\n",
        "In a typical experiment you're trying to study something about a *population*.\n",
        "You then design careful controls and measurements, get an idea of how many 'samples' you need to collect to be able to confidently say there's an effect.\n",
        "Then, and only then, do you recruit your sample, collect your data, and analyse *all* of it.\n",
        "The statistics you do on your analysis try to give you the level of confidence you can have that what you found in  your sample is what's happening in the population.\n",
        "Here, you're *implicitly* making conclusions about how well your results reflect the population, or **generalize**.\n",
        "\n",
        "\n",
        "p-value gives us an idea of the probability we could be *wrong* in saying that there's a relationship.\n",
        "In other words, the chance that we saw the data we saw given *there is actually no connection*."
      ]
    },
    {
      "cell_type": "markdown",
      "metadata": {
        "id": "Cj2hZNc5N4Ta",
        "colab_type": "text"
      },
      "source": [
        "### The ML approach\n",
        "ML is all about finding patterns, but it doesn't care if they're simple or complex.\n",
        "ML uses modern computing power to 'find' patterns that we can't easily 'see', like patterns across many, many variables.\n",
        "\n",
        "ML typically relies on a very different approach than the experimental approach.\n",
        "\n",
        "![picture](https://vineet.tiruvadi.com/tetr.png)\n",
        "\n",
        "In ML, you collect your data and try to understand the limitations in the data you collected.\n",
        "You can then **split your dataset** into a 'training' set and a 'testing' set, with zero overlapping datapoints.\n",
        "The 'training' set is where you do your 'learning' -> let the algorithm of your choice find the patterns (or Model M) that it thinks are in your data.\n",
        "We then take that model and see how well it 'holds' in the rest of our data.\n",
        "This then gives us an idea of how the model will hold in the *other* datasets from the full population that we weren't able to observe.\n",
        "\n",
        "In essence, this is like a 'simulated' experiment.\n",
        "By the simple act of *not using all your data*, you generate a second experimentally derived dataset that is *exactly the same as the one you will analyse*.\n",
        "This simple act turns out to be a powerful approach and the foundations of more sophisticated 'statistical validation'.\n",
        "\n",
        "As a contrast, the standard 'p-value' approach uses all the data, finds the pattern (and it always does) and then tries to estimate from the variance *inside* the data that it just used how well it might reflect the population.\n",
        "This makes the experiment itself, and a large sample size, critical since we're only indirectly commenting on generalizability.\n"
      ]
    },
    {
      "cell_type": "markdown",
      "metadata": {
        "id": "udXCPMcyX434",
        "colab_type": "text"
      },
      "source": [
        "### What is our goal?\n",
        "\n",
        "Inference -> we want to make a *model* that matches the *truth*.\n",
        "Data is a very powerful way of doing this.\n",
        "\n",
        "\n",
        "### How much data do we need?\n",
        "How much data we need depends on noise.\n",
        "This is similar to doing a power analysis in EBM.\n",
        "\n",
        "### Contrast 'experiment heavy' vs 'analysis heavy'\n",
        "What we would do in a standard approach...\n",
        "Then we'd publish the pattern we found\n",
        "\n",
        "Instead, in ML..."
      ]
    },
    {
      "cell_type": "markdown",
      "metadata": {
        "id": "Yyg9-UPMZgiE",
        "colab_type": "text"
      },
      "source": [
        "## Example\n",
        "We're going to deal with a concrete example: The measured Hemoglobin A1c and the lifetime risk of cardiovascular disease.\n",
        "\n",
        "### Orientation to figure\n",
        "First, let's get oriented to how we're going to be displaying our data.\n"
      ]
    },
    {
      "cell_type": "code",
      "metadata": {
        "id": "EXc8QXWcZgiJ",
        "colab_type": "code",
        "colab": {}
      },
      "source": [
        "### BLOCK LABEL - Splitting our data into training-testing\n",
        "X, Y = gen_data()\n",
        "train_size=0.8\n",
        "X_training,X_testing,Y_training,Y_testing = train_test_split(X,Y,test_size=1-train_size)"
      ],
      "execution_count": 0,
      "outputs": []
    },
    {
      "cell_type": "code",
      "metadata": {
        "id": "ermUF-P2OKUz",
        "colab_type": "code",
        "outputId": "1020b515-4cc4-4152-8f65-9e986aca498f",
        "colab": {
          "base_uri": "https://localhost:8080/",
          "height": 1000,
          "referenced_widgets": [
            "fffe3b97e6b44a7499ca9bd12d4909ba",
            "577ed3cc496e41eaa1e60097ce3c8fbf",
            "38f1e0df2acf4ef0beebbae61c865d88",
            "2b67a742df7845d9b82b24c74b74c54c",
            "b8366410ba034bb0bbaba544ec100e6f",
            "8590d8f549954d578e2b1698692735fc",
            "1fdee003214642f2944e2d0c3029e39b",
            "69eb2237e41649299b6c39531b4282f3",
            "fbecd466808548a599a7228f381164cf",
            "211000a038ed477da4b272745696d286",
            "9ecb3273b23a4119b895c0c01da4c060",
            "d1ff55406cb149a1a9a5cafedb860496",
            "01c3081e6062422593007e01f6365ee2",
            "0996229403c94fa0b6d610e1880ec801",
            "cdd69db43f4a4585aeae8476b3d71698",
            "945574cc03604de49290f9506bc0de1f",
            "fa8b45b60d694420ade62c7abeec2378",
            "fe68f7abc7f645ea9aad212d673c2baf",
            "b35ddf5ec77f442ca6ef7835736d6ae8"
          ]
        }
      },
      "source": [
        "### BLOCK LABEL - How to read a regression\n",
        "\n",
        "dataset = gen_data_split()\n",
        "#First we'll fix the data and just work with building up the plot\n",
        "#w = interactive(gen_lin_Y,noise=(0.0,10.0,0.1),train_ratio=(0.05,0.95,0.05),trial=(1,1000,1),show_truth=True,show_tr=False,show_te=False,show_model=False,show_pred=False)\n",
        "w = interactive(gen_lin_Y,dataset=fixed(dataset),noise=fixed(5.0),train_ratio=fixed(0.50),trial=fixed(1),show_truth=True,show_tr=False,show_te=False,show_model=False,show_pred=False)\n",
        "#display(w)\n",
        "controls = HBox(w.children[:-1], layout = Layout(flex_flow='row wrap'))\n",
        "output = w.children[-1]\n",
        "w_vb = VBox([controls, output])\n",
        "display(w)"
      ],
      "execution_count": 0,
      "outputs": [
        {
          "output_type": "display_data",
          "data": {
            "application/vnd.jupyter.widget-view+json": {
              "model_id": "fffe3b97e6b44a7499ca9bd12d4909ba",
              "version_minor": 0,
              "version_major": 2
            },
            "text/plain": [
              "interactive(children=(Checkbox(value=True, description='show_truth'), Checkbox(value=False, description='show_…"
            ]
          },
          "metadata": {
            "tags": []
          }
        }
      ]
    },
    {
      "cell_type": "code",
      "metadata": {
        "id": "C3A3j6paZgiN",
        "colab_type": "code",
        "outputId": "ca7fdef8-4c70-4fc7-a9eb-e2ba26344480",
        "colab": {
          "base_uri": "https://localhost:8080/",
          "height": 1000,
          "referenced_widgets": [
            "6d88401bc3714f6eb9dcb088824b0e51",
            "5baba18360e445b28de18937f40decd6",
            "de3d1a43b717428c892c33ce5cfb466d",
            "510bdcaa87f249d2b5c7f3476fdb7b24",
            "9dcda56642ea44b2b4d12cbd09327d63",
            "397b9d7e30e644f1bd423fabf3b844bd",
            "e520181f35364a3a92bc87e63b643944",
            "acc5a546eb634550a91d61248cf80526",
            "0501bba8803e402f88f65be8a3f7b1bd",
            "7a49350ef4274d688d49c0e5ef5c4ff7",
            "9e86df3e1e1646ea87200e18f3068f58",
            "6837ddfd91054c11be4c68a07c239ba4",
            "3c0339a9ca594af58c708a9bb3b1e82b",
            "834267b3beaa4eeea5fe5677a6519340",
            "17159e26ed5748e2982dd8a07940eb0c",
            "cd8cae465c9d4b1a86c21cfd1a9691ca"
          ]
        }
      },
      "source": [
        "### BLOCK LABEL - The effect of train-test ratios\n",
        "w = interactive(gen_lin_Y,dataset=fixed(0),noise=(0.0,50.0,0.1),train_ratio=(0.01,0.99,0.01),trial=(1,1000,1),show_truth=fixed(True),show_tr=fixed(True),show_te=False,show_model=fixed(True),show_pred=fixed(True))\n",
        "display(w)"
      ],
      "execution_count": 0,
      "outputs": [
        {
          "output_type": "display_data",
          "data": {
            "application/vnd.jupyter.widget-view+json": {
              "model_id": "6d88401bc3714f6eb9dcb088824b0e51",
              "version_minor": 0,
              "version_major": 2
            },
            "text/plain": [
              "interactive(children=(FloatSlider(value=25.0, description='noise', max=50.0), FloatSlider(value=0.5, descripti…"
            ]
          },
          "metadata": {
            "tags": []
          }
        }
      ]
    },
    {
      "cell_type": "markdown",
      "metadata": {
        "id": "zQxlT2M3TKQW",
        "colab_type": "text"
      },
      "source": [
        "The 'noise' slider controls how much our measurements are off from the truth.\n",
        "The train-ratio is the percent of our data we use for training.\n",
        "The trial "
      ]
    },
    {
      "cell_type": "markdown",
      "metadata": {
        "id": "zmP7soF3uzYb",
        "colab_type": "text"
      },
      "source": [
        "### How does this help us in inference?\n",
        "Here we're directly seeing how well our results generalize by trying it in the other half of our data that we didn't look at yet.\n",
        "It's \"like\" a second experiment.\n",
        "\n",
        "At the end of the day, the goal is to *infer* what's happening in our paients *through* the data we collect from them.\n",
        "\n",
        "Train-test splits is just one tool for inference.\n",
        "Many others exist\n",
        "\n",
        "All the different ways of doing machine learning rely on test-train in some way.\n",
        "The page for [scikit-learn](https://scikit-learn.org/stable) is a great place to start to learn about other algorithms and more advanced approaches to testing statistical significance based on 'train-test' splits.\n",
        "\n"
      ]
    },
    {
      "cell_type": "markdown",
      "metadata": {
        "id": "GkIzoNdUUDLx",
        "colab_type": "text"
      },
      "source": [
        "\n",
        "## Parting Thoughts\n",
        "In summary, the testing/training split is a powerful approach to testing inference.\n",
        "It lets us learn a complex pattern in half the data and assess how accurate this pattern, or *model*, is in the held-out set of observations, acting almost like a 'reproducibility' experiment.\n",
        "Obviously this comes at a cost: your data!\n",
        "You need a lot of *samples* to be able to do meaningful inference on half of it.\n",
        "\n",
        "In future notebooks we'll cover more advances topics in testing/training.\n",
        "For a preview, here are some external readings [cross-validation]() and [model selection]()."
      ]
    },
    {
      "cell_type": "markdown",
      "metadata": {
        "id": "atKkFSPwir_e",
        "colab_type": "text"
      },
      "source": [
        "Copyright 2020 MedML"
      ]
    }
  ]
}