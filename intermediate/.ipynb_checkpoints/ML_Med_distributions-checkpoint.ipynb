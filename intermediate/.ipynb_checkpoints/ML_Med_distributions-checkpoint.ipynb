{
 "cells": [
  {
   "cell_type": "markdown",
   "metadata": {},
   "source": [
    "# Machine Learning for Medicine: Workshop\n",
    "## Variables and distributions\n",
    "\n",
    "### Overview\n",
    "Data is a window into our patients.\n",
    "In medicine we care about two things: physiology and pathophysiology.\n",
    "Both of these translate to: how the body behaves, and how the body *mis*-behaves.\n",
    "Data is the way we try to figure out what's going on inside the patient and whether it's *normal* or *abnormal*.\n",
    "But we have to have a better understanding of where data comes from and what it can look like.\n",
    "\n",
    "In this notebook we cover some basics about variables, distributions, and data.\n",
    "These concepts are *core* to scientific and medical research, so we hope folks work through this before jumping into using machine learning in their dataset.\n",
    "\n",
    "#### How to run this notebook\n",
    "This Jupyter notebook can be run simply by going to the menu up top, selecting 'Kernel -> Restart and Run All'.\n",
    "\n",
    "You'll need some basic libraries to get this to work."
   ]
  },
  {
   "cell_type": "code",
   "execution_count": 1,
   "metadata": {},
   "outputs": [],
   "source": [
    "import numpy as np\n",
    "import matplotlib.pyplot as plt\n",
    "import ipywidgets as widgets\n",
    "from ipywidgets import interact, interactive\n",
    "from IPython.display import clear_output, display, HTML"
   ]
  },
  {
   "cell_type": "markdown",
   "metadata": {},
   "source": [
    "### What is a variable and a distribution\n",
    "Let's start right off with an example: I'm trying to figure out if my patient is diabetic.\n",
    "\n",
    "I could tell you what Mr. P's Hemoglobin A1c is right off the bat and you might be able to tell me whether Mr. P is above or below the ADA's threshold.\n",
    "That's not the point here.\n",
    "The point here is to understand what pieces are interacting as we make our inference.\n",
    "\n",
    "What we're interested in is two variables: the Hemoglobin A1c, which we'll label $x$, and whether Mr. P has diabetes, which we'll label $y$.\n",
    "$x$ and $y$ are *variables* we're interested in.\n",
    "\n",
    "#### A Healthy A1C: Histograms\n",
    "Based on guidelines, we know that the A1c cutoff for diabetes is about X.\n",
    "We can think about how this cutoff was selected using a thought experiment.\n",
    "Some study was performed in healthy patients and patients with diabetes diagnosed through physical exam + urine findings.\n",
    "They plotted the A1c of the healthy patients as a *histogram*.\n",
    "What is a histogram?"
   ]
  },
  {
   "cell_type": "code",
   "execution_count": 2,
   "metadata": {},
   "outputs": [
    {
     "data": {
      "text/plain": [
       "(0.0, 500.0)"
      ]
     },
     "execution_count": 2,
     "metadata": {},
     "output_type": "execute_result"
    },
    {
     "data": {
      "image/png": "[encoded data removed]",
      "text/plain": [
       "<Figure size 432x288 with 1 Axes>"
      ]
     },
     "metadata": {
      "needs_background": "light"
     },
     "output_type": "display_data"
    }
   ],
   "source": [
    "mfig,ax = plt.subplots()\n",
    "mean = 5\n",
    "xset = np.random.normal(5,2,size=1000)\n",
    "histo = ax.hist(xset,bins=np.arange(0,40))\n",
    "plt.xlim(0,40)\n",
    "plt.ylim(0,500)"
   ]
  },
  {
   "cell_type": "markdown",
   "metadata": {},
   "source": [
    "**How do we read that?** A histogram is a way to display our data. The x-axis is the value of our A1c. The y-axis is the *number of patients that had that A1c value*.\n",
    "\n",
    "**The mean of healthy** We can find the mean A1c value in our healthy group pretty easily."
   ]
  },
  {
   "cell_type": "code",
   "execution_count": 3,
   "metadata": {},
   "outputs": [
    {
     "name": "stdout",
     "output_type": "stream",
     "text": [
      "The mean A1c is: 4.848157186947227\n"
     ]
    }
   ],
   "source": [
    "mean_a1c = np.mean(xset)\n",
    "print('The mean A1c is: ' + str(mean_a1c))"
   ]
  },
  {
   "cell_type": "markdown",
   "metadata": {},
   "source": [
    "Now let's take a look at the dataset we got from our *diabetes* patients.\n",
    "\n",
    "#### The diabetic A1c\n",
    "We'll plot our diabetic dataset now in the same histogram format. The diabetic patients will have a *red* histogram while we'll keep our healthy patients in a *blue* histogram."
   ]
  },
  {
   "cell_type": "code",
   "execution_count": 4,
   "metadata": {},
   "outputs": [
    {
     "data": {
      "text/plain": [
       "(0.0, 500.0)"
      ]
     },
     "execution_count": 4,
     "metadata": {},
     "output_type": "execute_result"
    },
    {
     "data": {
      "image/png": "[encoded data removed]",
      "text/plain": [
       "<Figure size 432x288 with 1 Axes>"
      ]
     },
     "metadata": {
      "needs_background": "light"
     },
     "output_type": "display_data"
    }
   ],
   "source": [
    "mfig,ax = plt.subplots()\n",
    "mean = 5\n",
    "healthy_data = np.random.normal(5,2,size=1000)\n",
    "histo = ax.hist(healthy_data,bins=np.arange(0,40))\n",
    "\n",
    "diabetic_data = np.random.normal(6,2,size=1000)\n",
    "histo = ax.hist(diabetic_data,bins=np.arange(0,40),color='red',alpha=0.7)\n",
    "plt.xlim(0,40)\n",
    "plt.ylim(0,500)"
   ]
  },
  {
   "cell_type": "markdown",
   "metadata": {},
   "source": [
    "So now we can take the mean of our *healthy* patients and the mean of our *diabetic* patients."
   ]
  },
  {
   "cell_type": "code",
   "execution_count": 5,
   "metadata": {},
   "outputs": [
    {
     "name": "stdout",
     "output_type": "stream",
     "text": [
      "The mean A1c in our healthy patients is: 5.044257016318349\n",
      "The mean A1c in our diabetic patients is: 5.896750148446977\n"
     ]
    }
   ],
   "source": [
    "healthy_mean_a1c = np.mean(healthy_data)\n",
    "print('The mean A1c in our healthy patients is: ' + str(healthy_mean_a1c))\n",
    "\n",
    "diabetic_mean_a1c = np.mean(diabetic_data)\n",
    "print('The mean A1c in our diabetic patients is: ' + str(diabetic_mean_a1c))"
   ]
  },
  {
   "cell_type": "markdown",
   "metadata": {},
   "source": [
    "So, the means are **different**. But is this difference **meaningful**? Or is it just because measurements are always full of errors? After all, maybe we thought someone wasn't diabetic when they actually were.\n",
    "\n",
    "This is when we work with *statistical tests*."
   ]
  },
  {
   "cell_type": "markdown",
   "metadata": {},
   "source": [
    "#### Putting it all together with an interactive example"
   ]
  },
  {
   "cell_type": "code",
   "execution_count": 9,
   "metadata": {},
   "outputs": [
    {
     "data": {
      "application/vnd.jupyter.widget-view+json": {
       "model_id": "dcd2c4ca00064b238a75376980147b8a",
       "version_major": 2,
       "version_minor": 0
      },
      "text/plain": [
       "interactive(children=(FloatSlider(value=20.0, description='cutoff', max=40.0), Output()), _dom_classes=('widge…"
      ]
     },
     "metadata": {},
     "output_type": "display_data"
    }
   ],
   "source": [
    "hm=20\n",
    "hv=5\n",
    "hset = np.random.normal(hm,hv,size=1000)\n",
    "\n",
    "\n",
    "#Separate Scripts\n",
    "def update_distr(cutoff):\n",
    "    plt.figure()\n",
    "    #fig = plt.figure()\n",
    "    #ax = fig.add_axes([0, 0, 1, 1])\n",
    "    #ax.axis('off')\n",
    "    \n",
    "    #mfig,ax = plt.subplots()\n",
    "    #ax.cla()\n",
    "    histo = plt.hist(hset,bins=np.arange(0,40))\n",
    "    line = plt.axvline(x=cutoff,color='red')\n",
    "    #Fix up our plotting here\n",
    "    plt.xlim(0,40)\n",
    "    plt.ylim(0,500)\n",
    "    \n",
    "    \n",
    "    # Do some basic stats here\n",
    "    pval = np.sum(hset > cutoff) / 1000\n",
    "    plt.title('P-val: ' + str(pval))\n",
    "    \n",
    "    plt.show()\n",
    "\n",
    "\n",
    "w = interactive(update_distr, cutoff=(0.,40.))\n",
    "display(w)"
   ]
  },
  {
   "cell_type": "markdown",
   "metadata": {},
   "source": [
    "The red line that moves reflects the *mean of our observed data*.\n",
    "\n",
    "The blue *distribution* is what our data *would look like* over 100 simulated experiments if there *wasn't* an effect.\n",
    "This is what we call the **null hypothesis** and it's what we use to figure out if our observed data (red) could reasonably have come from pure chance."
   ]
  },
  {
   "cell_type": "markdown",
   "metadata": {},
   "source": [
    "### Further Reading\n",
    "While we've introduced the basic concepts of variables, distribution, and signal-to-noise in this notebook, there's a lot more nuance we can talk about.\n",
    "Some of this nuance can make a huge impact on how you should analyse your study.\n",
    "Head on over to our [intermediate notebooks]() and some [discussion points]() to delve into these nuances more."
   ]
  }
 ],
 "metadata": {
  "kernelspec": {
   "display_name": "Python 3",
   "language": "python",
   "name": "python3"
  },
  "language_info": {
   "codemirror_mode": {
    "name": "ipython",
    "version": 3
   },
   "file_extension": ".py",
   "mimetype": "text/x-python",
   "name": "python",
   "nbconvert_exporter": "python",
   "pygments_lexer": "ipython3",
   "version": "3.8.2"
  }
 },
 "nbformat": 4,
 "nbformat_minor": 4
}
