{
 "cells": [
  {
   "cell_type": "markdown",
   "metadata": {},
   "source": [
    "# Machine learning for medicine\n",
    "## Clustering\n",
    "\n",
    "## Overview\n",
    "In this notebook we're going to introduce clustering and two major approaches to custering.\n",
    "## Code Setup"
   ]
  },
  {
   "cell_type": "code",
   "execution_count": 65,
   "metadata": {},
   "outputs": [],
   "source": [
    "import numpy as np\n",
    "import scipy\n",
    "import matplotlib.pyplot as plt\n",
    "from ipywidgets import interact, interactive, fixed, interact_manual\n",
    "import ipywidgets as widgets\n",
    "import scipy.stats as stats\n",
    "import sklearn\n",
    "from sklearn.cluster import KMeans\n",
    "from sklearn import mixture"
   ]
  },
  {
   "cell_type": "markdown",
   "metadata": {},
   "source": [
    "<a id='test'></a>\n",
    "## What is Clustering?\n",
    "\n",
    "Imagine you've got two groups of patients and you're measuring three variables from those patients.\n",
    "\n",
    "_Example \\#1_\n",
    "We've got two groups of patients with diabetes and we give one group placebo and another group a new drug called MiraCle.\n",
    "Across all patients we measure 2 variables to see what major changes MiraCle induces in the patients.\n",
    "The two variables we measure in the two groups are: "
   ]
  },
  {
   "cell_type": "code",
   "execution_count": 74,
   "metadata": {},
   "outputs": [
    {
     "data": {
      "application/vnd.jupyter.widget-view+json": {
       "model_id": "0c0f49a8ccbf41dca480d5bff942701b",
       "version_major": 2,
       "version_minor": 0
      },
      "text/plain": [
       "interactive(children=(FloatSlider(value=3.0, description='cluster2_mean', max=10.0), Output()), _dom_classes=(…"
      ]
     },
     "metadata": {},
     "output_type": "display_data"
    },
    {
     "ename": "AttributeError",
     "evalue": "'interactive' object has no attribute 'output'",
     "output_type": "error",
     "traceback": [
      "\u001b[0;31m---------------------------------------------------------------------------\u001b[0m",
      "\u001b[0;31mAttributeError\u001b[0m                            Traceback (most recent call last)",
      "\u001b[0;32m<ipython-input-74-661cb1bed218>\u001b[0m in \u001b[0;36m<module>\u001b[0;34m\u001b[0m\n\u001b[1;32m     14\u001b[0m \u001b[0mdisplay\u001b[0m\u001b[0;34m(\u001b[0m\u001b[0mw\u001b[0m\u001b[0;34m)\u001b[0m\u001b[0;34m\u001b[0m\u001b[0;34m\u001b[0m\u001b[0m\n\u001b[1;32m     15\u001b[0m \u001b[0;34m\u001b[0m\u001b[0m\n\u001b[0;32m---> 16\u001b[0;31m \u001b[0mgroup1\u001b[0m \u001b[0;34m=\u001b[0m \u001b[0mw\u001b[0m\u001b[0;34m.\u001b[0m\u001b[0moutput\u001b[0m\u001b[0;34m[\u001b[0m\u001b[0;36m0\u001b[0m\u001b[0;34m]\u001b[0m\u001b[0;34m\u001b[0m\u001b[0;34m\u001b[0m\u001b[0m\n\u001b[0m",
      "\u001b[0;31mAttributeError\u001b[0m: 'interactive' object has no attribute 'output'"
     ]
    }
   ],
   "source": [
    "def gen_clusters(n_pts=100,cluster2_mean=3):\n",
    "    n_pts = 100\n",
    "    group1 = np.random.normal(np.array([0,0]),2,size=(n_pts,2))\n",
    "    group2 = np.random.normal(np.array([0,cluster2_mean]),2,size=(n_pts,2))\n",
    "\n",
    "    plt.figure()\n",
    "    plt.scatter(group1[:,0],group1[:,1])\n",
    "    plt.scatter(group2[:,0],group2[:,1])\n",
    "    plt.xlim((-15,15))\n",
    "    plt.ylim((-15,15))\n",
    "    \n",
    "    return group1,group2\n",
    "w = interactive(gen_clusters,n_pts=fixed(100),cluster2_mean=(0.0,10.0,0.1))\n",
    "display(w)"
   ]
  },
  {
   "cell_type": "markdown",
   "metadata": {},
   "source": [
    "Sure looks like there's a difference between the two groups in the y-axis, or the 12 month A1c.\n",
    "\n",
    "If we compare the means in the y-dimension between the two groups we see..."
   ]
  },
  {
   "cell_type": "code",
   "execution_count": 67,
   "metadata": {},
   "outputs": [
    {
     "name": "stdout",
     "output_type": "stream",
     "text": [
      "Ttest_indResult(statistic=-9.43798054159394, pvalue=1.0732913776254097e-17)\n"
     ]
    },
    {
     "data": {
      "image/png": "[encoded data removed]",
      "text/plain": [
       "<Figure size 432x288 with 1 Axes>"
      ]
     },
     "metadata": {
      "needs_background": "light"
     },
     "output_type": "display_data"
    }
   ],
   "source": [
    "plt.hist(group1[:,1],alpha=0.3)\n",
    "plt.hist(group2[:,1],alpha=0.3)\n",
    "t_test_res = stats.ttest_ind(group1[:,1],group2[:,1])\n",
    "print(t_test_res)"
   ]
  },
  {
   "cell_type": "code",
   "execution_count": 68,
   "metadata": {},
   "outputs": [
    {
     "data": {
      "text/plain": [
       "(-15.0, 15.0)"
      ]
     },
     "execution_count": 68,
     "metadata": {},
     "output_type": "execute_result"
    },
    {
     "data": {
      "image/png": "[encoded data removed]",
      "text/plain": [
       "<Figure size 432x288 with 1 Axes>"
      ]
     },
     "metadata": {
      "needs_background": "light"
     },
     "output_type": "display_data"
    }
   ],
   "source": [
    "X = np.vstack((group1,group2))\n",
    "kmeans = KMeans(n_clusters=2,random_state=0).fit(X)\n",
    "\n",
    "plt.figure()\n",
    "sc1 = plt.scatter(group1[:,0],group1[:,1],alpha=0.3,color='b')\n",
    "plt.scatter(kmeans.cluster_centers_[0,0],kmeans.cluster_centers_[0,1],color='b')\n",
    "plt.scatter(group2[:,0],group2[:,1],alpha=0.3,color='r')\n",
    "plt.scatter(kmeans.cluster_centers_[1,0],kmeans.cluster_centers_[1,1],color='r')\n",
    "plt.xlim((-15,15))\n",
    "plt.ylim((-15,15))"
   ]
  },
  {
   "cell_type": "markdown",
   "metadata": {},
   "source": [
    "## Gaussian Mixture Models\n",
    "\n",
    "K-means clustering goes in and calculates the 'dividing line' using the data.\n",
    "Meaning, if your data has major limitations, like small sample size, it'll be very sensitive to small issues, like outliers."
   ]
  },
  {
   "cell_type": "code",
   "execution_count": 69,
   "metadata": {},
   "outputs": [
    {
     "data": {
      "text/plain": [
       "<matplotlib.collections.PathCollection at 0x7fcbbe9dd550>"
      ]
     },
     "execution_count": 69,
     "metadata": {},
     "output_type": "execute_result"
    },
    {
     "data": {
      "image/png": "[encoded data removed]",
      "text/plain": [
       "<Figure size 432x288 with 1 Axes>"
      ]
     },
     "metadata": {
      "needs_background": "light"
     },
     "output_type": "display_data"
    }
   ],
   "source": [
    "clf = mixture.GaussianMixture(n_components=2, covariance_type='full')\n",
    "clf.fit(X)\n",
    "\n",
    "plt.figure()\n",
    "plt.scatter(X[:, 0], X[:, 1], .8)\n"
   ]
  }
 ],
 "metadata": {
  "kernelspec": {
   "display_name": "Python 3",
   "language": "python",
   "name": "python3"
  },
  "language_info": {
   "codemirror_mode": {
    "name": "ipython",
    "version": 3
   },
   "file_extension": ".py",
   "mimetype": "text/x-python",
   "name": "python",
   "nbconvert_exporter": "python",
   "pygments_lexer": "ipython3",
   "version": "3.8.2"
  }
 },
 "nbformat": 4,
 "nbformat_minor": 4
}
