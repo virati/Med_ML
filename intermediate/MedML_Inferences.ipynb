{
 "cells": [
  {
   "cell_type": "markdown",
   "metadata": {},
   "source": [
    "# Exercised in inference styles\n"
   ]
  },
  {
   "cell_type": "code",
   "execution_count": 1,
   "metadata": {},
   "outputs": [],
   "source": [
    "import numpy as np\n",
    "import matplotlib.pyplot as plt"
   ]
  },
  {
   "cell_type": "code",
   "execution_count": 39,
   "metadata": {},
   "outputs": [
    {
     "data": {
      "text/plain": [
       "(array([ 1.,  2.,  8.,  8., 27., 27., 18.,  7.,  1.,  1.]),\n",
       " array([-18.47549107, -14.40423055, -10.33297002,  -6.26170949,\n",
       "         -2.19044897,   1.88081156,   5.95207208,  10.02333261,\n",
       "         14.09459314,  18.16585366,  22.23711419]),\n",
       " <a list of 10 Patch objects>)"
      ]
     },
     "execution_count": 39,
     "metadata": {},
     "output_type": "execute_result"
    },
    {
     "data": {
      "image/png": "[encoded data removed]",
      "text/plain": [
       "<Figure size 432x288 with 1 Axes>"
      ]
     },
     "metadata": {
      "needs_background": "light"
     },
     "output_type": "display_data"
    }
   ],
   "source": [
    "x_0 = np.random.normal(2,6,size=(100,1))\n",
    "plt.hist(x_0)"
   ]
  },
  {
   "cell_type": "code",
   "execution_count": 40,
   "metadata": {},
   "outputs": [
    {
     "data": {
      "text/plain": [
       "<matplotlib.collections.LineCollection at 0x7fde29bd8040>"
      ]
     },
     "execution_count": 40,
     "metadata": {},
     "output_type": "execute_result"
    },
    {
     "data": {
      "image/png": "[encoded data removed]",
      "text/plain": [
       "<Figure size 432x288 with 1 Axes>"
      ]
     },
     "metadata": {
      "needs_background": "light"
     },
     "output_type": "display_data"
    }
   ],
   "source": [
    "plt.hist(x_0)\n",
    "plt.vlines(np.mean(x_0),0,20)"
   ]
  },
  {
   "cell_type": "code",
   "execution_count": 58,
   "metadata": {},
   "outputs": [
    {
     "data": {
      "text/plain": [
       "(-10.0, 10.0)"
      ]
     },
     "execution_count": 58,
     "metadata": {},
     "output_type": "execute_result"
    },
    {
     "data": {
      "image/png": "[encoded data removed]",
      "text/plain": [
       "<Figure size 432x288 with 1 Axes>"
      ]
     },
     "metadata": {
      "needs_background": "light"
     },
     "output_type": "display_data"
    }
   ],
   "source": [
    "#null distribution\n",
    "noise=200\n",
    "x_null = np.random.normal(0,noise/(100),size=(100,1))\n",
    "plt.hist(x_null,bins=np.linspace(-1,1,8))\n",
    "plt.vlines(np.mean(x_0),0,20)\n",
    "plt.xlim((-10,10))"
   ]
  },
  {
   "cell_type": "markdown",
   "metadata": {},
   "source": [
    "## Likelihood Ratio\n",
    "\n",
    "But we never perform an experiment with *zero* information.\n",
    "We can actually use the literature to construct an *alternative hypothesis* explicitly.\n",
    "Let's say we're studying something that others have indirectly studied.\n",
    "They speculate (in their discussion section of course) that we should see a specific relationships between x and y."
   ]
  },
  {
   "cell_type": "markdown",
   "metadata": {},
   "source": [
    "## Bayesian\n",
    "The Bayesian approach will be the last one we work with.\n",
    "In this approach we come into the experiment with a *prior* on what we think our data should look like given what we think we know about the system.\n",
    "This prior can come from anything: literature, experience, even gut feeling.\n",
    "What keeps it accountable is that you *write it all out*.\n",
    "There's no hiding a piece, you write out each component and you tell the reader where that component came from.\n",
    "\n",
    "What we do then is collect a dataset and then integrate it into our prior using a fixed set of rules to give a *posterior*.\n",
    "This *posterior* tells us what we think we know about the system given the data we just saw.\n",
    "\n",
    "This is a powerful, transparent approach that promotes transparency.\n",
    "Instead of collecting a 'large enough sample to ignore confounds' or 'avoid bias', we make our biases explicit and let the math tell us if we were right or not.\n"
   ]
  },
  {
   "cell_type": "code",
   "execution_count": 59,
   "metadata": {},
   "outputs": [],
   "source": []
  }
 ],
 "metadata": {
  "kernelspec": {
   "display_name": "Python 3",
   "language": "python",
   "name": "python3"
  },
  "language_info": {
   "codemirror_mode": {
    "name": "ipython",
    "version": 3
   },
   "file_extension": ".py",
   "mimetype": "text/x-python",
   "name": "python",
   "nbconvert_exporter": "python",
   "pygments_lexer": "ipython3",
   "version": "3.8.3"
  }
 },
 "nbformat": 4,
 "nbformat_minor": 4
}
