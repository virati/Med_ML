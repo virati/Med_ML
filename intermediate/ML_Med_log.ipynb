{
 "cells": [
  {
   "cell_type": "code",
   "execution_count": 28,
   "metadata": {
    "jupyter": {
     "source_hidden": true
    }
   },
   "outputs": [],
   "source": [
    "import numpy as np\n",
    "import scipy.signal as sig\n",
    "import matplotlib.pyplot as plt\n",
    "from ipywidgets import interactive, fixed\n",
    "\n",
    "plt.rcParams['figure.figsize'] = 20, 5"
   ]
  },
  {
   "cell_type": "markdown",
   "metadata": {},
   "source": [
    "# COVID curves and the 'log'\n",
    "\n",
    "Displaying the number of confirmed COVID cases is a day-to-day necessity.\n",
    "Displaying those cases using a $\\log$ scale is also a necessity.\n",
    "This notebook is an interactive way to get more familiar with $\\log$.\n",
    "\n",
    "## The number of cases\n",
    "Relatedly, we have an ongoing tally of the number of COVID cases in different countries.\n",
    "One of the more popular ones is this one:\n",
    "\n",
    "![Curve of COVID cases in various countries]()\n",
    "\n",
    "Importantly, this curve actually has a *log scale* on the y-axis.\n",
    "This is a fancy way of saying: we're going to try to display very, very big numbers.\n",
    "This 'log' thing we do to the data is called a *function* and, importantly, it's *non-linear*.\n",
    "\n",
    "Let's take a look at the curve *without* the log.\n",
    "\n",
    "\n",
    "## The COVID Curve\n",
    "One of the most effective rallying-cries of the COVID crisis has been 'flatten the curve'.\n",
    "This refers to the idea that we can spread out the number of cases of severe COVID infections by reducing the ability of the virus from spreading.\n",
    "This means if we *socially isolate* ourselves we can actually delay the spread of the COVID virus to our friends *once we get it*.\n",
    "\n",
    "This is important.\n",
    "\n",
    "\n",
    "## The Log function"
   ]
  },
  {
   "cell_type": "code",
   "execution_count": 29,
   "metadata": {},
   "outputs": [
    {
     "data": {
      "application/vnd.jupyter.widget-view+json": {
       "model_id": "6cbc2844a4764781b0ea37792fd00972",
       "version_major": 2,
       "version_minor": 0
      },
      "text/plain": [
       "interactive(children=(FloatSlider(value=25.0, description='a', max=50.0, min=1.0), Output()), _dom_classes=('w…"
      ]
     },
     "metadata": {},
     "output_type": "display_data"
    }
   ],
   "source": [
    "x = np.linspace(0.01,1000,1000)\n",
    "\n",
    "def exp_eg(a,fix_y = False):\n",
    "    \n",
    "    plt.subplot(1,2,1)\n",
    "    plt.plot(x,a*x)\n",
    "    if fix_y:\n",
    "        plt.ylim((0,1e4))\n",
    "    plt.xlabel('Days')\n",
    "    plt.title('Cases')\n",
    "    \n",
    "    plt.subplot(1,2,2)\n",
    "    plt.plot(x,np.log10(a*x))\n",
    "    plt.plot(x,np.log(a*x),'--')\n",
    "    plt.xlim((-100,1000))\n",
    "    plt.ylim((-1,20))\n",
    "    plt.xlabel('Days')\n",
    "    plt.title('Logged Cases')\n",
    "    plt.legend(('Log_10','Log_e'))\n",
    "    \n",
    "d = interactive(exp_eg,a=(1,50,0.1),fix_y=fixed(False))\n",
    "display(d)"
   ]
  },
  {
   "cell_type": "markdown",
   "metadata": {},
   "source": [
    "Let's do that again, but let's fix the y-axis to something so it doesn't change."
   ]
  },
  {
   "cell_type": "code",
   "execution_count": 30,
   "metadata": {},
   "outputs": [
    {
     "data": {
      "application/vnd.jupyter.widget-view+json": {
       "model_id": "437ac2d524a0405eaae4a83a6cfe2e4b",
       "version_major": 2,
       "version_minor": 0
      },
      "text/plain": [
       "interactive(children=(FloatSlider(value=25.0, description='a', max=50.0, min=1.0), Checkbox(value=True, descri…"
      ]
     },
     "metadata": {},
     "output_type": "display_data"
    }
   ],
   "source": [
    "d = interactive(exp_eg,a=(1,50,0.1),fix_y=True)\n",
    "display(d)"
   ]
  },
  {
   "cell_type": "markdown",
   "metadata": {},
   "source": [
    "## Log takes \"exponential\" growth to \"linear\"\n",
    "Let's play around with the Log function to better understand how it transforms data."
   ]
  },
  {
   "cell_type": "code",
   "execution_count": 31,
   "metadata": {},
   "outputs": [
    {
     "data": {
      "application/vnd.jupyter.widget-view+json": {
       "model_id": "45cf13657b014fffb7ee9675f48f2645",
       "version_major": 2,
       "version_minor": 0
      },
      "text/plain": [
       "interactive(children=(FloatSlider(value=2.0, description='a', max=5.0, step=0.01), Output()), _dom_classes=('w…"
      ]
     },
     "metadata": {},
     "output_type": "display_data"
    }
   ],
   "source": [
    "x = np.linspace(-10,10,1000)\n",
    "\n",
    "def exp_eg(a):\n",
    "    y1 = np.exp(a * x)\n",
    "    \n",
    "    plt.subplot(1,2,1)\n",
    "    plt.plot(x,y1)\n",
    "    plt.xlim((-10,10))\n",
    "    plt.ylim((-1,100))\n",
    "    plt.title('The main curve')\n",
    "    \n",
    "    plt.subplot(1,2,2)\n",
    "    plt.plot(x,np.log10(y1))\n",
    "    plt.xlim((-10,10))\n",
    "    plt.ylim((-1,100))\n",
    "    plt.title('The Logged Curve')\n",
    "    \n",
    "d = interactive(exp_eg,a=(0,5,0.01))\n",
    "display(d)"
   ]
  }
 ],
 "metadata": {
  "kernelspec": {
   "display_name": "Python 3",
   "language": "python",
   "name": "python3"
  },
  "language_info": {
   "codemirror_mode": {
    "name": "ipython",
    "version": 3
   },
   "file_extension": ".py",
   "mimetype": "text/x-python",
   "name": "python",
   "nbconvert_exporter": "python",
   "pygments_lexer": "ipython3",
   "version": "3.8.2"
  }
 },
 "nbformat": 4,
 "nbformat_minor": 4
}
