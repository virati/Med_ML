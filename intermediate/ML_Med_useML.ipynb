{
 "cells": [
  {
   "cell_type": "markdown",
   "metadata": {},
   "source": [
    "# Machine learning for medicine\n",
    "## Using Machine Learning for Discovery\n",
    "\n",
    "The goal of this notebook is to impart a foundation that can help you apply machine learning approaches to your Discovery project.\n",
    "\n",
    "Below is a set of rapid-fire examples that don't spend a lot of time motivating examples.\n",
    "Instead, their goal is to outline a quick setup of how to implement basic ML analyses that may be helpful in the types of datasets typical for clinical research/Discovery.\n",
    "\n",
    "### Imports"
   ]
  },
  {
   "cell_type": "code",
   "execution_count": 1,
   "metadata": {},
   "outputs": [],
   "source": [
    "import pandas as pds\n",
    "import numpy as np\n",
    "from ipywidgets import interact, interactive, fixed, interact_manual\n",
    "import scipy.stats as stats\n",
    "import ipywidgets as widgets\n",
    "import matplotlib.pyplot as plt\n",
    "\n",
    "import networkx as nx"
   ]
  },
  {
   "cell_type": "markdown",
   "metadata": {},
   "source": [
    "## Testing-Training Set\n",
    "We're going to start with a very, very important concept: splitting your data into a *training* set and a *testing* set.\n",
    "This is crucially important because it lets you study whether the model you learned is *generalizable*."
   ]
  },
  {
   "cell_type": "code",
   "execution_count": null,
   "metadata": {},
   "outputs": [],
   "source": []
  },
  {
   "cell_type": "markdown",
   "metadata": {},
   "source": [
    "It's almost like a cheat code: it makes it possible for us to fit a model to part of our data and then see how well that model performs in data that **was not used to make the model**.\n",
    "This gets around a lot of the problems that drove people to criticize \"model fitting\" for decades.\n",
    "\n",
    "**There are few reasons for a model that performs well in a training set to also perform well in the testing set *unless the model captures some aspect of the truth* **.\n",
    "\n",
    "We'll explore this idea in more detail in a different notebook, because there's some nuances there."
   ]
  },
  {
   "cell_type": "markdown",
   "metadata": {},
   "source": [
    "## Finding Relationships: Regression\n",
    "\n",
    "### Linear\n",
    "So we've got two variables, both of which can be any number you can think of.\n",
    "Linear regression would be a good place to start to see if we can link the two variables.\n",
    "\n",
    "\n",
    "### Non-linear\n",
    "You have a sneaking suspicion that the variables you're interested in aren't perfectly linearly related: at some point if you double the input you *don't* double the output.\n",
    "Let's work on some *non-linear* analyses."
   ]
  },
  {
   "cell_type": "code",
   "execution_count": null,
   "metadata": {},
   "outputs": [],
   "source": []
  },
  {
   "cell_type": "markdown",
   "metadata": {},
   "source": [
    "## Finding Boundaries: Logistic Regression\n",
    "\n",
    "You've got some lab value that is a number and you're trying to figure out if the patient is in some *catagory* or subtype of disease.\n",
    "Logistic regression may be a good option for you."
   ]
  },
  {
   "cell_type": "markdown",
   "metadata": {},
   "source": [
    "## Finding Patterns: Principal Components\n",
    "You've got a whole bunch of data in a whole bunch of variables.\n",
    "You don't really know where to being, you just know some of the variables go with each other and you want to see if those variables"
   ]
  },
  {
   "cell_type": "markdown",
   "metadata": {},
   "source": [
    "## Finding Groups: Clustering"
   ]
  }
 ],
 "metadata": {
  "kernelspec": {
   "display_name": "Python 3",
   "language": "python",
   "name": "python3"
  },
  "language_info": {
   "codemirror_mode": {
    "name": "ipython",
    "version": 3
   },
   "file_extension": ".py",
   "mimetype": "text/x-python",
   "name": "python",
   "nbconvert_exporter": "python",
   "pygments_lexer": "ipython3",
   "version": "3.8.2"
  }
 },
 "nbformat": 4,
 "nbformat_minor": 4
}
