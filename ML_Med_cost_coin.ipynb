{
 "cells": [
  {
   "cell_type": "markdown",
   "metadata": {},
   "source": [
    "# Cost of rigor\n",
    "\n",
    "The goal of science is inference.\n",
    "One major goal of medicine is also inference.\n",
    "Inference is the process by which we \"figure out what's going on out there\".\n"
   ]
  },
  {
   "cell_type": "code",
   "execution_count": 2,
   "metadata": {},
   "outputs": [],
   "source": [
    "import numpy as np\n",
    "import scipy\n",
    "import matplotlib.pyplot as plt\n",
    "from ipywidgets import interact, interactive, fixed, interact_manual\n",
    "import ipywidgets as widgets\n",
    "import scipy.stats as stats"
   ]
  },
  {
   "cell_type": "code",
   "execution_count": 18,
   "metadata": {},
   "outputs": [
    {
     "data": {
      "application/vnd.jupyter.widget-view+json": {
       "model_id": "8c87e1a949e743e3b6c2780b8a3fa712",
       "version_major": 2,
       "version_minor": 0
      },
      "text/plain": [
       "interactive(children=(IntSlider(value=50, description='samples', min=1), FloatSlider(value=0.5, description='p…"
      ]
     },
     "metadata": {},
     "output_type": "display_data"
    },
    {
     "data": {
      "text/plain": [
       "<function __main__.experiment(samples, p=0.5)>"
      ]
     },
     "execution_count": 18,
     "metadata": {},
     "output_type": "execute_result"
    }
   ],
   "source": [
    "def experiment(samples,p=0.5):\n",
    "    fair_coin = np.random.binomial(samples,0.5,1000)\n",
    "    our_coin = np.random.binomial(samples,p,1000)\n",
    "    \n",
    "    #aggr = np.sum(fair_coin)\n",
    "    \n",
    "    plt.figure()\n",
    "    plt.hist(fair_coin,color='red')\n",
    "    plt.hist(our_coin,color='green')\n",
    "    plt.xlim((0,100))\n",
    "    plt.ylim((0,1000))\n",
    "    \n",
    "interact(experiment,samples=(1,100,1),p=(0.0,1.0,0.1))"
   ]
  }
 ],
 "metadata": {
  "kernelspec": {
   "display_name": "Python 3",
   "language": "python",
   "name": "python3"
  },
  "language_info": {
   "codemirror_mode": {
    "name": "ipython",
    "version": 3
   },
   "file_extension": ".py",
   "mimetype": "text/x-python",
   "name": "python",
   "nbconvert_exporter": "python",
   "pygments_lexer": "ipython3",
   "version": "3.8.1"
  }
 },
 "nbformat": 4,
 "nbformat_minor": 4
}
