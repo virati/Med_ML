{
 "cells": [
  {
   "cell_type": "markdown",
   "metadata": {},
   "source": [
    "# Adaptive Power Screening\n",
    "\n",
    "We're told to use $\\alpha = 0.05$ for our power threshold.\n",
    "This translates to a low probability of false-positives, a low probability of saying there's an effect when there isn't one: $P(D = \\mathcal{H}_1 | T = \\mathcal{H}_0)$.\n",
    "\n",
    "But there's a cost to being wrong and that cost may depend on whether we have a false-positive or a false-negative.\n",
    "For example, if we have a false-negative then we would say \"it's unlikely you have the disease\" and tell the patient to go live their lives.\n",
    "Unfortunately, by definition, this is going to lead to major problems and major costs down the line.\n",
    "A false-positive, in contrast, is less problematic because a positive *always leads to more testing*.\n",
    "\n",
    "Minimizing the probability of false-positive makes sense for scientific studies, but makes less sense for clinical studies.\n"
   ]
  }
 ],
 "metadata": {
  "kernelspec": {
   "display_name": "Python 3",
   "language": "python",
   "name": "python3"
  },
  "language_info": {
   "codemirror_mode": {
    "name": "ipython",
    "version": 3
   },
   "file_extension": ".py",
   "mimetype": "text/x-python",
   "name": "python",
   "nbconvert_exporter": "python",
   "pygments_lexer": "ipython3",
   "version": "3.8.2"
  }
 },
 "nbformat": 4,
 "nbformat_minor": 4
}
