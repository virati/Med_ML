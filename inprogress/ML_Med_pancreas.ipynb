{
 "cells": [
  {
   "cell_type": "markdown",
   "metadata": {},
   "source": [
    "# Pancreas (patho)Physiology\n",
    "\n",
    "The pancreas sits at the center of one of the most common diseases we deal with: diabetes.\n",
    "In this notebook we'll use the pancreas and diabetes to illustrate the usefulness of machine learning.\n",
    "\n",
    "## Diabetes Example\n",
    "Science, and medicine, cares about whether and how variables relate to each other.\n",
    "\n",
    "Let's use a **diabetes example**.\n",
    "In assessing whether a patient has diabetes we can focus on two variables: their Hemoglobin A1c ($A$) and whether they have diabetes ($D$).\n",
    "Based off of scientific understanding and data-driven studies, we know there's a link between the two.\n",
    "If the A1c is high, they're very likely to have diabetes. If it's low, they're not as likely to have diabetes.\n",
    "If a new patient walks in and you measure a high A1c $A=10$ you know almost 100\\% that $D = \\text{yes}$.\n"
   ]
  },
  {
   "cell_type": "markdown",
   "metadata": {},
   "source": [
    "## Imports"
   ]
  },
  {
   "cell_type": "code",
   "execution_count": 1,
   "metadata": {},
   "outputs": [],
   "source": [
    "import numpy as np\n",
    "import networkx as nx\n",
    "import scipy.signal as sig\n",
    "import matplotlib.pyplot as plt"
   ]
  },
  {
   "cell_type": "markdown",
   "metadata": {},
   "source": [
    "## Model Overview\n",
    "The pancreas consists of two types of cells: $\\alpha$ and $\\beta$ cells. $\\beta$ cells detect glucose in the blood and release insulin into the bloodstream.\n",
    "The insulin then acts on all the cells of the body, telling them to *take up glucose from the blood*."
   ]
  },
  {
   "cell_type": "markdown",
   "metadata": {},
   "source": [
    "## The Pancreas\n",
    "We've got two compartments to the Pancreas: $\\alpha$ and $\\beta$ cell activity."
   ]
  },
  {
   "cell_type": "code",
   "execution_count": 6,
   "metadata": {},
   "outputs": [],
   "source": [
    "alpha = 0\n",
    "beta = 0\n",
    "\n",
    "glucose_blood = 0\n",
    "insulin = 0"
   ]
  },
  {
   "cell_type": "code",
   "execution_count": 10,
   "metadata": {},
   "outputs": [],
   "source": [
    "c,d,e = 1,1,1\n",
    "beta_dot = c*glucose_blood\n",
    "insulin_dot = d * beta\n",
    "glucose_blood_dot = -e*insulin\n",
    "k_dot = insulin"
   ]
  },
  {
   "cell_type": "markdown",
   "metadata": {},
   "source": [
    "What we've just done is describe the *dynamics* of our system.\n",
    "Another way of seeing the code above is in its math form\n",
    "\n",
    "$$\n",
    "\\dot{x} = \\begin{bmatrix}c \\cdot x_3 \\\\ d \\cdot x_0 \\\\ -e \\cdot x_1 \\\\ f \\cdot x_1\\end{bmatrix}\n",
    "$$\n",
    "\n",
    "Pretty standard (read: boring) linear dynamical system."
   ]
  }
 ],
 "metadata": {
  "kernelspec": {
   "display_name": "Python 3",
   "language": "python",
   "name": "python3"
  },
  "language_info": {
   "codemirror_mode": {
    "name": "ipython",
    "version": 3
   },
   "file_extension": ".py",
   "mimetype": "text/x-python",
   "name": "python",
   "nbconvert_exporter": "python",
   "pygments_lexer": "ipython3",
   "version": "3.8.2"
  }
 },
 "nbformat": 4,
 "nbformat_minor": 4
}
