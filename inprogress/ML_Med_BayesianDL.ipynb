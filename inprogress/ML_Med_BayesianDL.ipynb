{
 "cells": [
  {
   "cell_type": "markdown",
   "metadata": {},
   "source": [
    "# Bayesian Deep Learning\n",
    "\n",
    "In this notebook we'll cover the basics of Bayesian Deep Learning with the goal of setting up a simple problem and pushing forward with it.\n",
    "\n",
    "This notebook is built off of [this video](https://www.youtube.com/watch?v=E1qhGw8QxqY).\n",
    "\n",
    "## Intro\n",
    "Bayesian pretty much translates to \"write down the prior information\".\n",
    "We can then actually use this prior information to analyse data and infer what we care about.\n",
    "\n",
    "Deep Learning translates to \"make a model with lots of moving parts inside\".\n",
    "We can then tweak around with all the moving parts so it does exactly what our data does, with the (reasonable) hope that what our data does is also what reality does."
   ]
  },
  {
   "cell_type": "markdown",
   "metadata": {},
   "source": [
    "## Setup"
   ]
  },
  {
   "cell_type": "code",
   "execution_count": null,
   "metadata": {},
   "outputs": [],
   "source": []
  }
 ],
 "metadata": {
  "kernelspec": {
   "display_name": "Python 3",
   "language": "python",
   "name": "python3"
  },
  "language_info": {
   "codemirror_mode": {
    "name": "ipython",
    "version": 3
   },
   "file_extension": ".py",
   "mimetype": "text/x-python",
   "name": "python",
   "nbconvert_exporter": "python",
   "pygments_lexer": "ipython3",
   "version": "3.8.3"
  }
 },
 "nbformat": 4,
 "nbformat_minor": 4
}
