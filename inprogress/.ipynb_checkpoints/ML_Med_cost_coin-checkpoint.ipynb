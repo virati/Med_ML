{
 "cells": [
  {
   "cell_type": "markdown",
   "metadata": {},
   "source": [
    "# Cost of rigor\n",
    "\n",
    "The goal of science is inference.\n",
    "One major goal of medicine is also inference.\n",
    "Inference is the process by which we \"figure out what's going on out there\".\n"
   ]
  },
  {
   "cell_type": "code",
   "execution_count": 2,
   "metadata": {},
   "outputs": [],
   "source": [
    "import numpy as np\n",
    "import scipy\n",
    "import matplotlib.pyplot as plt\n",
    "from ipywidgets import interact, interactive, fixed, interact_manual\n",
    "import ipywidgets as widgets\n",
    "import scipy.stats as stats"
   ]
  },
  {
   "cell_type": "code",
   "execution_count": 6,
   "metadata": {},
   "outputs": [
    {
     "data": {
      "application/vnd.jupyter.widget-view+json": {
       "model_id": "d70d3820e49d469ea320f628ae94be89",
       "version_major": 2,
       "version_minor": 0
      },
      "text/plain": [
       "interactive(children=(IntSlider(value=50, description='samples', min=1), FloatSlider(value=0.5, description='p…"
      ]
     },
     "metadata": {},
     "output_type": "display_data"
    },
    {
     "data": {
      "text/plain": [
       "<function __main__.experiment(samples, p=0.5)>"
      ]
     },
     "execution_count": 6,
     "metadata": {},
     "output_type": "execute_result"
    }
   ],
   "source": [
    "def experiment(samples,p=0.5):\n",
    "    fair_coin = np.random.binomial(samples,0.5,1000)\n",
    "    our_coin = np.random.binomial(samples,p,1000)\n",
    "    \n",
    "    #aggr = np.sum(fair_coin)\n",
    "    \n",
    "    plt.figure()\n",
    "    plt.hist(fair_coin,color='green')\n",
    "    plt.hist(our_coin,color='red')\n",
    "    plt.xlim((0,100))\n",
    "    plt.ylim((0,1000))\n",
    "    \n",
    "interact(experiment,samples=(1,100,1),p=(0.0,1.0,0.1))"
   ]
  },
  {
   "cell_type": "markdown",
   "metadata": {},
   "source": [
    "# Cost to enlightenment\n",
    "We can calculate how many flips it takes to achieve a $p<0.05$ but this also costs us \\\\$X dollars.\n",
    "Let's say we don't necessarily care to be sure to $p<0.05$ but $p<0.10$ is sufficient.\n",
    "But even this is arbitrary; can we find a rigorous way to maximize certainty with minimizing cost?\n",
    "This process is called optimization."
   ]
  },
  {
   "cell_type": "markdown",
   "metadata": {},
   "source": [
    "# Priors\n",
    "The last thing we'll talk about are *priors*.\n",
    "This is a piece of the puzzle where we *explicitly* incorporate previous knowledge about what we're studying.\n",
    "For example, we already *know* that the person flipping the coin is someone who does some shady things because our friend was here yesterday and said as much.\n"
   ]
  }
 ],
 "metadata": {
  "kernelspec": {
   "display_name": "Python 3",
   "language": "python",
   "name": "python3"
  },
  "language_info": {
   "codemirror_mode": {
    "name": "ipython",
    "version": 3
   },
   "file_extension": ".py",
   "mimetype": "text/x-python",
   "name": "python",
   "nbconvert_exporter": "python",
   "pygments_lexer": "ipython3",
   "version": "3.8.1"
  }
 },
 "nbformat": 4,
 "nbformat_minor": 4
}
