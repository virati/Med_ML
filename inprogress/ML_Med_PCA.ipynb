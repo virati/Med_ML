{
 "cells": [
  {
   "cell_type": "markdown",
   "metadata": {},
   "source": [
    "# Machine learning for medicine\n",
    "## Principal Components Analysis\n",
    "\n",
    "## Overview\n",
    "It's conventional wisdom that you shouldn't collect more data than your specific hypothesis requires.\n",
    "This is because, in the past, we needed to apply pretty simple statistics **by hand** to our data in order to test hypotheses.\n",
    "Today is very, very different.\n",
    "\n",
    "\n",
    "Imagine we've got a dataset and we're trying to see *what* patterns we've got in there.\n",
    "We're not necessarily choosing \"independent\" or \"dependent\" variables ahead of time.\n",
    "Instead, we're trying to see whether there are patterns in our data across any of the variables.\n",
    "\n",
    "As always, there's code and interactive widgets all along the way."
   ]
  },
  {
   "cell_type": "markdown",
   "metadata": {},
   "source": [
    "### Code Setup"
   ]
  },
  {
   "cell_type": "code",
   "execution_count": null,
   "metadata": {
    "jupyter": {
     "source_hidden": true
    }
   },
   "outputs": [],
   "source": [
    "# The big library for doing math + data in python\n",
    "import numpy as np\n",
    "\n",
    "# A big library that has a lot of useful functions for scientific use of python\n",
    "import scipy\n",
    "\n",
    "# The main library for plotting\n",
    "import matplotlib.pyplot as plt\n",
    "\n",
    "# The main library used for statistics\n",
    "import scipy.stats as stats\n",
    "\n",
    "# The library we're going to use for our linear regression\n",
    "from sklearn.linear_model import LinearRegression\n",
    "\n",
    "# Libraries that let us use interactive widgets\n",
    "from ipywidgets import interact, interactive, fixed, interact_manual\n",
    "import ipywidgets as widgets\n",
    "\n",
    "# Misc stuff related to cleaning up code and displaying results in a pretty way\n",
    "from example_systems import *\n",
    "from IPython.display import Markdown as md"
   ]
  },
  {
   "cell_type": "markdown",
   "metadata": {},
   "source": [
    "## Principal Components Analysis (simple)\n",
    "Let's say we're trying to see whether there's a relationship between a patient's A1c and their blood glucose."
   ]
  }
 ],
 "metadata": {
  "kernelspec": {
   "display_name": "py_37_env",
   "language": "python",
   "name": "py_37_env"
  },
  "language_info": {
   "codemirror_mode": {
    "name": "ipython",
    "version": 3
   },
   "file_extension": ".py",
   "mimetype": "text/x-python",
   "name": "python",
   "nbconvert_exporter": "python",
   "pygments_lexer": "ipython3",
   "version": "3.7.7"
  }
 },
 "nbformat": 4,
 "nbformat_minor": 4
}
