{
 "cells": [
  {
   "cell_type": "markdown",
   "metadata": {},
   "source": [
    "# Two ways to learn medicine\n",
    "\n",
    "## Our model\n",
    "Let's say our goal is to study a pretty straightforward system:"
   ]
  },
  {
   "cell_type": "code",
   "execution_count": 1,
   "metadata": {},
   "outputs": [],
   "source": [
    "import numpy as np\n",
    "import scipy\n",
    "import matplotlib.pyplot as plt\n",
    "from ipywidgets import interact, interactive, fixed, interact_manual\n",
    "import ipywidgets as widgets\n",
    "import scipy.stats as stats"
   ]
  },
  {
   "cell_type": "markdown",
   "metadata": {},
   "source": [
    "## The Data\n",
    "The first way to learn medicine is the old-school way: collect great data and then derive understanding from that data.\n",
    "At first glance, it sounds obvious that this is the right way.\n",
    "\n",
    "*Keep in mind that it's very hard to collect great data and this approach isn't flexible enough to incorporate \"what we already know\" into our analysis.*"
   ]
  },
  {
   "cell_type": "markdown",
   "metadata": {},
   "source": []
  },
  {
   "cell_type": "markdown",
   "metadata": {},
   "source": [
    "# The Evidence\n",
    "'Evidence' is thrown around a lot when people actually mean data.\n",
    "Evidence is something more and that more is the *model*.\n",
    "Data, when paired with a model, gives us the concept of \"evidence for the model\".\n",
    "You can't have evidence without a model, so there's always a model even if it's not explicitly said.\n",
    "\n",
    "## The Model"
   ]
  },
  {
   "cell_type": "markdown",
   "metadata": {},
   "source": [
    "# When new data comes in\n",
    "The difference between these two approaches becomes incredibly clear when we introduce *new data*.\n",
    "In the data-approach"
   ]
  },
  {
   "cell_type": "markdown",
   "metadata": {},
   "source": [
    "# ML vs EBM\n",
    "ML is a lot more suited to the model-based approach to learning medicine than EBM is.\n",
    "In EBM the focus is on piecing together carefully controlled experiments into an understanding that can reasonably guide management.\n",
    "This is unlikely to happen."
   ]
  }
 ],
 "metadata": {
  "kernelspec": {
   "display_name": "Python 3",
   "language": "python",
   "name": "python3"
  },
  "language_info": {
   "codemirror_mode": {
    "name": "ipython",
    "version": 3
   },
   "file_extension": ".py",
   "mimetype": "text/x-python",
   "name": "python",
   "nbconvert_exporter": "python",
   "pygments_lexer": "ipython3",
   "version": "3.8.2"
  }
 },
 "nbformat": 4,
 "nbformat_minor": 4
}
