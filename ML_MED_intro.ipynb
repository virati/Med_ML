{
 "cells": [
  {
   "cell_type": "markdown",
   "metadata": {},
   "source": [
    "# Machine Learning for Medicine\n",
    "## A Workshop for Emory Discovery Projects\n",
    "\n",
    "## Table of Contents\n",
    "* Overview\n",
    "* What is machine learning\n",
    "* Hands on learning\n",
    "    * Practical\n",
    "        * [Tools for ML success](ML_Med_Tools.ipynb)\n",
    "        * [Applying ML to a dataset](MD_Med_useML.ipynb)\n",
    "    * Fundamentals\n",
    "        * [Data come from Distributions](ML_Med_distributions.ipynb)\n",
    "        * [EBM statistics vs ML](ML_Med_Graph.ipynb)\n",
    "        * [What is correlation](ML_Med_corr.ipynb)\n",
    "        * [Signal-to-noise ratio](ML_Med_snr.ipynb)\n",
    "\n",
    "### Most practically useful/**HIGH YIELD**\n",
    "The key notebooks are:\n",
    "* Tools for ML success\n",
    "* \n",
    "* Finding Specific Relationships: Linear Regressions\n",
    "* Finding All Relationships: Machine Learning"
   ]
  },
  {
   "cell_type": "markdown",
   "metadata": {},
   "source": [
    "## Overview\n",
    "In this workshop our goal is to clarify what machine learning (ML) is, talk about the increasingly important role its playing in medicine, and give you tools that may help you in your Discovery project.\n",
    "\n",
    "The workshop will consist of two sessions:\n",
    "* Tools for ML success\n",
    "    * Installing Python, Installing Jupyter, basics of data management\n",
    "* Applying ML to a dataset\n",
    "    * Applying some simple ML to a dataset and comparing it to EBM\n",
    "    \n",
    "    \n",
    "On top of the workshops, a series of freely availabe _notebooks_.\n",
    "These notebooks have all the material we'll cover, but they're also *interactive* and *useable*.\n"
   ]
  },
  {
   "cell_type": "markdown",
   "metadata": {},
   "source": [
    "## What is Machine Learning?\n",
    "The clinician is focused on understanding how the human body's pieces all work together, how broken pieces lead to disease in unique patients, and how to fix the broken-ness.\n",
    "\n",
    "In contrast, EBM is more focused on designing rigorous experiments to understand whether small pieces of the body interact.\n",
    "\n",
    "ML is, in a nutshell, the use of computers to learn patterns in the data generated from something you're interested in.\n",
    "Also included in ML is a rigorous way to determine whether those patterns *generalize* to bigger rules.\n",
    "\n",
    "Both ML and EBM approaches are complementary but our Discovery projects tend to be dominated by the use of EBM"
   ]
  },
  {
   "cell_type": "markdown",
   "metadata": {},
   "source": [
    "## Why ML in Medicine?\n",
    "Physiology is dominated by patterns.\n",
    "When Sodium goes up, blood volume goes up."
   ]
  },
  {
   "cell_type": "markdown",
   "metadata": {},
   "source": [
    "When you eat sugar, it goes into your blood.\n",
    "Also when you eat sugar, insulin goes up.\n",
    "When Insulin goes up, blood sugar goes down."
   ]
  },
  {
   "cell_type": "markdown",
   "metadata": {},
   "source": [
    "Unless you have diabetes, then this whole pattern gets screwed up into a different pattern.\n",
    "That pattern is *pathophysiology* and we can start asking questions about how to *fix* the pathological pattern using interventions.\n",
    "\n",
    "**Essentially, machine learning is the way we can study complex patterns directly, instead of indirectly through isolating variables**. When we're treating patients we have to understand how everything interacts, not just focus on two pieces."
   ]
  },
  {
   "cell_type": "markdown",
   "metadata": {},
   "source": [
    "### Hands-on learning\n",
    "The unique thing about machine learning is its *open-source* nature. The tools used to analyse data are often freely available. Free as in money and free as in freedom: most people provide you the *code* they used to analyse their data so you can analyse your own data using the exact same methods.\n",
    "\n",
    "This means that with a simple introduction and a set of resources, you can be well on your way to a life-time of ML learning. That's the goal of this workshop.\n",
    "\n",
    "The workshop will focus on the 'Practical' section above.\n",
    "\n",
    "If you're interested, the 'Fundamentals' notebooks cover other topics, ranging from small to big.\n",
    "Take a look, we're convinced that it only helps to know the basics.\n",
    "If you'd like to contribute to either of these sections, send an email to [vtiruva@emory.edu](vtiruva@emory.edu)\n"
   ]
  }
 ],
 "metadata": {
  "kernelspec": {
   "display_name": "Python 3",
   "language": "python",
   "name": "python3"
  },
  "language_info": {
   "codemirror_mode": {
    "name": "ipython",
    "version": 3
   },
   "file_extension": ".py",
   "mimetype": "text/x-python",
   "name": "python",
   "nbconvert_exporter": "python",
   "pygments_lexer": "ipython3",
   "version": "3.8.1"
  }
 },
 "nbformat": 4,
 "nbformat_minor": 4
}
