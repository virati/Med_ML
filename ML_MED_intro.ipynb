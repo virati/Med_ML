{
 "cells": [
  {
   "cell_type": "markdown",
   "metadata": {},
   "source": [
    "# Machine Learning for Medicine\n",
    "## A Workshop for Emory Discovery Projects\n",
    "\n",
    "Welcome! The goal of this workshop is to provide an introduction to *Machine Learning* in a way that speaks to medical students and medical professionals.\n",
    "There are a lot of resources out there that talk about Medicine, Data Science, and Machine Learning, but we're aiming to be unique in two ways:\n",
    "* very multidisciplinary team\n",
    "* interactive learning environments\n",
    "\n",
    "How excited are you to get started?"
   ]
  },
  {
   "cell_type": "code",
   "execution_count": 2,
   "metadata": {
    "jupyter": {
     "source_hidden": true
    }
   },
   "outputs": [],
   "source": [
    "import networkx as nx\n",
    "import matplotlib.pyplot as plt\n",
    "import numpy as np\n",
    "import scipy.signal as sig\n",
    "from ipywidgets import interact, interactive, fixed, interact_manual\n",
    "import ipywidgets as widgets\n",
    "import scipy.stats as stats\n",
    "\n",
    "def effort(excitement):\n",
    "    if excitement >= 110:\n",
    "        print('Let\\'s go!')\n",
    "    else:\n",
    "        print('Only ' + str(excitement) + '% excited...? Come on...')\n",
    "            "
   ]
  },
  {
   "cell_type": "code",
   "execution_count": 3,
   "metadata": {},
   "outputs": [
    {
     "data": {
      "application/vnd.jupyter.widget-view+json": {
       "model_id": "c62d7389766e4d9bb0b7085f3d915cdc",
       "version_major": 2,
       "version_minor": 0
      },
      "text/plain": [
       "interactive(children=(FloatSlider(value=55.0, description='excitement', max=110.0, step=1.0), Output()), _dom_…"
      ]
     },
     "metadata": {},
     "output_type": "display_data"
    }
   ],
   "source": [
    "interactive(effort,excitement=(0.,110,1))"
   ]
  },
  {
   "cell_type": "markdown",
   "metadata": {},
   "source": [
    "## Table of Contents\n",
    "* Overview\n",
    "* What is machine learning\n",
    "* Hands on learning\n",
    "    * Core\n",
    "        * [Tool and Data Basics](core/ML_Med_Tools.ipynb)\n",
    "        * [Splitting your data - Training and Testing]()\n",
    "        * [Finding patterns with linear regression](core/ML_Med_LinRegr.ipynb)\n",
    "    * Fundamentals\n",
    "        * [Data come from Distributions](core/ML_Med_distributions.ipynb)\n",
    "        * [What is correlation and signal-to-noise](core/ML_Med_corr.ipynb)\n",
    "        * [Letting math find the patterns](core/ML_Med_PCA.ipynb)\n",
    "    * Intermediate\n",
    "        * [Applying ML to a dataset](core/ML_Med_useML.ipynb)\n",
    "        * [When linear doesn't cut it](intermediate/ML_Med_non_lin.ipynb)"
   ]
  },
  {
   "cell_type": "markdown",
   "metadata": {},
   "source": [
    "## Overview\n",
    "In this workshop our goal is to clarify what machine learning (ML) is, talk about the increasingly important role its playing in medicine, and give you tools that may help you in your Discovery project.\n",
    "\n",
    "The workshop will consist of three sessions:\n",
    "\n",
    "* Basics of ML (in Python)\n",
    "    * Installing Python, Installing Jupyter\n",
    "    * How to bring in your own data\n",
    "    * Training-Testing: Beyond Pattern Finding\n",
    "* Applying ML to a dataset\n",
    "    * Using basic and advanced linear regression\n",
    "* Group Projects\n",
    "    * \"Guess the number in my head\" - Using ML to infer patterns\n",
    "    \n",
    "    \n",
    "On top of the workshops, a series of freely availabe _notebooks_.\n",
    "These notebooks have all the material we'll cover, but they're also *interactive* and *useable*.\n"
   ]
  },
  {
   "cell_type": "markdown",
   "metadata": {},
   "source": [
    "## Why Machine Learning in Medicine?\n",
    "\n",
    "The data we collect in the clinical is rarely perfect and our patients are far from identical to each other.\n",
    "How do we still make meaningful inferences from clinical data?\n",
    "\n",
    "One approach is Evidence-Based Medicine (EMB) which tries to overcome the challenges in clinical datasets by improving the design of *experiments* so simple statistics can be used.\n",
    "A very different approach is Machine Learning (ML) which tries to find patterns in datasets by improving the *analysis* of data using more advanced statistics.\n",
    "\n",
    "The two approaches complement each other, but the exposure of medical students to ML is lacking.\n",
    "ML is going to become a major workhorse in clinical research because it gives us way more flexibility and freedom to understand pathophysiology."
   ]
  },
  {
   "cell_type": "markdown",
   "metadata": {},
   "source": [
    "## What is ML?\n",
    "ML boils down to the use of modern mathematics and modern computers to find patterns, simple or complex alike, in data.\n",
    "ML isn't a \"cookbook of statistics\" but, instead, a methodology for you to *design a statistic that is appropriate for your data and experiment*."
   ]
  },
  {
   "cell_type": "markdown",
   "metadata": {},
   "source": [
    "When you eat sugar, it goes into your blood.\n",
    "Also when you eat sugar, insulin goes up.\n",
    "When Insulin goes up, blood sugar goes down."
   ]
  },
  {
   "cell_type": "markdown",
   "metadata": {},
   "source": [
    "Unless you have diabetes, then this whole pattern gets screwed up into a different pattern.\n",
    "That pattern is *pathophysiology* and we can start asking questions about how to *fix* the pathological pattern using interventions.\n",
    "\n",
    "**Essentially, machine learning is the way we can study complex patterns directly, instead of indirectly through isolating variables**. When we're treating patients we have to understand how everything interacts, not just focus on two pieces."
   ]
  },
  {
   "cell_type": "markdown",
   "metadata": {},
   "source": [
    "### Hands-on learning\n",
    "The unique thing about machine learning is its *open-source* nature. The tools used to analyse data are often freely available. Free as in money and free as in freedom: most people provide you the *code* they used to analyse their data so you can analyse your own data using the exact same methods.\n",
    "\n",
    "This means that with a simple introduction and a set of resources, you can be well on your way to a life-time of ML learning. That's the goal of this workshop.\n",
    "\n",
    "The workshop will focus on the 'Practical' section above.\n",
    "\n",
    "If you're interested, the 'Fundamentals' notebooks cover other topics, ranging from small to big.\n",
    "Take a look, we're convinced that it only helps to know the basics.\n",
    "If you'd like to contribute to either of these sections, send an email to [vtiruva@emory.edu](vtiruva@emory.edu)\n"
   ]
  }
 ],
 "metadata": {
  "kernelspec": {
   "display_name": "Python 3",
   "language": "python",
   "name": "python3"
  },
  "language_info": {
   "codemirror_mode": {
    "name": "ipython",
    "version": 3
   },
   "file_extension": ".py",
   "mimetype": "text/x-python",
   "name": "python",
   "nbconvert_exporter": "python",
   "pygments_lexer": "ipython3",
   "version": "3.7.7"
  }
 },
 "nbformat": 4,
 "nbformat_minor": 4
}
