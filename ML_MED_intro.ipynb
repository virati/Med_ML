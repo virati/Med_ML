{
 "cells": [
  {
   "cell_type": "markdown",
   "metadata": {},
   "source": [
    "# Machine Learning for Medicine\n",
    "## A Workshop for Emory Discovery Projects\n",
    "\n",
    "Welcome! The goal of this workshop is to provide an introduction to *Machine Learning* in a way that speaks to medical students and medical professionals.\n",
    "There are a lot of resources out there that talk about Medicine, Data Science, and Machine Learning, but we're aiming to be unique in two ways:\n",
    "* truly multidisciplinary team\n",
    "* very interactive learning environment.\n",
    "\n",
    "How excited are you to get started?"
   ]
  },
  {
   "cell_type": "code",
   "execution_count": 3,
   "metadata": {
    "jupyter": {
     "source_hidden": true
    }
   },
   "outputs": [],
   "source": [
    "import networkx as nx\n",
    "import matplotlib.pyplot as plt\n",
    "import numpy as np\n",
    "import scipy.signal as sig\n",
    "from ipywidgets import interact, interactive, fixed, interact_manual\n",
    "import ipywidgets as widgets\n",
    "import scipy.stats as stats\n",
    "\n",
    "def effort(excitement):\n",
    "    if excitement >= 110:\n",
    "        print('Let\\'s go!')\n",
    "    else:\n",
    "        print('Only ' + str(excitement) + '% excited...? Come on...')\n",
    "            "
   ]
  },
  {
   "cell_type": "code",
   "execution_count": 4,
   "metadata": {},
   "outputs": [
    {
     "data": {
      "application/vnd.jupyter.widget-view+json": {
       "model_id": "ba1f00860979484c87e9de1145bec362",
       "version_major": 2,
       "version_minor": 0
      },
      "text/plain": [
       "interactive(children=(FloatSlider(value=55.0, description='excitement', max=110.0, step=1.0), Output()), _dom_…"
      ]
     },
     "metadata": {},
     "output_type": "display_data"
    }
   ],
   "source": [
    "interactive(effort,excitement=(0.,110,1))"
   ]
  },
  {
   "cell_type": "markdown",
   "metadata": {},
   "source": [
    "## Table of Contents\n",
    "* Overview\n",
    "* What is machine learning\n",
    "* Hands on learning\n",
    "    * Practical\n",
    "        * [Tools for ML success](core/ML_Med_Tools.ipynb)\n",
    "        * [Applying ML to a dataset](MD_Med_useML.ipynb)\n",
    "    * Fundamentals\n",
    "        * [Data come from Distributions](core/ML_Med_distributions.ipynb)\n",
    "        * [What is correlation and signal-to-noise](core/ML_Med_corr.ipynb)\n",
    "        * [Working with Linear Regressions](core/ML_Med_LinRegr.ipynb)\n",
    "        * [Letting math find the patterns](core/ML_Med_PCA.ipynb)\n",
    "    * Intermediate\n",
    "        * [When linear doesn't cut it](intermediate/ML_Med_non_lin.ipynb)\n",
    "        * [EBM statistics vs ML](ML_Med_Graph.ipynb)\n",
    "        * More on [Signal-to-noise ratio](ML_Med_snr.ipynb)\n",
    "\n",
    "### Most practically useful/**HIGH YIELD**\n",
    "The key notebooks are:\n",
    "* Tools for ML success\n",
    "* Resources for ML\n",
    "* Machine Learning Concepts\n",
    "    * From EBM to Machine Learning\n",
    "    * Finding All Relationships: Linear Regressions (Supervised)\n",
    "    * Finding Clusters (Unsupervised)"
   ]
  },
  {
   "cell_type": "markdown",
   "metadata": {},
   "source": [
    "## Overview\n",
    "In this workshop our goal is to clarify what machine learning (ML) is, talk about the increasingly important role its playing in medicine, and give you tools that may help you in your Discovery project.\n",
    "\n",
    "The workshop will consist of two sessions:\n",
    "* Tools for ML success\n",
    "    * Installing Python, Installing Jupyter, basics of data management\n",
    "* Applying ML to a dataset\n",
    "    * Applying some simple ML to a dataset and comparing it to EBM\n",
    "    \n",
    "    \n",
    "On top of the workshops, a series of freely availabe _notebooks_.\n",
    "These notebooks have all the material we'll cover, but they're also *interactive* and *useable*.\n"
   ]
  },
  {
   "cell_type": "markdown",
   "metadata": {},
   "source": [
    "## What is Machine Learning?\n",
    "The goal of science is to understand relationships in nature.\n",
    "The standard way of studying these relationships is to design an experiment to *isolate* the relationship you're interested in.\n",
    "You then analyse the straightforward dataset with a standard set of statistical tools.\n",
    "EBM adopts a similar approach but tries to use very large sample sizes to \"overcome\" the lack of controlled experiment.\n",
    "\n",
    "In contrast, **Machine Learning** (ML) leverages the modern power of computers and analysis to find patterns in data, even if the data didn't come from a controlled experiment or large dataset.\n",
    "This has major implications for clinical medicine where there is no such thing as a set of identical patients in a controlled environment."
   ]
  },
  {
   "cell_type": "markdown",
   "metadata": {},
   "source": [
    "## Why ML in Medicine?\n",
    "\n",
    "ML is a much more robust approach to finding patterns in clinical data.\n",
    "Patients are often (tongue-in-cheek) not identical to each other.\n",
    "So getting a large enough sample to \n",
    "\n",
    "Physiology is dominated by patterns.\n",
    "When Sodium goes up, blood volume goes up."
   ]
  },
  {
   "cell_type": "markdown",
   "metadata": {},
   "source": [
    "When you eat sugar, it goes into your blood.\n",
    "Also when you eat sugar, insulin goes up.\n",
    "When Insulin goes up, blood sugar goes down."
   ]
  },
  {
   "cell_type": "markdown",
   "metadata": {},
   "source": [
    "Unless you have diabetes, then this whole pattern gets screwed up into a different pattern.\n",
    "That pattern is *pathophysiology* and we can start asking questions about how to *fix* the pathological pattern using interventions.\n",
    "\n",
    "**Essentially, machine learning is the way we can study complex patterns directly, instead of indirectly through isolating variables**. When we're treating patients we have to understand how everything interacts, not just focus on two pieces."
   ]
  },
  {
   "cell_type": "markdown",
   "metadata": {},
   "source": [
    "### Hands-on learning\n",
    "The unique thing about machine learning is its *open-source* nature. The tools used to analyse data are often freely available. Free as in money and free as in freedom: most people provide you the *code* they used to analyse their data so you can analyse your own data using the exact same methods.\n",
    "\n",
    "This means that with a simple introduction and a set of resources, you can be well on your way to a life-time of ML learning. That's the goal of this workshop.\n",
    "\n",
    "The workshop will focus on the 'Practical' section above.\n",
    "\n",
    "If you're interested, the 'Fundamentals' notebooks cover other topics, ranging from small to big.\n",
    "Take a look, we're convinced that it only helps to know the basics.\n",
    "If you'd like to contribute to either of these sections, send an email to [vtiruva@emory.edu](vtiruva@emory.edu)\n"
   ]
  }
 ],
 "metadata": {
  "kernelspec": {
   "display_name": "Python 3",
   "language": "python",
   "name": "python3"
  },
  "language_info": {
   "codemirror_mode": {
    "name": "ipython",
    "version": 3
   },
   "file_extension": ".py",
   "mimetype": "text/x-python",
   "name": "python",
   "nbconvert_exporter": "python",
   "pygments_lexer": "ipython3",
   "version": "3.8.2"
  }
 },
 "nbformat": 4,
 "nbformat_minor": 4
}
