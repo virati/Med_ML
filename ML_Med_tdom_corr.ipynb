{
 "cells": [
  {
   "cell_type": "markdown",
   "metadata": {},
   "source": [
    "# Correlation in time-series\n",
    "\n",
    "A common goal in scientific study is to identify the presence of a relationship between two variables $x$ and $y$.\n",
    "When $x$ and $y$ are timeseries, we can rely on time-domain and frequency-domain analyses.\n",
    "In this notebook we'll talk a bit about how noise can come in and influence the ability to identify linear and non-linear surrogates of statistical dependence."
   ]
  },
  {
   "cell_type": "code",
   "execution_count": 1,
   "metadata": {},
   "outputs": [],
   "source": [
    "import numpy as np\n",
    "import scipy\n",
    "import matplotlib.pyplot as plt\n",
    "from ipywidgets import interact, interactive, fixed, interact_manual\n",
    "import ipywidgets as widgets\n",
    "import scipy.stats as stats"
   ]
  },
  {
   "cell_type": "markdown",
   "metadata": {},
   "source": [
    "# Time-domain\n",
    "The 'time domain' refers to looking at our variable over time.\n",
    "In this view the x-axis is typically time and the y-axis is our variable of interest.\n",
    "\n",
    "Typically, time-domain signals have some sort of *structure* over time.\n",
    "What this means is that there's some pattern that emerges instead of just each timepoint being a random, independent value.\n",
    "\n",
    "## Signal in Noise"
   ]
  },
  {
   "cell_type": "code",
   "execution_count": 2,
   "metadata": {},
   "outputs": [
    {
     "data": {
      "application/vnd.jupyter.widget-view+json": {
       "model_id": "9aea2d8229324662b5ee0a7dc05ec006",
       "version_major": 2,
       "version_minor": 0
      },
      "text/plain": [
       "interactive(children=(IntSlider(value=100, description='fs', min=1), FloatSlider(value=1.0, description='noise…"
      ]
     },
     "metadata": {},
     "output_type": "display_data"
    },
    {
     "data": {
      "text/plain": [
       "<function __main__.gen_sig(fs=100, noise_x=1.0, noise_y=5.0, alpha=1.0, fc_x=0.5, fc_y=0.5, noise_z=1)>"
      ]
     },
     "execution_count": 2,
     "metadata": {},
     "output_type": "execute_result"
    }
   ],
   "source": [
    "def gen_sig(fs=100,noise_x=1.0,noise_y=5.0,alpha=1.,fc_x=0.5,fc_y=0.5,noise_z=1):\n",
    "    t = np.linspace(0,100,100*fs)\n",
    "    input_x = 1\n",
    "    input_y = 2\n",
    "    \n",
    "    phase_x = np.random.uniform(-np.pi,np.pi,100*fs)\n",
    "    phase_y = np.random.uniform(-np.pi,np.pi,100*fs)\n",
    "    \n",
    "    x = np.random.normal(np.sin(2 * np.pi * (fc_x+ input_x) * t + phase_x),noise_x)\n",
    "    y = np.random.normal(np.sin(2 * np.pi * (fc_y+input_y) * t + phase_y),noise_y)\n",
    "    z = alpha*x + (1-alpha)*y + np.random.normal(0,noise_z,size=x.shape)\n",
    "    \n",
    "    plt.figure()\n",
    "    \n",
    "    plt.plot(t,z,color='green',alpha=0.8)\n",
    "    plt.plot(t,y,alpha=1-alpha)\n",
    "    plt.plot(t,x,alpha=alpha)\n",
    "    \n",
    "    \n",
    "    plt.ylim((-10,10))\n",
    "    \n",
    "    pears = stats.pearsonr(z,x)\n",
    "    spears = stats.spearmanr(z,x)\n",
    "    plt.title('Correlation z-x: ' + str(pears[0]))\n",
    "    \n",
    "interact(gen_sig,fs=(1,100,1),noise_x=(0.0,1.,0.1),noise_y=(0.0,1.,0.1),alpha=(0.0,1,0.01),samps=(1,1000,10),noise_z=(0.0,5.,0.1),fc_x=(0.01,5.,0.05),fc_y=(0.01,5.,0.05))"
   ]
  },
  {
   "cell_type": "markdown",
   "metadata": {},
   "source": [
    "## Non-Linear\n",
    "First, we'll identify linear correlations between our variables."
   ]
  },
  {
   "cell_type": "code",
   "execution_count": 6,
   "metadata": {},
   "outputs": [
    {
     "data": {
      "application/vnd.jupyter.widget-view+json": {
       "model_id": "c2b56ceca52b4f668e7c3193db5a20c9",
       "version_major": 2,
       "version_minor": 0
      },
      "text/plain": [
       "interactive(children=(FloatSlider(value=50.0, description='noise', step=1.0), IntSlider(value=100, description…"
      ]
     },
     "metadata": {},
     "output_type": "display_data"
    },
    {
     "data": {
      "text/plain": [
       "<function __main__.relat(noise, samps=100, order=4)>"
      ]
     },
     "execution_count": 6,
     "metadata": {},
     "output_type": "execute_result"
    }
   ],
   "source": [
    "def relat(noise,samps=100,order=4):\n",
    "    x = np.random.uniform(-10,10,size=(100,))\n",
    "    y = np.random.normal((x-2)*(x+2)*x*x,noise,size=x.shape)\n",
    "\n",
    "    plt.figure()\n",
    "    plt.scatter(x,y)\n",
    "    plt.xlim((-5,5))\n",
    "    plt.ylim((-30,30))\n",
    "    \n",
    "    pears = stats.pearsonr(x,y)\n",
    "    spears = stats.spearmanr(x,y)\n",
    "    plt.title('Correlation: ' + str(pears[0]) + ' vs ' + str(spears[0]))\n",
    "    \n",
    "interact(relat,noise=(0.0,100.,1.),samps=(1,1000,10))\n"
   ]
  }
 ],
 "metadata": {
  "kernelspec": {
   "display_name": "Python 3",
   "language": "python",
   "name": "python3"
  },
  "language_info": {
   "codemirror_mode": {
    "name": "ipython",
    "version": 3
   },
   "file_extension": ".py",
   "mimetype": "text/x-python",
   "name": "python",
   "nbconvert_exporter": "python",
   "pygments_lexer": "ipython3",
   "version": "3.7.6"
  }
 },
 "nbformat": 4,
 "nbformat_minor": 4
}
