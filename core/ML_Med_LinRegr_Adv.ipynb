{
 "cells": [
  {
   "cell_type": "markdown",
   "metadata": {},
   "source": [
    "# Machine learning for medicine\n",
    "## Linear Regression 2: Finding lines that explain our data, when there's a *lot*\n",
    "\n",
    "## Overview\n",
    "Take a look at basic regression in our [previous notebook]().\n",
    "In this notebook we're going to really start exploring the power of linear regression and how machine learning boosts it.\n"
   ]
  },
  {
   "cell_type": "markdown",
   "metadata": {},
   "source": [
    "The real power of linear regression is clear when we've got way, way more than just two variables.\n",
    "In this notebook we'll start with a brief intro of linear regression with two variables, then show how it can work with many more, and finally demonstrate the power of machine learning in messy data.\n",
    "\n",
    "As always, there's code and interactive widgets all along the way."
   ]
  },
  {
   "cell_type": "markdown",
   "metadata": {},
   "source": [
    "### Code Setup"
   ]
  },
  {
   "cell_type": "code",
   "execution_count": 40,
   "metadata": {
    "jupyter": {
     "source_hidden": true
    }
   },
   "outputs": [],
   "source": [
    "# The big library for doing math + data in python\n",
    "import numpy as np\n",
    "\n",
    "# A big library that has a lot of useful functions for scientific use of python\n",
    "import scipy\n",
    "\n",
    "# The main library for plotting\n",
    "import matplotlib.pyplot as plt\n",
    "\n",
    "# The main library used for statistics\n",
    "import scipy.stats as stats\n",
    "\n",
    "# The library we're going to use for our linear regression\n",
    "from sklearn.linear_model import LinearRegression\n",
    "\n",
    "# Libraries that let us use interactive widgets\n",
    "from ipywidgets import interact, interactive, fixed, interact_manual\n",
    "import ipywidgets as widgets\n",
    "\n",
    "# Misc stuff related to cleaning up code and displaying results in a pretty way\n",
    "from example_systems import *\n",
    "from IPython.display import Markdown as md"
   ]
  },
  {
   "cell_type": "markdown",
   "metadata": {},
   "source": [
    "## Linear Regression (advanced)\n",
    "We're now going to try to do a linear regression model in many, many more dimensions.\n",
    "\n",
    "Let's consider something like the clotting cascade.\n",
    "\n",
    "<div>\n",
    "    <center>\n",
    "<img src=\"imgs/clotting_cascade.png\" width=\"500\"/>\n",
    "    </center>\n",
    "</div>"
   ]
  },
  {
   "cell_type": "markdown",
   "metadata": {},
   "source": [
    "There's a *lot* going on."
   ]
  },
  {
   "cell_type": "code",
   "execution_count": 54,
   "metadata": {},
   "outputs": [
    {
     "ename": "AttributeError",
     "evalue": "module 'matplotlib.pyplot' has no attribute 'scatter3'",
     "output_type": "error",
     "traceback": [
      "\u001b[0;31m---------------------------------------------------------------------------\u001b[0m",
      "\u001b[0;31mAttributeError\u001b[0m                            Traceback (most recent call last)",
      "\u001b[0;32m<ipython-input-54-3b29151d9820>\u001b[0m in \u001b[0;36m<module>\u001b[0;34m\u001b[0m\n\u001b[1;32m      5\u001b[0m \u001b[0;34m\u001b[0m\u001b[0m\n\u001b[1;32m      6\u001b[0m \u001b[0mplt\u001b[0m\u001b[0;34m.\u001b[0m\u001b[0mfigure\u001b[0m\u001b[0;34m(\u001b[0m\u001b[0;34m)\u001b[0m\u001b[0;34m\u001b[0m\u001b[0;34m\u001b[0m\u001b[0m\n\u001b[0;32m----> 7\u001b[0;31m \u001b[0mplt\u001b[0m\u001b[0;34m.\u001b[0m\u001b[0mscatter3\u001b[0m\u001b[0;34m(\u001b[0m\u001b[0mx\u001b[0m\u001b[0;34m[\u001b[0m\u001b[0;34m:\u001b[0m\u001b[0;34m,\u001b[0m\u001b[0;36m0\u001b[0m\u001b[0;34m]\u001b[0m\u001b[0;34m,\u001b[0m\u001b[0mx\u001b[0m\u001b[0;34m[\u001b[0m\u001b[0;34m:\u001b[0m\u001b[0;34m,\u001b[0m\u001b[0;36m1\u001b[0m\u001b[0;34m]\u001b[0m\u001b[0;34m,\u001b[0m\u001b[0my\u001b[0m\u001b[0;34m)\u001b[0m\u001b[0;34m\u001b[0m\u001b[0;34m\u001b[0m\u001b[0m\n\u001b[0m",
      "\u001b[0;31mAttributeError\u001b[0m: module 'matplotlib.pyplot' has no attribute 'scatter3'"
     ]
    },
    {
     "data": {
      "text/plain": [
       "<Figure size 432x288 with 0 Axes>"
      ]
     },
     "metadata": {},
     "output_type": "display_data"
    }
   ],
   "source": [
    "pt_num = 100\n",
    "x = np.random.uniform(-10,10,size=(pt_num,2))\n",
    "model = np.array([-3,4.2]).reshape(-1,1)\n",
    "y = np.dot(x,model)\n",
    "\n",
    "plt.figure()\n",
    "plt.scatter3(x[:,0],x[:,1],y)"
   ]
  }
 ],
 "metadata": {
  "kernelspec": {
   "display_name": "py_37_env",
   "language": "python",
   "name": "py_37_env"
  },
  "language_info": {
   "codemirror_mode": {
    "name": "ipython",
    "version": 3
   },
   "file_extension": ".py",
   "mimetype": "text/x-python",
   "name": "python",
   "nbconvert_exporter": "python",
   "pygments_lexer": "ipython3",
   "version": "3.7.7"
  }
 },
 "nbformat": 4,
 "nbformat_minor": 4
}
