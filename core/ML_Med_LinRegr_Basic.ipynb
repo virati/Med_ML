{
  "nbformat": 4,
  "nbformat_minor": 0,
  "metadata": {
    "kernelspec": {
      "display_name": "Python 3",
      "language": "python",
      "name": "python3"
    },
    "language_info": {
      "codemirror_mode": {
        "name": "ipython",
        "version": 3
      },
      "file_extension": ".py",
      "mimetype": "text/x-python",
      "name": "python",
      "nbconvert_exporter": "python",
      "pygments_lexer": "ipython3",
      "version": "3.8.2"
    },
    "colab": {
      "name": "ML_Med_LinRegr_Basic.ipynb",
      "provenance": [],
      "collapsed_sections": []
    },
    "widgets": {
      "application/vnd.jupyter.widget-state+json": {
        "e57b77cd83af4e70bbdd1b15488e6821": {
          "model_module": "@jupyter-widgets/controls",
          "model_name": "VBoxModel",
          "state": {
            "_view_name": "VBoxView",
            "_dom_classes": [
              "widget-interact"
            ],
            "_model_name": "VBoxModel",
            "_view_module": "@jupyter-widgets/controls",
            "_model_module_version": "1.5.0",
            "_view_count": null,
            "_view_module_version": "1.5.0",
            "box_style": "",
            "layout": "IPY_MODEL_79cb42a5df61472595848472c51d716e",
            "_model_module": "@jupyter-widgets/controls",
            "children": [
              "IPY_MODEL_77c15eb623dc48bcab4c8be873084741",
              "IPY_MODEL_29372a91552e42a294060b7048669df4",
              "IPY_MODEL_90a9a40f09e04fbd92b98cf46f016c52",
              "IPY_MODEL_fea746396794466d888e0873ce5a07d4"
            ]
          }
        },
        "79cb42a5df61472595848472c51d716e": {
          "model_module": "@jupyter-widgets/base",
          "model_name": "LayoutModel",
          "state": {
            "_view_name": "LayoutView",
            "grid_template_rows": null,
            "right": null,
            "justify_content": null,
            "_view_module": "@jupyter-widgets/base",
            "overflow": null,
            "_model_module_version": "1.2.0",
            "_view_count": null,
            "flex_flow": null,
            "width": null,
            "min_width": null,
            "border": null,
            "align_items": null,
            "bottom": null,
            "_model_module": "@jupyter-widgets/base",
            "top": null,
            "grid_column": null,
            "overflow_y": null,
            "overflow_x": null,
            "grid_auto_flow": null,
            "grid_area": null,
            "grid_template_columns": null,
            "flex": null,
            "_model_name": "LayoutModel",
            "justify_items": null,
            "grid_row": null,
            "max_height": null,
            "align_content": null,
            "visibility": null,
            "align_self": null,
            "height": null,
            "min_height": null,
            "padding": null,
            "grid_auto_rows": null,
            "grid_gap": null,
            "max_width": null,
            "order": null,
            "_view_module_version": "1.2.0",
            "grid_template_areas": null,
            "object_position": null,
            "object_fit": null,
            "grid_auto_columns": null,
            "margin": null,
            "display": null,
            "left": null
          }
        },
        "77c15eb623dc48bcab4c8be873084741": {
          "model_module": "@jupyter-widgets/controls",
          "model_name": "FloatSliderModel",
          "state": {
            "_view_name": "FloatSliderView",
            "style": "IPY_MODEL_a86426c81b7b4374811d1bedb4cc2fd6",
            "_dom_classes": [],
            "description": "slope",
            "step": 0.05,
            "_model_name": "FloatSliderModel",
            "orientation": "horizontal",
            "max": 10,
            "_view_module": "@jupyter-widgets/controls",
            "_model_module_version": "1.5.0",
            "value": 0.9,
            "_view_count": null,
            "disabled": false,
            "_view_module_version": "1.5.0",
            "min": 0,
            "continuous_update": true,
            "readout_format": ".2f",
            "description_tooltip": null,
            "readout": true,
            "_model_module": "@jupyter-widgets/controls",
            "layout": "IPY_MODEL_fe09ef87cb7a4dd8a68f84195aa24da7"
          }
        },
        "29372a91552e42a294060b7048669df4": {
          "model_module": "@jupyter-widgets/controls",
          "model_name": "FloatSliderModel",
          "state": {
            "_view_name": "FloatSliderView",
            "style": "IPY_MODEL_65db86c2f7474806ada86fd524fd25e9",
            "_dom_classes": [],
            "description": "noise",
            "step": 1,
            "_model_name": "FloatSliderModel",
            "orientation": "horizontal",
            "max": 25,
            "_view_module": "@jupyter-widgets/controls",
            "_model_module_version": "1.5.0",
            "value": 5,
            "_view_count": null,
            "disabled": false,
            "_view_module_version": "1.5.0",
            "min": 0,
            "continuous_update": true,
            "readout_format": ".2f",
            "description_tooltip": null,
            "readout": true,
            "_model_module": "@jupyter-widgets/controls",
            "layout": "IPY_MODEL_c3fc1ea0f6104d829b95139b242c42bf"
          }
        },
        "90a9a40f09e04fbd92b98cf46f016c52": {
          "model_module": "@jupyter-widgets/controls",
          "model_name": "IntSliderModel",
          "state": {
            "_view_name": "IntSliderView",
            "style": "IPY_MODEL_f6f455afdabd415391c78a8cba26b7a3",
            "_dom_classes": [],
            "description": "samples",
            "step": 1,
            "_model_name": "IntSliderModel",
            "orientation": "horizontal",
            "max": 200,
            "_view_module": "@jupyter-widgets/controls",
            "_model_module_version": "1.5.0",
            "value": 16,
            "_view_count": null,
            "disabled": false,
            "_view_module_version": "1.5.0",
            "min": 2,
            "continuous_update": true,
            "readout_format": "d",
            "description_tooltip": null,
            "readout": true,
            "_model_module": "@jupyter-widgets/controls",
            "layout": "IPY_MODEL_a678c568e6284459b10b47e294228b5a"
          }
        },
        "fea746396794466d888e0873ce5a07d4": {
          "model_module": "@jupyter-widgets/output",
          "model_name": "OutputModel",
          "state": {
            "_view_name": "OutputView",
            "msg_id": "",
            "_dom_classes": [],
            "_model_name": "OutputModel",
            "outputs": [
              {
                "output_type": "display_data",
                "metadata": {
                  "tags": []
                },
                "image/png": "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\n",
                "text/plain": "<Figure size 1440x1080 with 1 Axes>"
              }
            ],
            "_view_module": "@jupyter-widgets/output",
            "_model_module_version": "1.0.0",
            "_view_count": null,
            "_view_module_version": "1.0.0",
            "layout": "IPY_MODEL_bb43e29c9a3046c39096d924f710c3fd",
            "_model_module": "@jupyter-widgets/output"
          }
        },
        "a86426c81b7b4374811d1bedb4cc2fd6": {
          "model_module": "@jupyter-widgets/controls",
          "model_name": "SliderStyleModel",
          "state": {
            "_view_name": "StyleView",
            "handle_color": null,
            "_model_name": "SliderStyleModel",
            "description_width": "",
            "_view_module": "@jupyter-widgets/base",
            "_model_module_version": "1.5.0",
            "_view_count": null,
            "_view_module_version": "1.2.0",
            "_model_module": "@jupyter-widgets/controls"
          }
        },
        "fe09ef87cb7a4dd8a68f84195aa24da7": {
          "model_module": "@jupyter-widgets/base",
          "model_name": "LayoutModel",
          "state": {
            "_view_name": "LayoutView",
            "grid_template_rows": null,
            "right": null,
            "justify_content": null,
            "_view_module": "@jupyter-widgets/base",
            "overflow": null,
            "_model_module_version": "1.2.0",
            "_view_count": null,
            "flex_flow": null,
            "width": null,
            "min_width": null,
            "border": null,
            "align_items": null,
            "bottom": null,
            "_model_module": "@jupyter-widgets/base",
            "top": null,
            "grid_column": null,
            "overflow_y": null,
            "overflow_x": null,
            "grid_auto_flow": null,
            "grid_area": null,
            "grid_template_columns": null,
            "flex": null,
            "_model_name": "LayoutModel",
            "justify_items": null,
            "grid_row": null,
            "max_height": null,
            "align_content": null,
            "visibility": null,
            "align_self": null,
            "height": null,
            "min_height": null,
            "padding": null,
            "grid_auto_rows": null,
            "grid_gap": null,
            "max_width": null,
            "order": null,
            "_view_module_version": "1.2.0",
            "grid_template_areas": null,
            "object_position": null,
            "object_fit": null,
            "grid_auto_columns": null,
            "margin": null,
            "display": null,
            "left": null
          }
        },
        "65db86c2f7474806ada86fd524fd25e9": {
          "model_module": "@jupyter-widgets/controls",
          "model_name": "SliderStyleModel",
          "state": {
            "_view_name": "StyleView",
            "handle_color": null,
            "_model_name": "SliderStyleModel",
            "description_width": "",
            "_view_module": "@jupyter-widgets/base",
            "_model_module_version": "1.5.0",
            "_view_count": null,
            "_view_module_version": "1.2.0",
            "_model_module": "@jupyter-widgets/controls"
          }
        },
        "c3fc1ea0f6104d829b95139b242c42bf": {
          "model_module": "@jupyter-widgets/base",
          "model_name": "LayoutModel",
          "state": {
            "_view_name": "LayoutView",
            "grid_template_rows": null,
            "right": null,
            "justify_content": null,
            "_view_module": "@jupyter-widgets/base",
            "overflow": null,
            "_model_module_version": "1.2.0",
            "_view_count": null,
            "flex_flow": null,
            "width": null,
            "min_width": null,
            "border": null,
            "align_items": null,
            "bottom": null,
            "_model_module": "@jupyter-widgets/base",
            "top": null,
            "grid_column": null,
            "overflow_y": null,
            "overflow_x": null,
            "grid_auto_flow": null,
            "grid_area": null,
            "grid_template_columns": null,
            "flex": null,
            "_model_name": "LayoutModel",
            "justify_items": null,
            "grid_row": null,
            "max_height": null,
            "align_content": null,
            "visibility": null,
            "align_self": null,
            "height": null,
            "min_height": null,
            "padding": null,
            "grid_auto_rows": null,
            "grid_gap": null,
            "max_width": null,
            "order": null,
            "_view_module_version": "1.2.0",
            "grid_template_areas": null,
            "object_position": null,
            "object_fit": null,
            "grid_auto_columns": null,
            "margin": null,
            "display": null,
            "left": null
          }
        },
        "f6f455afdabd415391c78a8cba26b7a3": {
          "model_module": "@jupyter-widgets/controls",
          "model_name": "SliderStyleModel",
          "state": {
            "_view_name": "StyleView",
            "handle_color": null,
            "_model_name": "SliderStyleModel",
            "description_width": "",
            "_view_module": "@jupyter-widgets/base",
            "_model_module_version": "1.5.0",
            "_view_count": null,
            "_view_module_version": "1.2.0",
            "_model_module": "@jupyter-widgets/controls"
          }
        },
        "a678c568e6284459b10b47e294228b5a": {
          "model_module": "@jupyter-widgets/base",
          "model_name": "LayoutModel",
          "state": {
            "_view_name": "LayoutView",
            "grid_template_rows": null,
            "right": null,
            "justify_content": null,
            "_view_module": "@jupyter-widgets/base",
            "overflow": null,
            "_model_module_version": "1.2.0",
            "_view_count": null,
            "flex_flow": null,
            "width": null,
            "min_width": null,
            "border": null,
            "align_items": null,
            "bottom": null,
            "_model_module": "@jupyter-widgets/base",
            "top": null,
            "grid_column": null,
            "overflow_y": null,
            "overflow_x": null,
            "grid_auto_flow": null,
            "grid_area": null,
            "grid_template_columns": null,
            "flex": null,
            "_model_name": "LayoutModel",
            "justify_items": null,
            "grid_row": null,
            "max_height": null,
            "align_content": null,
            "visibility": null,
            "align_self": null,
            "height": null,
            "min_height": null,
            "padding": null,
            "grid_auto_rows": null,
            "grid_gap": null,
            "max_width": null,
            "order": null,
            "_view_module_version": "1.2.0",
            "grid_template_areas": null,
            "object_position": null,
            "object_fit": null,
            "grid_auto_columns": null,
            "margin": null,
            "display": null,
            "left": null
          }
        },
        "bb43e29c9a3046c39096d924f710c3fd": {
          "model_module": "@jupyter-widgets/base",
          "model_name": "LayoutModel",
          "state": {
            "_view_name": "LayoutView",
            "grid_template_rows": null,
            "right": null,
            "justify_content": null,
            "_view_module": "@jupyter-widgets/base",
            "overflow": null,
            "_model_module_version": "1.2.0",
            "_view_count": null,
            "flex_flow": null,
            "width": null,
            "min_width": null,
            "border": null,
            "align_items": null,
            "bottom": null,
            "_model_module": "@jupyter-widgets/base",
            "top": null,
            "grid_column": null,
            "overflow_y": null,
            "overflow_x": null,
            "grid_auto_flow": null,
            "grid_area": null,
            "grid_template_columns": null,
            "flex": null,
            "_model_name": "LayoutModel",
            "justify_items": null,
            "grid_row": null,
            "max_height": null,
            "align_content": null,
            "visibility": null,
            "align_self": null,
            "height": null,
            "min_height": null,
            "padding": null,
            "grid_auto_rows": null,
            "grid_gap": null,
            "max_width": null,
            "order": null,
            "_view_module_version": "1.2.0",
            "grid_template_areas": null,
            "object_position": null,
            "object_fit": null,
            "grid_auto_columns": null,
            "margin": null,
            "display": null,
            "left": null
          }
        },
        "504af457f5eb412cbe64074adea7e560": {
          "model_module": "@jupyter-widgets/controls",
          "model_name": "FloatSliderModel",
          "state": {
            "_view_name": "FloatSliderView",
            "style": "IPY_MODEL_9fa95cf9574a43c1b24a3173962221da",
            "_dom_classes": [],
            "description": "Noise",
            "step": 0.1,
            "_model_name": "FloatSliderModel",
            "orientation": "horizontal",
            "max": 10,
            "_view_module": "@jupyter-widgets/controls",
            "_model_module_version": "1.5.0",
            "value": 0,
            "_view_count": null,
            "disabled": false,
            "_view_module_version": "1.5.0",
            "min": 0,
            "continuous_update": true,
            "readout_format": ".2f",
            "description_tooltip": null,
            "readout": true,
            "_model_module": "@jupyter-widgets/controls",
            "layout": "IPY_MODEL_6fddc576a3fd4db795f29653e558d00c"
          }
        },
        "9fa95cf9574a43c1b24a3173962221da": {
          "model_module": "@jupyter-widgets/controls",
          "model_name": "SliderStyleModel",
          "state": {
            "_view_name": "StyleView",
            "handle_color": null,
            "_model_name": "SliderStyleModel",
            "description_width": "",
            "_view_module": "@jupyter-widgets/base",
            "_model_module_version": "1.5.0",
            "_view_count": null,
            "_view_module_version": "1.2.0",
            "_model_module": "@jupyter-widgets/controls"
          }
        },
        "6fddc576a3fd4db795f29653e558d00c": {
          "model_module": "@jupyter-widgets/base",
          "model_name": "LayoutModel",
          "state": {
            "_view_name": "LayoutView",
            "grid_template_rows": null,
            "right": null,
            "justify_content": null,
            "_view_module": "@jupyter-widgets/base",
            "overflow": null,
            "_model_module_version": "1.2.0",
            "_view_count": null,
            "flex_flow": null,
            "width": null,
            "min_width": null,
            "border": null,
            "align_items": null,
            "bottom": null,
            "_model_module": "@jupyter-widgets/base",
            "top": null,
            "grid_column": null,
            "overflow_y": null,
            "overflow_x": null,
            "grid_auto_flow": null,
            "grid_area": null,
            "grid_template_columns": null,
            "flex": null,
            "_model_name": "LayoutModel",
            "justify_items": null,
            "grid_row": null,
            "max_height": null,
            "align_content": null,
            "visibility": null,
            "align_self": null,
            "height": null,
            "min_height": null,
            "padding": null,
            "grid_auto_rows": null,
            "grid_gap": null,
            "max_width": null,
            "order": null,
            "_view_module_version": "1.2.0",
            "grid_template_areas": null,
            "object_position": null,
            "object_fit": null,
            "grid_auto_columns": null,
            "margin": null,
            "display": null,
            "left": null
          }
        }
      }
    }
  },
  "cells": [
    {
      "cell_type": "markdown",
      "metadata": {
        "id": "1yx2jpeu0LWG",
        "colab_type": "text"
      },
      "source": [
        "# Machine learning for medicine (MedML@Emory) Workshop\n",
        "## Basic Linear Regression: Finding lines that explain our data\n",
        "Authors: Vineet Tiruvadi, Alex Milani, Avinash Murugan\n",
        "\n",
        "\n"
      ]
    },
    {
      "cell_type": "markdown",
      "metadata": {
        "id": "J0pdrPfcyw0J",
        "colab_type": "text"
      },
      "source": [
        "## License\n",
        "    This program is free software: you can redistribute it and/or modify\n",
        "    it under the terms of the GNU General Public License as published by\n",
        "    the Free Software Foundation, either version 3 of the License, or\n",
        "    (at your option) any later version.\n",
        "\n",
        "    This program is distributed in the hope that it will be useful,\n",
        "    but WITHOUT ANY WARRANTY; without even the implied warranty of\n",
        "    MERCHANTABILITY or FITNESS FOR A PARTICULAR PURPOSE.  See the\n",
        "    GNU General Public License for more details.\n",
        "\n",
        "    You should have received a copy of the GNU General Public License\n",
        "    along with this program.  If not, see <https://www.gnu.org/licenses/>."
      ]
    },
    {
      "cell_type": "markdown",
      "metadata": {
        "id": "N-HSj9SZyocE",
        "colab_type": "text"
      },
      "source": [
        "\n",
        "## Overview\n",
        "'Linear regression' is a fancy way of saying we're going to see how two things we care about relate to each other with a straight line.\n",
        "Linear regression is the workhorse of much of the statistics we learn, especially the statistics in 'evidence-based medicine' courses taught in medical school.\n",
        "\n",
        "![](https://vineet.tiruvadi.com/egg_basic_LR.png)\n",
        "\n",
        "A simple (silly) example is in the figure above: we cooked 100 eggs for different amounts of time and rated their deliciousness.\n",
        "We built a linear regression model (blue line) that does a good job of 'fitting' our data and, importantly, 'summarized' our results - more cooking = more delicious.\n",
        "\n",
        "**The red line is the \"true\" relationship and it looks like our line might start being wrong if we cook for much longer than 5 minutes...**\n",
        "Linear regression has several major limitations which modern ML does a fantastic job of accounting for.\n",
        "We'll cover these in later notebooks.\n",
        "\n",
        "*Disclaimer: Data in this notebook is **simulated** because the focus of these notebooks is on the tools to use, not on the data its used on. Using simulated data means we can actually compare the 'results' of our machine learning to the 'truth' that we used to simulate our data*\n",
        "\n",
        "\n",
        "Outline:\n",
        "* Code setup\n",
        "* A 2-dimensional linear regression\n",
        "* See how effect size affects the regression\n",
        "* A 3-dimensional linear regression"
      ]
    },
    {
      "cell_type": "markdown",
      "metadata": {
        "id": "d3jMGmPF0LWI",
        "colab_type": "text"
      },
      "source": [
        "### Code Setup"
      ]
    },
    {
      "cell_type": "code",
      "metadata": {
        "jupyter": {
          "source_hidden": true
        },
        "id": "2O5Op8VC0LWI",
        "colab_type": "code",
        "colab": {}
      },
      "source": [
        "# The big library for doing math + data in python\n",
        "import numpy as np\n",
        "np.random.seed(1111)\n",
        "\n",
        "# A big library that has a lot of useful functions for scientific use of python\n",
        "import scipy\n",
        "\n",
        "# The main library for plotting\n",
        "import matplotlib\n",
        "import matplotlib.pyplot as plt\n",
        "import seaborn as sns\n",
        "sns.set_style(\"white\")\n",
        "matplotlib.rcParams['figure.figsize'] = [20, 15]\n",
        "\n",
        "# The main library used for statistics\n",
        "import scipy.stats as stats\n",
        "\n",
        "# Libraries that let us use interactive widgets\n",
        "from ipywidgets import interact, interactive, fixed, interact_manual\n",
        "import ipywidgets as widgets\n",
        "\n",
        "# Misc stuff related to cleaning up code and displaying results in a pretty way\n",
        "from IPython.display import Markdown as md\n",
        "\n",
        "# The library we're going to use for our linear regression\n",
        "from sklearn.linear_model import LinearRegression\n",
        "\n",
        "# SPLIT\n",
        "truth = lambda x,slope: slope * x\n",
        "# TODO RANDOM SEED FIXED\n",
        "\n",
        "#### General Functions\n",
        "def gen_lin_data(factor,noise,samples):\n",
        "    x = np.random.uniform(-10,10,size=(samples,)).reshape(-1,1)\n",
        "    y = truth(x,factor) + np.random.normal(0,noise,size=x.shape)\n",
        "    \n",
        "    return x,y\n",
        "\n",
        "def simple_eg(slope=1.0,noise=0.0,samples=100):\n",
        "    x,y = gen_lin_data(slope,noise,samples)\n",
        "    #x = np.random.uniform(-10,10,size=(samples,))\n",
        "    #y = slope * x + np.random.normal(0,noise,size=x.shape)\n",
        "\n",
        "    reg = LinearRegression(fit_intercept=False).fit(x, y)\n",
        "    reg.score(exp_1_a1c, exp_1_lrcv)\n",
        "    slope_estimate = reg.coef_[0,0]\n",
        "\n",
        "    plt.figure()\n",
        "    plt.scatter(x,y)\n",
        "    #plt.scatter(x,np.random.normal(0,noise,size=x.shape),color='red',alpha=0.4)\n",
        "    x_fix = np.linspace(-10,10,100)\n",
        "    plt.plot(x_fix,slope * x_fix,'--',label='True')\n",
        "    plt.plot(x_fix,slope_estimate * x_fix + reg.intercept_,label='Regression')\n",
        "    #plt.text(3,80,'Estimated slope: ' + str(np.round(slope_estimate,4)),color='red')\n",
        "\n",
        "    plt.legend()\n",
        "\n",
        "    plt.ylim(-30,30)\n",
        "    plt.xlim(-30,30)\n",
        "    plt.axis('off')\n",
        "\n",
        "    plt.title('Regression slope is ' + str(reg.coef_[0,0]))\n",
        "    plt.suptitle('True slope is ' + str(slope))\n",
        "  \n",
        "    #corr_val = stats.pearsonr(x,y)\n",
        "    #plt.text(2,-10,s='Pearson: ' + str(corr_val[0]) + '\\n p=' + str(corr_val[1]))\n",
        "    plt.show()\n"
      ],
      "execution_count": 0,
      "outputs": []
    },
    {
      "cell_type": "code",
      "metadata": {
        "id": "G9aShxx96Be0",
        "colab_type": "code",
        "colab": {}
      },
      "source": [
        "# Simulated Data"
      ],
      "execution_count": 0,
      "outputs": []
    },
    {
      "cell_type": "code",
      "metadata": {
        "id": "yqvJVGIa6B3l",
        "colab_type": "code",
        "colab": {}
      },
      "source": [
        "# Plotting"
      ],
      "execution_count": 0,
      "outputs": []
    },
    {
      "cell_type": "code",
      "metadata": {
        "id": "h7LhsThM0LWU",
        "colab_type": "code",
        "colab": {}
      },
      "source": [
        "def plot_data(a1c,bgluc):\n",
        "    plt.figure()\n",
        "    plt.scatter(a1c,bgluc)\n",
        "    plt.xlabel('Measured A1c')\n",
        "    plt.ylabel('Lifetime risk of CV disease')\n",
        "    plt.xlim((0,15))\n",
        "    plt.ylim((0,100));"
      ],
      "execution_count": 0,
      "outputs": []
    },
    {
      "cell_type": "markdown",
      "metadata": {
        "id": "jKyKxirvPtHq",
        "colab_type": "text"
      },
      "source": [
        "## Background\n",
        "As physicians, we care about healthy physiology and how diseases break that physiology.\n",
        "Physiology is a fancy word for \"how parts of the body affect each other\"\n",
        "\n",
        "One of the basic tools we have in studying how things relate to each other is 'lines'.\n",
        "Linear regression is a fancy way of saying: let's find lines between variables that tell us how they affect each, and its a major workhorse in statistics.\n",
        "A lot of EBM statistics are \n",
        "Linear regressions are a major workhorse in statistics.\n",
        "A lot of the statistics we learn in EBM is derived from a linear regression model.\n",
        "\n",
        "What we're doing here is opening up the hood of EBM.\n",
        "This notebook lays the groundwork for understanding more advanced concepts in machine learning."
      ]
    },
    {
      "cell_type": "markdown",
      "metadata": {
        "id": "r0U5iCmc0LWL",
        "colab_type": "text"
      },
      "source": [
        "## Linear Regression (2D)\n",
        "Let's learn linear regression around an example.\n",
        "\n",
        "We know diabetes is bad.\n",
        "We know patients with diabetes tend to have more lifelong complications, especially with their cardiovascular system.\n",
        "We also know that the severity of the diabetes is related to the Hemoglobin A1c, a measure of the 'average' glucose concentration in the blood over the last few months.\n",
        "\n",
        "Let's try to find this relationship between the A1c and lifetime risk of cardiovascular disease.\n"
      ]
    },
    {
      "cell_type": "markdown",
      "metadata": {
        "id": "4c5TiRtM0LWO",
        "colab_type": "text"
      },
      "source": [
        "First, for this exercise, we defined the *truth*: that the blood glucose is just the A1c times a *conversion factor* which is $\\frac{100}{6} \\approx 16.6667$"
      ]
    },
    {
      "cell_type": "markdown",
      "metadata": {
        "id": "vi9beZF60LWR",
        "colab_type": "text"
      },
      "source": [
        "Next, we're going to *simulate* a study with a certain number of patients."
      ]
    },
    {
      "cell_type": "markdown",
      "metadata": {
        "id": "DzRP6Tx-0LWU",
        "colab_type": "text"
      },
      "source": [
        "Let's see what the data from the experiment looks like:"
      ]
    },
    {
      "cell_type": "code",
      "metadata": {
        "id": "9w19yrPG0LWY",
        "colab_type": "code",
        "outputId": "c8b0fc9d-fc07-4a79-9ed5-9abc848d5bbf",
        "colab": {
          "base_uri": "https://localhost:8080/",
          "height": 898
        }
      },
      "source": [
        "\n",
        "def get_our_data(slope,noise=20,num_pts = 10):\n",
        "  # the ground truth\n",
        "  \n",
        "  # The data we (simulated) collected from patients\n",
        "  exp_1_a1c = np.random.uniform(0,15,size=(num_pts,1))\n",
        "  exp_1_lrcv = slope * exp_1_a1c + np.random.normal(0,noise,size=(num_pts,1))\n",
        "\n",
        "  x = exp_1_a1c.reshape(-1,1)\n",
        "  y = exp_1_lrcv.reshape(-1,1)\n",
        "\n",
        "  return x,y,slope\n",
        "\n",
        "relationship_factor = 4\n",
        "exp_1_a1c,exp_1_lrcv,slope = get_our_data(slope=relationship_factor)\n",
        "\n",
        "plot_data(exp_1_a1c,exp_1_lrcv)\n",
        "\n",
        "reg = LinearRegression(fit_intercept=False).fit(exp_1_a1c, exp_1_lrcv)\n",
        "reg.score(exp_1_a1c, exp_1_lrcv)\n",
        "slope_estimate = reg.coef_[0,0]\n",
        "print('Regression slope is ' + str(reg.coef_[0,0]))"
      ],
      "execution_count": 0,
      "outputs": [
        {
          "output_type": "stream",
          "text": [
            "Regression slope is 3.1130232086766134\n"
          ],
          "name": "stdout"
        },
        {
          "output_type": "display_data",
          "data": {
            "image/png": "[encoded data removed]",
            "text/plain": [
              "<Figure size 1440x1080 with 1 Axes>"
            ]
          },
          "metadata": {
            "tags": []
          }
        }
      ]
    },
    {
      "cell_type": "code",
      "metadata": {
        "id": "Gp3X_ZNq0LWb",
        "colab_type": "code",
        "outputId": "7a2bf063-6890-4fbc-cce7-ab810d778d55",
        "colab": {
          "base_uri": "https://localhost:8080/",
          "height": 898
        }
      },
      "source": [
        "plot_data(exp_1_a1c,exp_1_lrcv)\n",
        "\n",
        "#Now let's plot the lines that we think link our variables\n",
        "x_fix = np.linspace(0,15,100)\n",
        "plt.plot(x_fix,slope_estimate * x_fix + reg.intercept_,'red')\n",
        "plt.text(3,80,'Estimated slope: ' + str(np.round(slope_estimate,4)),color='red')\n",
        "plt.plot(x_fix,slope * x_fix,'--')\n",
        "plt.legend({'True','Estimated'})\n",
        "\n",
        "print(\"How close are we to the true slope, which we set above at \" + str(np.round(slope,4)) + \" ?\")"
      ],
      "execution_count": 0,
      "outputs": [
        {
          "output_type": "stream",
          "text": [
            "How close are we to the true slope, which we set above at 4 ?\n"
          ],
          "name": "stdout"
        },
        {
          "output_type": "display_data",
          "data": {
            "image/png": "[encoded data removed]",
            "text/plain": [
              "<Figure size 1440x1080 with 1 Axes>"
            ]
          },
          "metadata": {
            "tags": []
          }
        }
      ]
    },
    {
      "cell_type": "markdown",
      "metadata": {
        "id": "7uJ3dmGB0LWd",
        "colab_type": "text"
      },
      "source": [
        "The goal in any linear regression is to *figure out* what the true conversion-factor is using the *data*.\n",
        "\n",
        "What we did here was take data from our (simulated) patients and fit a line between the datapoints to see if we could *infer* the true relationship between A1c and blood glucose. \n",
        "Turns out we can!\n",
        "Even if it's not perfect, the linear regression approach let us see that there's an *association* between the two variable.\n"
      ]
    },
    {
      "cell_type": "markdown",
      "metadata": {
        "id": "drZ0hTyQ8Vy8",
        "colab_type": "text"
      },
      "source": [
        "## Signal-to-noise ratio: Adjusting the slope\n",
        "\n",
        "Next we're going to adjust the slope of our line, or *how strong the relationship between the two variables is* and see how this affects our ability to do a simple regression.\n"
      ]
    },
    {
      "cell_type": "code",
      "metadata": {
        "id": "4nIrRW270rw7",
        "colab_type": "code",
        "outputId": "03b7bfd5-d553-46a0-92b7-4c9f65c670a6",
        "colab": {
          "base_uri": "https://localhost:8080/",
          "height": 1000,
          "referenced_widgets": [
            "e57b77cd83af4e70bbdd1b15488e6821",
            "79cb42a5df61472595848472c51d716e",
            "77c15eb623dc48bcab4c8be873084741",
            "29372a91552e42a294060b7048669df4",
            "90a9a40f09e04fbd92b98cf46f016c52",
            "fea746396794466d888e0873ce5a07d4",
            "a86426c81b7b4374811d1bedb4cc2fd6",
            "fe09ef87cb7a4dd8a68f84195aa24da7",
            "65db86c2f7474806ada86fd524fd25e9",
            "c3fc1ea0f6104d829b95139b242c42bf",
            "f6f455afdabd415391c78a8cba26b7a3",
            "a678c568e6284459b10b47e294228b5a",
            "bb43e29c9a3046c39096d924f710c3fd"
          ]
        }
      },
      "source": [
        "widg = interactive(simple_eg,slope=(0.0,10.0,0.05),noise=(0.0,25.0,1.0),samples=(2,200,1))\n",
        "display(widg)"
      ],
      "execution_count": 0,
      "outputs": [
        {
          "output_type": "display_data",
          "data": {
            "application/vnd.jupyter.widget-view+json": {
              "model_id": "e57b77cd83af4e70bbdd1b15488e6821",
              "version_minor": 0,
              "version_major": 2
            },
            "text/plain": [
              "interactive(children=(FloatSlider(value=1.0, description='slope', max=10.0, step=0.05), FloatSlider(value=0.0,…"
            ]
          },
          "metadata": {
            "tags": []
          }
        }
      ]
    },
    {
      "cell_type": "markdown",
      "metadata": {
        "id": "SVyPUQTz0qt4",
        "colab_type": "text"
      },
      "source": [
        "\"Slope\" is like the strength of the relationship.\n",
        "\"Noise\" is the interference that we typically address by collecting a large sample size.\n",
        "\n",
        "Try it our yourself!\n",
        "Fix the slope to something like 1.0, then increase the noise to 15.0 while keeping the samples to ~5.\n",
        "See what happens to your regression line.\n",
        "\n",
        "Then, move just the slope up to 10 and see what happens to the regression line.\n",
        "\n",
        "This is similar to a 'power analysis' where you figure out how many samples you need to be able to confidently say \"y is related to x, even though there is noise\".\n",
        "\n",
        "\n",
        "### Signal to noise (extra)\n",
        "Anytime you measure something, part of it is **signal** (the thing you care about), and part of it is **noise** (the things that get in the way).\n",
        "When we design an experiment we try to remove as much noise as possible so that we're pretty much measuring just signal.\n",
        "\n",
        "The *signal-to-noise* ratio is an important concept because it reflects how hard/expensive a scientific study will be.\n",
        "This basically translates to \"how big of an effect does my independent variable have on my dependent variable compared to noise?\"\n",
        "It's analogous to a 'power analysis', but it's actually a more flexible concept."
      ]
    },
    {
      "cell_type": "markdown",
      "metadata": {
        "id": "V_HvSTRD0LWr",
        "colab_type": "text"
      },
      "source": [
        "## Three-dimensional regression\n",
        "\n",
        "What if we've got more than one independent variable?\n",
        "Imagine we're trying to study if insulin dose and amount of sugar we just ate relate to the blood glucose in 10 minutes.\n",
        "\n",
        "This type of question is where we start to really see where ML becomes a very powerful research tool.\n",
        "\n",
        "The variables we're going to look at are related this way:\n",
        "$ y = 0.2 \\cdot x + 10 \\cdot w$\n",
        "\n",
        "---\n",
        "\n",
        "#### Interactive Example\n",
        "If we were doing the standard approach, we'd focus on x (independent variable) and y (dependent variable) while keeping w constant.\n"
      ]
    },
    {
      "cell_type": "code",
      "metadata": {
        "id": "dh-orxDz0LWs",
        "colab_type": "code",
        "outputId": "ba7f54f2-7f10-4349-d22d-0ee73f579d68",
        "colab": {
          "base_uri": "https://localhost:8080/",
          "height": 49,
          "referenced_widgets": [
            "504af457f5eb412cbe64074adea7e560",
            "9fa95cf9574a43c1b24a3173962221da",
            "6fddc576a3fd4db795f29653e558d00c"
          ]
        }
      },
      "source": [
        "from mpl_toolkits import mplot3d\n",
        "import pandas\n",
        "from pandas import DataFrame\n",
        "import plotly.express as px\n",
        "\n",
        "model = np.array([0.2,2]).reshape(-1,1)\n",
        "\n",
        "noise_slider = widgets.FloatSlider(min=0.0,max=10.0,description=\"Noise\")\n",
        "display(noise_slider)\n"
      ],
      "execution_count": 0,
      "outputs": [
        {
          "output_type": "display_data",
          "data": {
            "application/vnd.jupyter.widget-view+json": {
              "model_id": "504af457f5eb412cbe64074adea7e560",
              "version_minor": 0,
              "version_major": 2
            },
            "text/plain": [
              "FloatSlider(value=0.0, description='Noise', max=10.0)"
            ]
          },
          "metadata": {
            "tags": []
          }
        }
      ]
    },
    {
      "cell_type": "code",
      "metadata": {
        "id": "TRcfKJbxGTxw",
        "colab_type": "code",
        "outputId": "a17b281a-4dc1-4546-ad66-f0c8230a5ef9",
        "colab": {
          "base_uri": "https://localhost:8080/",
          "height": 734
        }
      },
      "source": [
        "#If you edit the noise slider, please re-run this cell to re-plot\n",
        "# TODO Plane\n",
        "def run_3d(noise):\n",
        "  pt_num = 100\n",
        "  x = np.random.uniform(-10,10,size=(pt_num,2))\n",
        "  y = np.dot(x,model)\n",
        "  y += np.random.normal(0,noise,size=y.shape)\n",
        "  data = np.hstack((x,y))\n",
        "  dats = {'x':data[:,0].squeeze(),'w':data[:,1].squeeze(),'y':data[:,2].squeeze()}\n",
        "  df = DataFrame(data=dats)\n",
        "\n",
        "  fig = px.scatter_3d(df, x='x', y='w', z='y',width=1200, height=1200)\n",
        "  view_range=[-10,10]\n",
        "  fig.update_layout(scene=dict(xaxis=dict(range=view_range),yaxis=dict(range=view_range),zaxis=dict(range=view_range),aspectmode=\"cube\"))\n",
        "  fig['layout'].update(width=700, height=700, autosize=False)\n",
        "  fig.show()\n",
        "\n",
        "  model_3d = LinearRegression(fit_intercept=True).fit(x, y)\n",
        "  model_3d.score(x, y) #This gives us a 'score' that tells us how well the model did\n",
        "\n",
        "  return model_3d.coef_\n",
        "\n",
        "model_estimate = run_3d(noise=noise_slider.value)\n",
        "print('Estimated slope is ' + str(model_estimate))"
      ],
      "execution_count": 0,
      "outputs": [
        {
          "output_type": "display_data",
          "data": {
            "text/html": [
              "<html>\n",
              "<head><meta charset=\"utf-8\" /></head>\n",
              "<body>\n",
              "    <div>\n",
              "            <script src=\"https://cdnjs.cloudflare.com/ajax/libs/mathjax/2.7.5/MathJax.js?config=TeX-AMS-MML_SVG\"></script><script type=\"text/javascript\">if (window.MathJax) {MathJax.Hub.Config({SVG: {font: \"STIX-Web\"}});}</script>\n",
              "                <script type=\"text/javascript\">window.PlotlyConfig = {MathJaxConfig: 'local'};</script>\n",
              "        <script src=\"https://cdn.plot.ly/plotly-latest.min.js\"></script>    \n",
              "            <div id=\"e8be8211-a98d-4c79-8cf3-44f33ecf9497\" class=\"plotly-graph-div\" style=\"height:700px; width:700px;\"></div>\n",
              "            <script type=\"text/javascript\">\n",
              "                \n",
              "                    window.PLOTLYENV=window.PLOTLYENV || {};\n",
              "                    \n",
              "                if (document.getElementById(\"e8be8211-a98d-4c79-8cf3-44f33ecf9497\")) {\n",
              "                    Plotly.newPlot(\n",
              "                        'e8be8211-a98d-4c79-8cf3-44f33ecf9497',\n",
              "                        [{\"hoverlabel\": {\"namelength\": 0}, \"hovertemplate\": \"x=%{x}<br>w=%{y}<br>y=%{z}\", \"legendgroup\": \"\", \"marker\": {\"color\": \"#636efa\", \"symbol\": \"circle\"}, \"mode\": \"markers\", \"name\": \"\", \"scene\": \"scene\", \"showlegend\": false, \"type\": \"scatter3d\", \"x\": [-7.1311784028335, -8.153611002925059, -4.367519515021321, 7.780147254373681, -2.686269332657238, 9.590418024308654, 0.3145368883616779, 3.5338042308604543, -1.3834358935277216, 6.008042161100317, 4.325225570146024, -3.0987665883875266, -8.244022310551106, 0.961040808230436, -6.213239043466407, 8.86833619081926, -5.0228099672259585, 0.3325969413957601, 3.6563242952621486, 7.6432142913324626, 7.3361840303727135, -7.701832979447252, 5.233001765963321, 8.123257846798673, 8.264284604556543, 0.7424672026343071, 8.318556874608952, -1.1578499389477201, -4.52218104455582, -0.2840002833499824, -2.831470802343241, 3.493814198304154, -3.7738352622628195, -8.82191838071805, 5.933339900710418, -4.286902314110675, -5.742306744613382, -7.627290596066332, -7.975384978832278, 7.5997050585487145, -9.571246525347505, -5.527619290928374, 2.555858598832117, 1.3791627459205014, -3.5848823213079157, -5.348462379294128, -9.632255372318767, -9.872399353035949, -4.693952304797337, 0.8648476868631167, 2.0724056447952126, 6.259293845271969, 6.2471155076411655, 7.313446885650375, 2.677383116753205, -8.472698595192618, 8.919882495247666, 2.179706950177355, -9.398515755535712, 5.874233325312737, 7.798007410170399, -6.458471481896622, -1.0884990841612048, -6.5791627581856105, -8.674507534198032, -7.573811714292642, 6.999987385669538, 8.470965820016815, 1.5715942776057386, -8.111500053030475, -8.175316701843645, 5.933469062266138, 2.395198555840814, 9.31440578405136, -1.146115237956728, 4.583120302195237, 5.760024679623893, 7.412599889702509, 4.695416073600461, -6.617705680638524, -9.829624432205845, 0.2635657983923334, 4.376821773463908, -4.960897387489711, 0.8737112892733538, -4.5796832994630225, -7.2279353512798235, 6.403997588367794, -6.651339649853256, -8.525904158629729, 7.479335504939144, -9.446957004699183, 4.686677422074494, -9.384956603921552, -5.280024429268789, 1.1042815857320303, 2.495453526205921, 0.07984168821533544, -0.3554310679953865, -8.102699956029916], \"y\": [7.936191845198785, -9.225777012047839, 6.233566891260448, -4.926972363644426, 4.101469879155658, -2.267019341321504, 7.678570101796865, -1.286356975347534, -6.84346313081581, -8.313955129167546, -3.4377485916222694, 2.1158937172830043, -5.5058922851981436, -3.2623866002967583, 4.997945542675296, 9.086324069027448, 8.893928246062941, -5.308546899979378, -7.467819115909371, 0.3432181899476756, -5.823151344983051, 1.3614061567719773, -0.10545514511377085, -6.110629724079493, 4.713956048935103, 7.214922367304627, -8.09355264879305, 7.811795996906888, 0.6205495834045891, 5.802053214822049, -9.96160210827716, -0.4917846164379114, 6.036014487595903, 7.492279440924573, -1.0824848820065895, -3.307905480990952, -1.6938146735450061, 0.43473793549967965, 5.168068627571527, -6.15409712452665, 4.033054213157607, 0.9209367717666908, 8.059410138751616, -3.9161012813555196, 5.3621265060837935, 7.922476048266553, -3.009701720900793, -7.278466466794045, 4.446967281134771, -9.581898625339782, -2.7989463657461933, 6.899835317335054, 8.234755982365773, -3.716837504422694, 0.16378604046130896, -7.9149125454330775, -3.8550911080395096, 9.553806348793714, -7.717213076795126, 0.7639562432847704, 5.610816870379249, -6.397961130834913, 4.1294654175983005, -9.007491273680884, -9.387145408516782, 3.980911707515782, 4.305177498805195, -7.100597273465816, -5.728468517627241, -1.4154750067484692, -6.713916054443223, -7.192245956775569, -7.471644751044595, 9.161616830510372, 4.445976699816448, -4.2659297116275585, 8.937506756916441, -3.042703342136896, 4.045801252587594, 8.51548436270286, 9.931160625428902, 1.7768348730353711, 2.9760266817228427, -7.95449476019998, 6.946279302200065, 2.84676637301261, -2.873283496589412, -9.885855364841662, -6.347750198198574, -9.045275415605417, -2.8129070904184372, -7.436822291169758, -4.497889409387836, -0.9210299310252097, 3.158207244124725, 0.2742580409720201, -5.81544268245183, 4.125847203244341, 8.5381257062587, -6.11530562410657], \"z\": [14.44614800983087, -20.08227622468069, 11.593629879516632, -8.297915276414116, 7.665685891779869, -2.615955077781277, 15.420047581266065, -1.865953104522977, -13.963613440337163, -15.42630182611503, -6.010452069215334, 3.6120341168885033, -12.660589032506508, -6.332565038947429, 8.753243276657312, 19.94631537621875, 16.78329449868069, -10.550574411679603, -14.204373372766312, 2.215079238161844, -10.17906588389156, 1.1824457176545042, 0.8356900629651225, -10.59660787879925, 11.080769018781513, 14.578338175136116, -14.52339392266431, 15.39202200602423, 0.33666295789801415, 11.547306372974102, -20.48949837702297, -0.2848063932149919, 11.317261922739242, 13.220175205705537, -0.9783017838710955, -7.473191424804039, -4.536090696012689, -0.655982248213907, 8.7410602593766, -10.788253237343556, 6.151859121245713, 0.7363496853477065, 16.629991997269656, -7.556370013526939, 10.007276547906004, 14.77525962067428, -7.94585451626534, -16.53141280419528, 7.955144101310076, -18.990827713306942, -5.183411602533344, 15.051529403724501, 17.718935066259778, -5.970985631715313, 0.863048704273259, -17.52436480990468, -5.926205717029486, 19.543554087622898, -17.314129304697396, 2.7027591516320886, 12.781235222792578, -14.08761655804915, 8.04123101836436, -19.33081509899889, -20.50919232387317, 6.447061072173035, 10.010352474744298, -12.50700138292827, -11.142618179733335, -4.453250024103033, -15.062895449255175, -13.19779810109791, -14.464249790921027, 20.186114817831015, 8.662730352041551, -7.61523536281607, 19.027018449757662, -4.60288670633329, 9.030685719895281, 15.707427589278016, 17.896396364416635, 3.606382905749209, 6.8274177181384665, -16.9011689978979, 14.0673008622548, 4.777596086132615, -7.1921540634347885, -18.490911212009767, -14.025768326367798, -19.79573166293678, -4.129947079849046, -16.76303598327935, -8.058443334360774, -3.71905118283473, 5.260409602395692, 0.7693723990904463, -11.131794659662477, 8.267662744131748, 17.005165198918323, -13.851151239419124]}],\n",
              "                        {\"autosize\": false, \"height\": 700, \"legend\": {\"tracegroupgap\": 0}, \"margin\": {\"t\": 60}, \"scene\": {\"aspectmode\": \"cube\", \"domain\": {\"x\": [0.0, 1.0], \"y\": [0.0, 1.0]}, \"xaxis\": {\"range\": [-10, 10], \"title\": {\"text\": \"x\"}}, \"yaxis\": {\"range\": [-10, 10], \"title\": {\"text\": \"w\"}}, \"zaxis\": {\"range\": [-10, 10], \"title\": {\"text\": \"y\"}}}, \"template\": {\"data\": {\"bar\": [{\"error_x\": {\"color\": \"#2a3f5f\"}, \"error_y\": {\"color\": \"#2a3f5f\"}, \"marker\": {\"line\": {\"color\": \"#E5ECF6\", \"width\": 0.5}}, \"type\": \"bar\"}], \"barpolar\": [{\"marker\": {\"line\": {\"color\": \"#E5ECF6\", \"width\": 0.5}}, \"type\": \"barpolar\"}], \"carpet\": [{\"aaxis\": {\"endlinecolor\": \"#2a3f5f\", \"gridcolor\": \"white\", \"linecolor\": \"white\", \"minorgridcolor\": \"white\", \"startlinecolor\": \"#2a3f5f\"}, \"baxis\": {\"endlinecolor\": \"#2a3f5f\", \"gridcolor\": \"white\", \"linecolor\": \"white\", \"minorgridcolor\": \"white\", \"startlinecolor\": \"#2a3f5f\"}, \"type\": \"carpet\"}], \"choropleth\": [{\"colorbar\": {\"outlinewidth\": 0, \"ticks\": \"\"}, \"type\": \"choropleth\"}], \"contour\": [{\"colorbar\": {\"outlinewidth\": 0, \"ticks\": \"\"}, \"colorscale\": [[0.0, \"#0d0887\"], [0.1111111111111111, \"#46039f\"], [0.2222222222222222, \"#7201a8\"], [0.3333333333333333, \"#9c179e\"], [0.4444444444444444, \"#bd3786\"], [0.5555555555555556, \"#d8576b\"], [0.6666666666666666, \"#ed7953\"], [0.7777777777777778, \"#fb9f3a\"], [0.8888888888888888, \"#fdca26\"], [1.0, \"#f0f921\"]], \"type\": \"contour\"}], \"contourcarpet\": [{\"colorbar\": {\"outlinewidth\": 0, \"ticks\": \"\"}, \"type\": \"contourcarpet\"}], \"heatmap\": [{\"colorbar\": {\"outlinewidth\": 0, \"ticks\": \"\"}, \"colorscale\": [[0.0, \"#0d0887\"], [0.1111111111111111, \"#46039f\"], [0.2222222222222222, \"#7201a8\"], [0.3333333333333333, \"#9c179e\"], [0.4444444444444444, \"#bd3786\"], [0.5555555555555556, \"#d8576b\"], [0.6666666666666666, \"#ed7953\"], [0.7777777777777778, \"#fb9f3a\"], [0.8888888888888888, \"#fdca26\"], [1.0, \"#f0f921\"]], \"type\": \"heatmap\"}], \"heatmapgl\": [{\"colorbar\": {\"outlinewidth\": 0, \"ticks\": \"\"}, \"colorscale\": [[0.0, \"#0d0887\"], [0.1111111111111111, \"#46039f\"], [0.2222222222222222, \"#7201a8\"], [0.3333333333333333, \"#9c179e\"], [0.4444444444444444, \"#bd3786\"], [0.5555555555555556, \"#d8576b\"], [0.6666666666666666, \"#ed7953\"], [0.7777777777777778, \"#fb9f3a\"], [0.8888888888888888, \"#fdca26\"], [1.0, \"#f0f921\"]], \"type\": \"heatmapgl\"}], \"histogram\": [{\"marker\": {\"colorbar\": {\"outlinewidth\": 0, \"ticks\": \"\"}}, \"type\": \"histogram\"}], \"histogram2d\": [{\"colorbar\": {\"outlinewidth\": 0, \"ticks\": \"\"}, \"colorscale\": [[0.0, \"#0d0887\"], [0.1111111111111111, \"#46039f\"], [0.2222222222222222, \"#7201a8\"], [0.3333333333333333, \"#9c179e\"], [0.4444444444444444, \"#bd3786\"], [0.5555555555555556, \"#d8576b\"], [0.6666666666666666, \"#ed7953\"], [0.7777777777777778, \"#fb9f3a\"], [0.8888888888888888, \"#fdca26\"], [1.0, \"#f0f921\"]], \"type\": \"histogram2d\"}], \"histogram2dcontour\": [{\"colorbar\": {\"outlinewidth\": 0, \"ticks\": \"\"}, \"colorscale\": [[0.0, \"#0d0887\"], [0.1111111111111111, \"#46039f\"], [0.2222222222222222, \"#7201a8\"], [0.3333333333333333, \"#9c179e\"], [0.4444444444444444, \"#bd3786\"], [0.5555555555555556, \"#d8576b\"], [0.6666666666666666, \"#ed7953\"], [0.7777777777777778, \"#fb9f3a\"], [0.8888888888888888, \"#fdca26\"], [1.0, \"#f0f921\"]], \"type\": \"histogram2dcontour\"}], \"mesh3d\": [{\"colorbar\": {\"outlinewidth\": 0, \"ticks\": \"\"}, \"type\": \"mesh3d\"}], \"parcoords\": [{\"line\": {\"colorbar\": {\"outlinewidth\": 0, \"ticks\": \"\"}}, \"type\": \"parcoords\"}], \"pie\": [{\"automargin\": true, \"type\": \"pie\"}], \"scatter\": [{\"marker\": {\"colorbar\": {\"outlinewidth\": 0, \"ticks\": \"\"}}, \"type\": \"scatter\"}], \"scatter3d\": [{\"line\": {\"colorbar\": {\"outlinewidth\": 0, \"ticks\": \"\"}}, \"marker\": {\"colorbar\": {\"outlinewidth\": 0, \"ticks\": \"\"}}, \"type\": \"scatter3d\"}], \"scattercarpet\": [{\"marker\": {\"colorbar\": {\"outlinewidth\": 0, \"ticks\": \"\"}}, \"type\": \"scattercarpet\"}], \"scattergeo\": [{\"marker\": {\"colorbar\": {\"outlinewidth\": 0, \"ticks\": \"\"}}, \"type\": \"scattergeo\"}], \"scattergl\": [{\"marker\": {\"colorbar\": {\"outlinewidth\": 0, \"ticks\": \"\"}}, \"type\": \"scattergl\"}], \"scattermapbox\": [{\"marker\": {\"colorbar\": {\"outlinewidth\": 0, \"ticks\": \"\"}}, \"type\": \"scattermapbox\"}], \"scatterpolar\": [{\"marker\": {\"colorbar\": {\"outlinewidth\": 0, \"ticks\": \"\"}}, \"type\": \"scatterpolar\"}], \"scatterpolargl\": [{\"marker\": {\"colorbar\": {\"outlinewidth\": 0, \"ticks\": \"\"}}, \"type\": \"scatterpolargl\"}], \"scatterternary\": [{\"marker\": {\"colorbar\": {\"outlinewidth\": 0, \"ticks\": \"\"}}, \"type\": \"scatterternary\"}], \"surface\": [{\"colorbar\": {\"outlinewidth\": 0, \"ticks\": \"\"}, \"colorscale\": [[0.0, \"#0d0887\"], [0.1111111111111111, \"#46039f\"], [0.2222222222222222, \"#7201a8\"], [0.3333333333333333, \"#9c179e\"], [0.4444444444444444, \"#bd3786\"], [0.5555555555555556, \"#d8576b\"], [0.6666666666666666, \"#ed7953\"], [0.7777777777777778, \"#fb9f3a\"], [0.8888888888888888, \"#fdca26\"], [1.0, \"#f0f921\"]], \"type\": \"surface\"}], \"table\": [{\"cells\": {\"fill\": {\"color\": \"#EBF0F8\"}, \"line\": {\"color\": \"white\"}}, \"header\": {\"fill\": {\"color\": \"#C8D4E3\"}, \"line\": {\"color\": \"white\"}}, \"type\": \"table\"}]}, \"layout\": {\"annotationdefaults\": {\"arrowcolor\": \"#2a3f5f\", \"arrowhead\": 0, \"arrowwidth\": 1}, \"coloraxis\": {\"colorbar\": {\"outlinewidth\": 0, \"ticks\": \"\"}}, \"colorscale\": {\"diverging\": [[0, \"#8e0152\"], [0.1, \"#c51b7d\"], [0.2, \"#de77ae\"], [0.3, \"#f1b6da\"], [0.4, \"#fde0ef\"], [0.5, \"#f7f7f7\"], [0.6, \"#e6f5d0\"], [0.7, \"#b8e186\"], [0.8, \"#7fbc41\"], [0.9, \"#4d9221\"], [1, \"#276419\"]], \"sequential\": [[0.0, \"#0d0887\"], [0.1111111111111111, \"#46039f\"], [0.2222222222222222, \"#7201a8\"], [0.3333333333333333, \"#9c179e\"], [0.4444444444444444, \"#bd3786\"], [0.5555555555555556, \"#d8576b\"], [0.6666666666666666, \"#ed7953\"], [0.7777777777777778, \"#fb9f3a\"], [0.8888888888888888, \"#fdca26\"], [1.0, \"#f0f921\"]], \"sequentialminus\": [[0.0, \"#0d0887\"], [0.1111111111111111, \"#46039f\"], [0.2222222222222222, \"#7201a8\"], [0.3333333333333333, \"#9c179e\"], [0.4444444444444444, \"#bd3786\"], [0.5555555555555556, \"#d8576b\"], [0.6666666666666666, \"#ed7953\"], [0.7777777777777778, \"#fb9f3a\"], [0.8888888888888888, \"#fdca26\"], [1.0, \"#f0f921\"]]}, \"colorway\": [\"#636efa\", \"#EF553B\", \"#00cc96\", \"#ab63fa\", \"#FFA15A\", \"#19d3f3\", \"#FF6692\", \"#B6E880\", \"#FF97FF\", \"#FECB52\"], \"font\": {\"color\": \"#2a3f5f\"}, \"geo\": {\"bgcolor\": \"white\", \"lakecolor\": \"white\", \"landcolor\": \"#E5ECF6\", \"showlakes\": true, \"showland\": true, \"subunitcolor\": \"white\"}, \"hoverlabel\": {\"align\": \"left\"}, \"hovermode\": \"closest\", \"mapbox\": {\"style\": \"light\"}, \"paper_bgcolor\": \"white\", \"plot_bgcolor\": \"#E5ECF6\", \"polar\": {\"angularaxis\": {\"gridcolor\": \"white\", \"linecolor\": \"white\", \"ticks\": \"\"}, \"bgcolor\": \"#E5ECF6\", \"radialaxis\": {\"gridcolor\": \"white\", \"linecolor\": \"white\", \"ticks\": \"\"}}, \"scene\": {\"xaxis\": {\"backgroundcolor\": \"#E5ECF6\", \"gridcolor\": \"white\", \"gridwidth\": 2, \"linecolor\": \"white\", \"showbackground\": true, \"ticks\": \"\", \"zerolinecolor\": \"white\"}, \"yaxis\": {\"backgroundcolor\": \"#E5ECF6\", \"gridcolor\": \"white\", \"gridwidth\": 2, \"linecolor\": \"white\", \"showbackground\": true, \"ticks\": \"\", \"zerolinecolor\": \"white\"}, \"zaxis\": {\"backgroundcolor\": \"#E5ECF6\", \"gridcolor\": \"white\", \"gridwidth\": 2, \"linecolor\": \"white\", \"showbackground\": true, \"ticks\": \"\", \"zerolinecolor\": \"white\"}}, \"shapedefaults\": {\"line\": {\"color\": \"#2a3f5f\"}}, \"ternary\": {\"aaxis\": {\"gridcolor\": \"white\", \"linecolor\": \"white\", \"ticks\": \"\"}, \"baxis\": {\"gridcolor\": \"white\", \"linecolor\": \"white\", \"ticks\": \"\"}, \"bgcolor\": \"#E5ECF6\", \"caxis\": {\"gridcolor\": \"white\", \"linecolor\": \"white\", \"ticks\": \"\"}}, \"title\": {\"x\": 0.05}, \"xaxis\": {\"automargin\": true, \"gridcolor\": \"white\", \"linecolor\": \"white\", \"ticks\": \"\", \"title\": {\"standoff\": 15}, \"zerolinecolor\": \"white\", \"zerolinewidth\": 2}, \"yaxis\": {\"automargin\": true, \"gridcolor\": \"white\", \"linecolor\": \"white\", \"ticks\": \"\", \"title\": {\"standoff\": 15}, \"zerolinecolor\": \"white\", \"zerolinewidth\": 2}}}, \"width\": 700},\n",
              "                        {\"responsive\": true}\n",
              "                    ).then(function(){\n",
              "                            \n",
              "var gd = document.getElementById('e8be8211-a98d-4c79-8cf3-44f33ecf9497');\n",
              "var x = new MutationObserver(function (mutations, observer) {{\n",
              "        var display = window.getComputedStyle(gd).display;\n",
              "        if (!display || display === 'none') {{\n",
              "            console.log([gd, 'removed!']);\n",
              "            Plotly.purge(gd);\n",
              "            observer.disconnect();\n",
              "        }}\n",
              "}});\n",
              "\n",
              "// Listen for the removal of the full notebook cells\n",
              "var notebookContainer = gd.closest('#notebook-container');\n",
              "if (notebookContainer) {{\n",
              "    x.observe(notebookContainer, {childList: true});\n",
              "}}\n",
              "\n",
              "// Listen for the clearing of the current output cell\n",
              "var outputEl = gd.closest('.output');\n",
              "if (outputEl) {{\n",
              "    x.observe(outputEl, {childList: true});\n",
              "}}\n",
              "\n",
              "                        })\n",
              "                };\n",
              "                \n",
              "            </script>\n",
              "        </div>\n",
              "</body>\n",
              "</html>"
            ]
          },
          "metadata": {
            "tags": []
          }
        },
        {
          "output_type": "stream",
          "text": [
            "Estimated slope is [[0.2 2. ]]\n"
          ],
          "name": "stdout"
        }
      ]
    },
    {
      "cell_type": "markdown",
      "metadata": {
        "id": "sItEJuzmiwEE",
        "colab_type": "text"
      },
      "source": [
        "Copyright 2020 MedML"
      ]
    }
  ]
}