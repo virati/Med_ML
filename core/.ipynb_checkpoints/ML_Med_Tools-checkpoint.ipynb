{
 "cells": [
  {
   "cell_type": "markdown",
   "metadata": {},
   "source": [
    "# Machine Learning for Medicine: Workshop\n",
    "## What tools do we need?\n",
    "\n",
    "The goal of this notebook is to serve as a \"check\" that you have all the software libraries needed to run the Jupyter notebooks for this Workshop.\n",
    "\n",
    "### The list\n",
    "#### Python\n",
    "If you're viewing this then you're already interacting with Python and Jupyter.\n",
    "Python is basically a programming language, a way for us to tell the computer what to do."
   ]
  },
  {
   "cell_type": "markdown",
   "metadata": {},
   "source": [
    "#### Jupyter\n",
    "Jupyter is an addition to Python that lets us write notebooks with Python embedded in it."
   ]
  },
  {
   "cell_type": "markdown",
   "metadata": {},
   "source": [
    "#### SciPy and Stats\n"
   ]
  },
  {
   "cell_type": "code",
   "execution_count": null,
   "metadata": {},
   "outputs": [],
   "source": [
    "import scipy.signal\n",
    "import scipy.stats as stats"
   ]
  },
  {
   "cell_type": "markdown",
   "metadata": {},
   "source": [
    "We're telling the rest of our program: hey, we're going to use scipy.signal and scipy.stats.\n",
    "We say something more with scipy.stats - we tell Python that anytime we say 'stats' we mean 'scipy.stats'.\n",
    "This makes it so we don't have to type as much and so our code is a bit more readable."
   ]
  },
  {
   "cell_type": "markdown",
   "metadata": {},
   "source": [
    "#### Scikit Learn"
   ]
  },
  {
   "cell_type": "code",
   "execution_count": null,
   "metadata": {},
   "outputs": [],
   "source": []
  },
  {
   "cell_type": "markdown",
   "metadata": {},
   "source": []
  }
 ],
 "metadata": {
  "kernelspec": {
   "display_name": "Python 3",
   "language": "python",
   "name": "python3"
  },
  "language_info": {
   "codemirror_mode": {
    "name": "ipython",
    "version": 3
   },
   "file_extension": ".py",
   "mimetype": "text/x-python",
   "name": "python",
   "nbconvert_exporter": "python",
   "pygments_lexer": "ipython3",
   "version": "3.8.2"
  }
 },
 "nbformat": 4,
 "nbformat_minor": 4
}
