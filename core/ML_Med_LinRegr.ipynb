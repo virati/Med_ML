{
 "cells": [
  {
   "cell_type": "markdown",
   "metadata": {},
   "source": [
    "# Machine learning for medicine\n",
    "## Linear Regression\n",
    "\n",
    "## Overview\n",
    "Linear regression is a more advanced way to figure out if variables are 'correlated' (see [Correlation notebook]()).\n",
    "Instead of just looking at two variables alone, however, linear regression can be used to find relationships across many variables.\n",
    "\n",
    "But it's also so much more.\n",
    "In this notebook we get hands on with understanding linear regression before running through an example.\n",
    "Most critically, the code here is setup to be friendly to *put your own Discovery data* in and maybe find interesting patterns worth further study."
   ]
  },
  {
   "cell_type": "markdown",
   "metadata": {},
   "source": [
    "### Code Setup"
   ]
  },
  {
   "cell_type": "code",
   "execution_count": 2,
   "metadata": {},
   "outputs": [],
   "source": [
    "import numpy as np\n",
    "import scipy\n",
    "import matplotlib.pyplot as plt\n",
    "from ipywidgets import interact, interactive, fixed, interact_manual\n",
    "import ipywidgets as widgets\n",
    "import scipy.stats as stats\n",
    "from example_systems import *"
   ]
  },
  {
   "cell_type": "markdown",
   "metadata": {},
   "source": [
    "## Linear Regression\n",
    "We'll start with the example we worked within the [Correlation notebook]()."
   ]
  },
  {
   "cell_type": "code",
   "execution_count": 3,
   "metadata": {},
   "outputs": [
    {
     "data": {
      "application/vnd.jupyter.widget-view+json": {
       "model_id": "b4fe39ef7e1444d9a410394e3763c5ec",
       "version_major": 2,
       "version_minor": 0
      },
      "text/plain": [
       "interactive(children=(FloatSlider(value=1.0, description='slope', max=5.0, min=-5.0), FloatSlider(value=0.0, d…"
      ]
     },
     "metadata": {},
     "output_type": "display_data"
    }
   ],
   "source": [
    "interact(simple_eg,slope=(-5,5,0.1),noise=(0.0,10.0,0.5),samples=fixed(100));"
   ]
  },
  {
   "cell_type": "markdown",
   "metadata": {},
   "source": [
    "Linear regression boils down to us trying to figure out the number we're choosing for our 'slope', *using only the blue datapoints*.\n",
    "\n",
    "We're going to perform a linear regression on the *blue* datapoints.\n",
    "Importantly, we generated the blue datapoint using a linear equation so we can actually assess how well our linear regression performed in bringing us to the truth.\n",
    "\n",
    "First, let's set the 'Truth' by defining what the slope is."
   ]
  },
  {
   "cell_type": "code",
   "execution_count": 74,
   "metadata": {},
   "outputs": [
    {
     "data": {
      "application/vnd.jupyter.widget-view+json": {
       "model_id": "18e4af2d2f794dec84cd06481b5fa64f",
       "version_major": 2,
       "version_minor": 0
      },
      "text/plain": [
       "Text(value='')"
      ]
     },
     "metadata": {},
     "output_type": "display_data"
    }
   ],
   "source": [
    "set_slope = widgets.Text()\n",
    "display(set_slope)"
   ]
  },
  {
   "cell_type": "code",
   "execution_count": 75,
   "metadata": {},
   "outputs": [
    {
     "data": {
      "image/png": "[encoded data removed]",
      "text/plain": [
       "<Figure size 432x288 with 1 Axes>"
      ]
     },
     "metadata": {
      "needs_background": "light"
     },
     "output_type": "display_data"
    }
   ],
   "source": [
    "x,y = gen_lin_data(float(set_slope.value),3.0,10)\n",
    "plt.figure()\n",
    "plt.scatter(x,y)\n",
    "plt.xlim((-10,10));\n",
    "plt.ylim((-10,10));"
   ]
  },
  {
   "cell_type": "code",
   "execution_count": 76,
   "metadata": {},
   "outputs": [
    {
     "name": "stdout",
     "output_type": "stream",
     "text": [
      "Regression slope is 0.3273181382314241\n"
     ]
    }
   ],
   "source": [
    "from sklearn.linear_model import LinearRegression\n",
    "x = x.reshape(-1,1)\n",
    "y = y.reshape(-1,1)\n",
    "reg = LinearRegression().fit(x, y)\n",
    "reg.score(x, y)\n",
    "\n",
    "slope_estimate = reg.coef_[0,0]\n",
    "print('Regression slope is ' + str(slope_estimate))\n",
    "#reg.intercept_"
   ]
  },
  {
   "cell_type": "code",
   "execution_count": 78,
   "metadata": {},
   "outputs": [
    {
     "data": {
      "image/png": "[encoded data removed]",
      "text/plain": [
       "<Figure size 432x288 with 1 Axes>"
      ]
     },
     "metadata": {
      "needs_background": "light"
     },
     "output_type": "display_data"
    }
   ],
   "source": [
    "plt.scatter(x,y)\n",
    "x_fix = np.linspace(-10,10,100)\n",
    "plt.plot(x_fix,slope_estimate * x_fix + reg.intercept_,'red')\n",
    "plt.text(3,-5,str(slope_estimate))\n",
    "plt.xlim((-10,10));\n",
    "plt.ylim((-10,10));"
   ]
  },
  {
   "cell_type": "markdown",
   "metadata": {},
   "source": [
    "## More advanced Linear Regression\n",
    "Where Linear Regression really shines is when we have way more than just two variables.\n",
    "\n",
    "Let's say we've got a set of 20 variables."
   ]
  },
  {
   "cell_type": "markdown",
   "metadata": {},
   "source": [
    "## Even more advanced Linear Regression\n",
    "### Regularization\n",
    "As we start talking about regularization, we start entering the world of *machine learning*."
   ]
  }
 ],
 "metadata": {
  "kernelspec": {
   "display_name": "Python 3",
   "language": "python",
   "name": "python3"
  },
  "language_info": {
   "codemirror_mode": {
    "name": "ipython",
    "version": 3
   },
   "file_extension": ".py",
   "mimetype": "text/x-python",
   "name": "python",
   "nbconvert_exporter": "python",
   "pygments_lexer": "ipython3",
   "version": "3.7.6"
  }
 },
 "nbformat": 4,
 "nbformat_minor": 4
}
