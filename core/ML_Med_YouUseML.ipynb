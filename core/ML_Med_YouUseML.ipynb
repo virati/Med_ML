{
 "cells": [
  {
   "cell_type": "markdown",
   "metadata": {},
   "source": [
    "# Machine Learning for Medicine: Workshop\n",
    "## These notebooks + YOUR Data\n",
    "\n",
    "The notebooks in this workshop are meant to achieve two goals: teach ML and lay the foundations for analysing your Discovery data.\n",
    "\n",
    "Here, we'll address the second point: how do you bring your data into these notebooks?\n",
    "\n",
    "\n",
    "## Running the notebooks\n",
    "### CoLab\n",
    "\n",
    "> COLAB IS NOT HIPPA COMPLIANT \\\\\n",
    "> DO NOT UPLOAD YOUR PATIENT DATA\n",
    "\n",
    "Google's COLAB is probably the easiest way to run these notebooks.\n",
    "\n",
    "We'll be using COLAB to test and present these notebooks at the workshops.\n",
    "\n",
    "### Jupyter + Python (local)\n",
    "#### Easiest: Conda\n",
    "\n",
    "Another option that is more responsive is to run Jupyter+Python directly on your computer.\n",
    "\n",
    "This can get tricky because (a) everyone has a different computer and (b) you have to be sure to install the 'libraries' needed to run these notebooks.\n",
    "\n",
    "### What libraries?\n",
    "Take a look at the codeblock below to see which libraries this workshop uses."
   ]
  },
  {
   "cell_type": "code",
   "execution_count": null,
   "metadata": {},
   "outputs": [],
   "source": [
    "import scipy.signal\n",
    "import scipy.stats as stats"
   ]
  },
  {
   "cell_type": "markdown",
   "metadata": {},
   "source": [
    "## Importing your data\n",
    "\n",
    "### CSV = Comma separated variables\n",
    "\n",
    "\n",
    "### XLS/XLSX = Excel Format\n",
    "\n"
   ]
  }
 ],
 "metadata": {
  "kernelspec": {
   "display_name": "Python 3",
   "language": "python",
   "name": "python3"
  },
  "language_info": {
   "codemirror_mode": {
    "name": "ipython",
    "version": 3
   },
   "file_extension": ".py",
   "mimetype": "text/x-python",
   "name": "python",
   "nbconvert_exporter": "python",
   "pygments_lexer": "ipython3",
   "version": "3.8.2"
  }
 },
 "nbformat": 4,
 "nbformat_minor": 4
}
