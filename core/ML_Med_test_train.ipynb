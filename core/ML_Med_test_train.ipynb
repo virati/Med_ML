{
 "cells": [
  {
   "cell_type": "markdown",
   "metadata": {},
   "source": [
    "# Machine learning for medicine\n",
    "## Training/Testing Dataset - The Basics of Inference\n",
    "\n",
    "## Overview\n",
    "ML is all about finding patterns in our data.\n",
    "When we have a carefully controlled and measured experiment, there are some pretty simple patterns that our data could take.\n",
    "But, in the clinical world, there are a lot of uncontrolled variables and messy measurements - patterns can show up that don't actually have anything to do with what you're studying.\n",
    "\n",
    "One way ML takes this into account is with the idea of \"training\" sets and \"testing\" sets.\n",
    "Basically, you take the whole dataset you collected, split it into two sets (not necessary equal), then learn the pattern in the \"training\" set and see how well that pattern shows up in your \"testing\" set."
   ]
  },
  {
   "cell_type": "code",
   "execution_count": 50,
   "metadata": {},
   "outputs": [],
   "source": [
    "# The big library for doing math + data in python\n",
    "import numpy as np\n",
    "\n",
    "# A big library that has a lot of useful functions for scientific use of python\n",
    "import scipy\n",
    "\n",
    "# The main library for plotting\n",
    "import matplotlib\n",
    "import matplotlib.pyplot as plt\n",
    "import seaborn as sns\n",
    "sns.set_style(\"white\")\n",
    "matplotlib.rcParams['figure.figsize'] = [15, 10]\n",
    "\n",
    "# The main library used for statistics\n",
    "import scipy.stats as stats\n",
    "\n",
    "# Libraries that let us use interactive widgets\n",
    "from ipywidgets import interact, interactive, fixed, interact_manual\n",
    "import ipywidgets as widgets\n",
    "\n",
    "# Misc stuff related to cleaning up code and displaying results in a pretty way\n",
    "from example_systems import *\n",
    "from IPython.display import Markdown as md"
   ]
  },
  {
   "cell_type": "code",
   "execution_count": 51,
   "metadata": {},
   "outputs": [],
   "source": [
    "# Our machine learning libraries\n",
    "from sklearn.linear_model import LinearRegression\n",
    "\n",
    "from sklearn.model_selection import train_test_split"
   ]
  },
  {
   "cell_type": "markdown",
   "metadata": {},
   "source": [
    "## The standard approach\n",
    "In a typical experiment you're trying to study something about a *population*.\n",
    "You then design careful controls and measurements, get an idea of how many 'samples' you need to collect to be able to confidently say there's an effect.\n",
    "Then, and only then, do you recruit your sample, collect your data, and analyse *all* of it.\n",
    "The statistics you do on your analysis try to give you the level of confidence you can have that what you found in  your sample is what's happening in the population.\n",
    "Here, you're *implicitly* making conclusions about how well your results reflect the population, or **generalize**."
   ]
  },
  {
   "cell_type": "markdown",
   "metadata": {},
   "source": [
    "## Training vs Testing Set\n",
    "ML typically relies on a very different approach.\n",
    "In ML, you collect your data and try to understand the limitations in the data you collected.\n",
    "You then **split your dataset** into a 'training' set and a 'testing' set.\n",
    "These sets do not overlap.\n",
    "The 'training' set is where you do your 'learning' -> let the algorithm of your choice find the patterns that it thinks are in your data.\n",
    "The 'testing' set is where you take the pattern you just learned and see how well it holds.\n",
    "\n",
    "It's basically doing a 'simulated' experiment where your data is the 'population' and you subsample the population (training set) so you can *explicitly* test how well your results hold in the population, you're explicitly testing the **generalization**."
   ]
  },
  {
   "cell_type": "markdown",
   "metadata": {},
   "source": [
    "PICTURES"
   ]
  },
  {
   "cell_type": "markdown",
   "metadata": {},
   "source": [
    "### Interactive Example of training testing"
   ]
  },
  {
   "cell_type": "code",
   "execution_count": 64,
   "metadata": {},
   "outputs": [
    {
     "data": {
      "application/vnd.jupyter.widget-view+json": {
       "model_id": "5d039af7e70445db9dad73af29fc4ef8",
       "version_major": 2,
       "version_minor": 0
      },
      "text/plain": [
       "interactive(children=(FloatSlider(value=5.0, description='noise', max=10.0), FloatSlider(value=0.45, descripti…"
      ]
     },
     "metadata": {},
     "output_type": "display_data"
    }
   ],
   "source": [
    "X = np.random.uniform(-10,10,size=(100,1))\n",
    "def gen_lin_Y(noise,train_ratio,trial):\n",
    "    m = 2.3\n",
    "    Y = m * X + np.random.normal(0,noise,size=X.shape)\n",
    "    \n",
    "    Xtr,Xte,Ytr,Yte = train_test_split(X,Y,test_size=1-train_ratio,random_state=trial)\n",
    "    \n",
    "    #Do our linear regression analysis\n",
    "    \n",
    "    reg = LinearRegression(fit_intercept=True).fit(Xtr, Ytr)\n",
    "    reg.score(Xtr, Ytr)\n",
    "    Ypred = reg.predict(Xte)\n",
    "\n",
    "    slope_estimate = round(reg.coef_[0,0],4)\n",
    "    \n",
    "    plt.scatter(Xtr,Ytr,s=60,alpha=0.5)\n",
    "    plt.scatter(Xte,Yte,s=30,alpha=0.2,color='red')\n",
    "    plt.scatter(Xte,Ypred,s=80, facecolors='none', edgecolors='r')\n",
    "    plt.plot(X,m*X,'--',alpha=0.9)\n",
    "    plt.plot(X,slope_estimate*X,alpha=0.3,linewidth=4,color='red')\n",
    "    \n",
    "    plt.ylim((-50,50))\n",
    "    plt.xlim((-15,15))\n",
    "    plt.title('True slope = ' + str(m))\n",
    "    plt.text(0,-40,'Estimated slope: ' + str(slope_estimate),color='red')\n",
    "    sns.despine()\n",
    "    \n",
    "w = interactive(gen_lin_Y,noise=(0.0,10.0,0.1),train_ratio=(0.05,0.95,0.1),trial=(1,1000,1))\n",
    "display(w)"
   ]
  },
  {
   "cell_type": "markdown",
   "metadata": {},
   "source": [
    "When you set the training size to 0.2, it runs the train/test split once.\n",
    "To get a better idea of "
   ]
  }
 ],
 "metadata": {
  "kernelspec": {
   "display_name": "Python 3",
   "language": "python",
   "name": "python3"
  },
  "language_info": {
   "codemirror_mode": {
    "name": "ipython",
    "version": 3
   },
   "file_extension": ".py",
   "mimetype": "text/x-python",
   "name": "python",
   "nbconvert_exporter": "python",
   "pygments_lexer": "ipython3",
   "version": "3.8.2"
  }
 },
 "nbformat": 4,
 "nbformat_minor": 4
}
