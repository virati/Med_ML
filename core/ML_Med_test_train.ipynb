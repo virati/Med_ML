{
  "nbformat": 4,
  "nbformat_minor": 0,
  "metadata": {
    "kernelspec": {
      "display_name": "Python 3",
      "language": "python",
      "name": "python3"
    },
    "language_info": {
      "codemirror_mode": {
        "name": "ipython",
        "version": 3
      },
      "file_extension": ".py",
      "mimetype": "text/x-python",
      "name": "python",
      "nbconvert_exporter": "python",
      "pygments_lexer": "ipython3",
      "version": "3.8.2"
    },
    "colab": {
      "name": "ML_Med_test_train.ipynb",
      "provenance": [],
      "collapsed_sections": [
        "MyCUItTQrwDO",
        "lAzjOspNrc04"
      ]
    },
    "widgets": {
      "application/vnd.jupyter.widget-state+json": {
        "d1950b4aef504711b2996c860bced602": {
          "model_module": "@jupyter-widgets/controls",
          "model_name": "VBoxModel",
          "state": {
            "_view_name": "VBoxView",
            "_dom_classes": [
              "widget-interact"
            ],
            "_model_name": "VBoxModel",
            "_view_module": "@jupyter-widgets/controls",
            "_model_module_version": "1.5.0",
            "_view_count": null,
            "_view_module_version": "1.5.0",
            "box_style": "",
            "layout": "IPY_MODEL_439c3f6a9e6349f5b58427a1b4373cf7",
            "_model_module": "@jupyter-widgets/controls",
            "children": [
              "IPY_MODEL_ce95a2b2a4694bf2817a5c6fa612e460",
              "IPY_MODEL_34bebaed189642d3a26369ee8888ffc9",
              "IPY_MODEL_ea797043acd941478634b605100fe07e",
              "IPY_MODEL_c4810a613c804f71b7077115a657329d",
              "IPY_MODEL_f57123f8270044daaf0d75706ef38ef0",
              "IPY_MODEL_586aa052324242c48d57a5b6189bc59e"
            ]
          }
        },
        "439c3f6a9e6349f5b58427a1b4373cf7": {
          "model_module": "@jupyter-widgets/base",
          "model_name": "LayoutModel",
          "state": {
            "_view_name": "LayoutView",
            "grid_template_rows": null,
            "right": null,
            "justify_content": null,
            "_view_module": "@jupyter-widgets/base",
            "overflow": null,
            "_model_module_version": "1.2.0",
            "_view_count": null,
            "flex_flow": null,
            "width": null,
            "min_width": null,
            "border": null,
            "align_items": null,
            "bottom": null,
            "_model_module": "@jupyter-widgets/base",
            "top": null,
            "grid_column": null,
            "overflow_y": null,
            "overflow_x": null,
            "grid_auto_flow": null,
            "grid_area": null,
            "grid_template_columns": null,
            "flex": null,
            "_model_name": "LayoutModel",
            "justify_items": null,
            "grid_row": null,
            "max_height": null,
            "align_content": null,
            "visibility": null,
            "align_self": null,
            "height": null,
            "min_height": null,
            "padding": null,
            "grid_auto_rows": null,
            "grid_gap": null,
            "max_width": null,
            "order": null,
            "_view_module_version": "1.2.0",
            "grid_template_areas": null,
            "object_position": null,
            "object_fit": null,
            "grid_auto_columns": null,
            "margin": null,
            "display": null,
            "left": null
          }
        },
        "ce95a2b2a4694bf2817a5c6fa612e460": {
          "model_module": "@jupyter-widgets/controls",
          "model_name": "CheckboxModel",
          "state": {
            "_view_name": "CheckboxView",
            "style": "IPY_MODEL_4e3c6e287b80473f916880d422d144a0",
            "_dom_classes": [],
            "description": "show_truth",
            "_model_name": "CheckboxModel",
            "_view_module": "@jupyter-widgets/controls",
            "_model_module_version": "1.5.0",
            "value": true,
            "_view_count": null,
            "disabled": false,
            "_view_module_version": "1.5.0",
            "indent": true,
            "description_tooltip": null,
            "_model_module": "@jupyter-widgets/controls",
            "layout": "IPY_MODEL_a4c1e638742d4540aab07daf1f70ef8e"
          }
        },
        "34bebaed189642d3a26369ee8888ffc9": {
          "model_module": "@jupyter-widgets/controls",
          "model_name": "CheckboxModel",
          "state": {
            "_view_name": "CheckboxView",
            "style": "IPY_MODEL_cc55f9ba106f4616bbed5e37cf13d34d",
            "_dom_classes": [],
            "description": "show_tr",
            "_model_name": "CheckboxModel",
            "_view_module": "@jupyter-widgets/controls",
            "_model_module_version": "1.5.0",
            "value": false,
            "_view_count": null,
            "disabled": false,
            "_view_module_version": "1.5.0",
            "indent": true,
            "description_tooltip": null,
            "_model_module": "@jupyter-widgets/controls",
            "layout": "IPY_MODEL_232c07b846984e3489f9fddabc46fbb3"
          }
        },
        "ea797043acd941478634b605100fe07e": {
          "model_module": "@jupyter-widgets/controls",
          "model_name": "CheckboxModel",
          "state": {
            "_view_name": "CheckboxView",
            "style": "IPY_MODEL_5675d9be2b1c4977aa7ea94b05829718",
            "_dom_classes": [],
            "description": "show_te",
            "_model_name": "CheckboxModel",
            "_view_module": "@jupyter-widgets/controls",
            "_model_module_version": "1.5.0",
            "value": false,
            "_view_count": null,
            "disabled": false,
            "_view_module_version": "1.5.0",
            "indent": true,
            "description_tooltip": null,
            "_model_module": "@jupyter-widgets/controls",
            "layout": "IPY_MODEL_c76acc8277f8424ba06b3a8300aece1f"
          }
        },
        "c4810a613c804f71b7077115a657329d": {
          "model_module": "@jupyter-widgets/controls",
          "model_name": "CheckboxModel",
          "state": {
            "_view_name": "CheckboxView",
            "style": "IPY_MODEL_73b208e314654d9687879ea4d05d04d6",
            "_dom_classes": [],
            "description": "show_model",
            "_model_name": "CheckboxModel",
            "_view_module": "@jupyter-widgets/controls",
            "_model_module_version": "1.5.0",
            "value": false,
            "_view_count": null,
            "disabled": false,
            "_view_module_version": "1.5.0",
            "indent": true,
            "description_tooltip": null,
            "_model_module": "@jupyter-widgets/controls",
            "layout": "IPY_MODEL_6c0ce054ba664c6b917eb64469a5df83"
          }
        },
        "f57123f8270044daaf0d75706ef38ef0": {
          "model_module": "@jupyter-widgets/controls",
          "model_name": "CheckboxModel",
          "state": {
            "_view_name": "CheckboxView",
            "style": "IPY_MODEL_9be05d77cb384a8da23f5a5687bcdc72",
            "_dom_classes": [],
            "description": "show_pred",
            "_model_name": "CheckboxModel",
            "_view_module": "@jupyter-widgets/controls",
            "_model_module_version": "1.5.0",
            "value": false,
            "_view_count": null,
            "disabled": false,
            "_view_module_version": "1.5.0",
            "indent": true,
            "description_tooltip": null,
            "_model_module": "@jupyter-widgets/controls",
            "layout": "IPY_MODEL_511c0afccc694ffa82d47b5b53ca3333"
          }
        },
        "586aa052324242c48d57a5b6189bc59e": {
          "model_module": "@jupyter-widgets/output",
          "model_name": "OutputModel",
          "state": {
            "_view_name": "OutputView",
            "msg_id": "",
            "_dom_classes": [],
            "_model_name": "OutputModel",
            "outputs": [
              {
                "output_type": "display_data",
                "metadata": {
                  "tags": []
                },
                "image/png": "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\n",
                "text/plain": "<Figure size 1440x1080 with 1 Axes>"
              }
            ],
            "_view_module": "@jupyter-widgets/output",
            "_model_module_version": "1.0.0",
            "_view_count": null,
            "_view_module_version": "1.0.0",
            "layout": "IPY_MODEL_8e2e41befe7547d7abad80b71b1152ca",
            "_model_module": "@jupyter-widgets/output"
          }
        },
        "4e3c6e287b80473f916880d422d144a0": {
          "model_module": "@jupyter-widgets/controls",
          "model_name": "DescriptionStyleModel",
          "state": {
            "_view_name": "StyleView",
            "_model_name": "DescriptionStyleModel",
            "description_width": "",
            "_view_module": "@jupyter-widgets/base",
            "_model_module_version": "1.5.0",
            "_view_count": null,
            "_view_module_version": "1.2.0",
            "_model_module": "@jupyter-widgets/controls"
          }
        },
        "a4c1e638742d4540aab07daf1f70ef8e": {
          "model_module": "@jupyter-widgets/base",
          "model_name": "LayoutModel",
          "state": {
            "_view_name": "LayoutView",
            "grid_template_rows": null,
            "right": null,
            "justify_content": null,
            "_view_module": "@jupyter-widgets/base",
            "overflow": null,
            "_model_module_version": "1.2.0",
            "_view_count": null,
            "flex_flow": null,
            "width": null,
            "min_width": null,
            "border": null,
            "align_items": null,
            "bottom": null,
            "_model_module": "@jupyter-widgets/base",
            "top": null,
            "grid_column": null,
            "overflow_y": null,
            "overflow_x": null,
            "grid_auto_flow": null,
            "grid_area": null,
            "grid_template_columns": null,
            "flex": null,
            "_model_name": "LayoutModel",
            "justify_items": null,
            "grid_row": null,
            "max_height": null,
            "align_content": null,
            "visibility": null,
            "align_self": null,
            "height": null,
            "min_height": null,
            "padding": null,
            "grid_auto_rows": null,
            "grid_gap": null,
            "max_width": null,
            "order": null,
            "_view_module_version": "1.2.0",
            "grid_template_areas": null,
            "object_position": null,
            "object_fit": null,
            "grid_auto_columns": null,
            "margin": null,
            "display": null,
            "left": null
          }
        },
        "cc55f9ba106f4616bbed5e37cf13d34d": {
          "model_module": "@jupyter-widgets/controls",
          "model_name": "DescriptionStyleModel",
          "state": {
            "_view_name": "StyleView",
            "_model_name": "DescriptionStyleModel",
            "description_width": "",
            "_view_module": "@jupyter-widgets/base",
            "_model_module_version": "1.5.0",
            "_view_count": null,
            "_view_module_version": "1.2.0",
            "_model_module": "@jupyter-widgets/controls"
          }
        },
        "232c07b846984e3489f9fddabc46fbb3": {
          "model_module": "@jupyter-widgets/base",
          "model_name": "LayoutModel",
          "state": {
            "_view_name": "LayoutView",
            "grid_template_rows": null,
            "right": null,
            "justify_content": null,
            "_view_module": "@jupyter-widgets/base",
            "overflow": null,
            "_model_module_version": "1.2.0",
            "_view_count": null,
            "flex_flow": null,
            "width": null,
            "min_width": null,
            "border": null,
            "align_items": null,
            "bottom": null,
            "_model_module": "@jupyter-widgets/base",
            "top": null,
            "grid_column": null,
            "overflow_y": null,
            "overflow_x": null,
            "grid_auto_flow": null,
            "grid_area": null,
            "grid_template_columns": null,
            "flex": null,
            "_model_name": "LayoutModel",
            "justify_items": null,
            "grid_row": null,
            "max_height": null,
            "align_content": null,
            "visibility": null,
            "align_self": null,
            "height": null,
            "min_height": null,
            "padding": null,
            "grid_auto_rows": null,
            "grid_gap": null,
            "max_width": null,
            "order": null,
            "_view_module_version": "1.2.0",
            "grid_template_areas": null,
            "object_position": null,
            "object_fit": null,
            "grid_auto_columns": null,
            "margin": null,
            "display": null,
            "left": null
          }
        },
        "5675d9be2b1c4977aa7ea94b05829718": {
          "model_module": "@jupyter-widgets/controls",
          "model_name": "DescriptionStyleModel",
          "state": {
            "_view_name": "StyleView",
            "_model_name": "DescriptionStyleModel",
            "description_width": "",
            "_view_module": "@jupyter-widgets/base",
            "_model_module_version": "1.5.0",
            "_view_count": null,
            "_view_module_version": "1.2.0",
            "_model_module": "@jupyter-widgets/controls"
          }
        },
        "c76acc8277f8424ba06b3a8300aece1f": {
          "model_module": "@jupyter-widgets/base",
          "model_name": "LayoutModel",
          "state": {
            "_view_name": "LayoutView",
            "grid_template_rows": null,
            "right": null,
            "justify_content": null,
            "_view_module": "@jupyter-widgets/base",
            "overflow": null,
            "_model_module_version": "1.2.0",
            "_view_count": null,
            "flex_flow": null,
            "width": null,
            "min_width": null,
            "border": null,
            "align_items": null,
            "bottom": null,
            "_model_module": "@jupyter-widgets/base",
            "top": null,
            "grid_column": null,
            "overflow_y": null,
            "overflow_x": null,
            "grid_auto_flow": null,
            "grid_area": null,
            "grid_template_columns": null,
            "flex": null,
            "_model_name": "LayoutModel",
            "justify_items": null,
            "grid_row": null,
            "max_height": null,
            "align_content": null,
            "visibility": null,
            "align_self": null,
            "height": null,
            "min_height": null,
            "padding": null,
            "grid_auto_rows": null,
            "grid_gap": null,
            "max_width": null,
            "order": null,
            "_view_module_version": "1.2.0",
            "grid_template_areas": null,
            "object_position": null,
            "object_fit": null,
            "grid_auto_columns": null,
            "margin": null,
            "display": null,
            "left": null
          }
        },
        "73b208e314654d9687879ea4d05d04d6": {
          "model_module": "@jupyter-widgets/controls",
          "model_name": "DescriptionStyleModel",
          "state": {
            "_view_name": "StyleView",
            "_model_name": "DescriptionStyleModel",
            "description_width": "",
            "_view_module": "@jupyter-widgets/base",
            "_model_module_version": "1.5.0",
            "_view_count": null,
            "_view_module_version": "1.2.0",
            "_model_module": "@jupyter-widgets/controls"
          }
        },
        "6c0ce054ba664c6b917eb64469a5df83": {
          "model_module": "@jupyter-widgets/base",
          "model_name": "LayoutModel",
          "state": {
            "_view_name": "LayoutView",
            "grid_template_rows": null,
            "right": null,
            "justify_content": null,
            "_view_module": "@jupyter-widgets/base",
            "overflow": null,
            "_model_module_version": "1.2.0",
            "_view_count": null,
            "flex_flow": null,
            "width": null,
            "min_width": null,
            "border": null,
            "align_items": null,
            "bottom": null,
            "_model_module": "@jupyter-widgets/base",
            "top": null,
            "grid_column": null,
            "overflow_y": null,
            "overflow_x": null,
            "grid_auto_flow": null,
            "grid_area": null,
            "grid_template_columns": null,
            "flex": null,
            "_model_name": "LayoutModel",
            "justify_items": null,
            "grid_row": null,
            "max_height": null,
            "align_content": null,
            "visibility": null,
            "align_self": null,
            "height": null,
            "min_height": null,
            "padding": null,
            "grid_auto_rows": null,
            "grid_gap": null,
            "max_width": null,
            "order": null,
            "_view_module_version": "1.2.0",
            "grid_template_areas": null,
            "object_position": null,
            "object_fit": null,
            "grid_auto_columns": null,
            "margin": null,
            "display": null,
            "left": null
          }
        },
        "9be05d77cb384a8da23f5a5687bcdc72": {
          "model_module": "@jupyter-widgets/controls",
          "model_name": "DescriptionStyleModel",
          "state": {
            "_view_name": "StyleView",
            "_model_name": "DescriptionStyleModel",
            "description_width": "",
            "_view_module": "@jupyter-widgets/base",
            "_model_module_version": "1.5.0",
            "_view_count": null,
            "_view_module_version": "1.2.0",
            "_model_module": "@jupyter-widgets/controls"
          }
        },
        "511c0afccc694ffa82d47b5b53ca3333": {
          "model_module": "@jupyter-widgets/base",
          "model_name": "LayoutModel",
          "state": {
            "_view_name": "LayoutView",
            "grid_template_rows": null,
            "right": null,
            "justify_content": null,
            "_view_module": "@jupyter-widgets/base",
            "overflow": null,
            "_model_module_version": "1.2.0",
            "_view_count": null,
            "flex_flow": null,
            "width": null,
            "min_width": null,
            "border": null,
            "align_items": null,
            "bottom": null,
            "_model_module": "@jupyter-widgets/base",
            "top": null,
            "grid_column": null,
            "overflow_y": null,
            "overflow_x": null,
            "grid_auto_flow": null,
            "grid_area": null,
            "grid_template_columns": null,
            "flex": null,
            "_model_name": "LayoutModel",
            "justify_items": null,
            "grid_row": null,
            "max_height": null,
            "align_content": null,
            "visibility": null,
            "align_self": null,
            "height": null,
            "min_height": null,
            "padding": null,
            "grid_auto_rows": null,
            "grid_gap": null,
            "max_width": null,
            "order": null,
            "_view_module_version": "1.2.0",
            "grid_template_areas": null,
            "object_position": null,
            "object_fit": null,
            "grid_auto_columns": null,
            "margin": null,
            "display": null,
            "left": null
          }
        },
        "8e2e41befe7547d7abad80b71b1152ca": {
          "model_module": "@jupyter-widgets/base",
          "model_name": "LayoutModel",
          "state": {
            "_view_name": "LayoutView",
            "grid_template_rows": null,
            "right": null,
            "justify_content": null,
            "_view_module": "@jupyter-widgets/base",
            "overflow": null,
            "_model_module_version": "1.2.0",
            "_view_count": null,
            "flex_flow": null,
            "width": null,
            "min_width": null,
            "border": null,
            "align_items": null,
            "bottom": null,
            "_model_module": "@jupyter-widgets/base",
            "top": null,
            "grid_column": null,
            "overflow_y": null,
            "overflow_x": null,
            "grid_auto_flow": null,
            "grid_area": null,
            "grid_template_columns": null,
            "flex": null,
            "_model_name": "LayoutModel",
            "justify_items": null,
            "grid_row": null,
            "max_height": null,
            "align_content": null,
            "visibility": null,
            "align_self": null,
            "height": null,
            "min_height": null,
            "padding": null,
            "grid_auto_rows": null,
            "grid_gap": null,
            "max_width": null,
            "order": null,
            "_view_module_version": "1.2.0",
            "grid_template_areas": null,
            "object_position": null,
            "object_fit": null,
            "grid_auto_columns": null,
            "margin": null,
            "display": null,
            "left": null
          }
        },
        "57f717be92b740d0b30997b0e1170542": {
          "model_module": "@jupyter-widgets/controls",
          "model_name": "VBoxModel",
          "state": {
            "_view_name": "VBoxView",
            "_dom_classes": [
              "widget-interact"
            ],
            "_model_name": "VBoxModel",
            "_view_module": "@jupyter-widgets/controls",
            "_model_module_version": "1.5.0",
            "_view_count": null,
            "_view_module_version": "1.5.0",
            "box_style": "",
            "layout": "IPY_MODEL_3a88f651fa6447eabd51d9455430ae0f",
            "_model_module": "@jupyter-widgets/controls",
            "children": [
              "IPY_MODEL_ff8d73f6b0fc46c1b566a81c2ce43dc9",
              "IPY_MODEL_dfbf0c19359d4df1b281e5865aebcbd7",
              "IPY_MODEL_05caa8271ff74f0bb7477f5bd759d9f9",
              "IPY_MODEL_73d9ddc4d0fe4154b695dbddb3017931",
              "IPY_MODEL_f6d635fe24f64837854b7b81f42df034"
            ]
          }
        },
        "3a88f651fa6447eabd51d9455430ae0f": {
          "model_module": "@jupyter-widgets/base",
          "model_name": "LayoutModel",
          "state": {
            "_view_name": "LayoutView",
            "grid_template_rows": null,
            "right": null,
            "justify_content": null,
            "_view_module": "@jupyter-widgets/base",
            "overflow": null,
            "_model_module_version": "1.2.0",
            "_view_count": null,
            "flex_flow": null,
            "width": null,
            "min_width": null,
            "border": null,
            "align_items": null,
            "bottom": null,
            "_model_module": "@jupyter-widgets/base",
            "top": null,
            "grid_column": null,
            "overflow_y": null,
            "overflow_x": null,
            "grid_auto_flow": null,
            "grid_area": null,
            "grid_template_columns": null,
            "flex": null,
            "_model_name": "LayoutModel",
            "justify_items": null,
            "grid_row": null,
            "max_height": null,
            "align_content": null,
            "visibility": null,
            "align_self": null,
            "height": null,
            "min_height": null,
            "padding": null,
            "grid_auto_rows": null,
            "grid_gap": null,
            "max_width": null,
            "order": null,
            "_view_module_version": "1.2.0",
            "grid_template_areas": null,
            "object_position": null,
            "object_fit": null,
            "grid_auto_columns": null,
            "margin": null,
            "display": null,
            "left": null
          }
        },
        "ff8d73f6b0fc46c1b566a81c2ce43dc9": {
          "model_module": "@jupyter-widgets/controls",
          "model_name": "FloatSliderModel",
          "state": {
            "_view_name": "FloatSliderView",
            "style": "IPY_MODEL_398f8cc2c0c948e1a11fd43524f67c37",
            "_dom_classes": [],
            "description": "noise",
            "step": 0.1,
            "_model_name": "FloatSliderModel",
            "orientation": "horizontal",
            "max": 50,
            "_view_module": "@jupyter-widgets/controls",
            "_model_module_version": "1.5.0",
            "value": 40.4,
            "_view_count": null,
            "disabled": false,
            "_view_module_version": "1.5.0",
            "min": 0,
            "continuous_update": true,
            "readout_format": ".2f",
            "description_tooltip": null,
            "readout": true,
            "_model_module": "@jupyter-widgets/controls",
            "layout": "IPY_MODEL_c2990b4b577843449c917348d3167a95"
          }
        },
        "dfbf0c19359d4df1b281e5865aebcbd7": {
          "model_module": "@jupyter-widgets/controls",
          "model_name": "FloatSliderModel",
          "state": {
            "_view_name": "FloatSliderView",
            "style": "IPY_MODEL_4f354c9c93034f018d6664811dbe1e51",
            "_dom_classes": [],
            "description": "train_ratio",
            "step": 0.01,
            "_model_name": "FloatSliderModel",
            "orientation": "horizontal",
            "max": 0.99,
            "_view_module": "@jupyter-widgets/controls",
            "_model_module_version": "1.5.0",
            "value": 0.07,
            "_view_count": null,
            "disabled": false,
            "_view_module_version": "1.5.0",
            "min": 0.01,
            "continuous_update": true,
            "readout_format": ".2f",
            "description_tooltip": null,
            "readout": true,
            "_model_module": "@jupyter-widgets/controls",
            "layout": "IPY_MODEL_fde24e198fc74a16897438e18ae4f831"
          }
        },
        "05caa8271ff74f0bb7477f5bd759d9f9": {
          "model_module": "@jupyter-widgets/controls",
          "model_name": "IntSliderModel",
          "state": {
            "_view_name": "IntSliderView",
            "style": "IPY_MODEL_e1ce70648b464103b22d6420d5e43cb2",
            "_dom_classes": [],
            "description": "trial",
            "step": 1,
            "_model_name": "IntSliderModel",
            "orientation": "horizontal",
            "max": 1000,
            "_view_module": "@jupyter-widgets/controls",
            "_model_module_version": "1.5.0",
            "value": 359,
            "_view_count": null,
            "disabled": false,
            "_view_module_version": "1.5.0",
            "min": 1,
            "continuous_update": true,
            "readout_format": "d",
            "description_tooltip": null,
            "readout": true,
            "_model_module": "@jupyter-widgets/controls",
            "layout": "IPY_MODEL_3ea425051184442c8052424dedfb5459"
          }
        },
        "73d9ddc4d0fe4154b695dbddb3017931": {
          "model_module": "@jupyter-widgets/controls",
          "model_name": "CheckboxModel",
          "state": {
            "_view_name": "CheckboxView",
            "style": "IPY_MODEL_a078348bc4124520a1e0110bcedd1e8f",
            "_dom_classes": [],
            "description": "show_te",
            "_model_name": "CheckboxModel",
            "_view_module": "@jupyter-widgets/controls",
            "_model_module_version": "1.5.0",
            "value": true,
            "_view_count": null,
            "disabled": false,
            "_view_module_version": "1.5.0",
            "indent": true,
            "description_tooltip": null,
            "_model_module": "@jupyter-widgets/controls",
            "layout": "IPY_MODEL_6e54bfb6317348dfa5bba4458ca7eacf"
          }
        },
        "f6d635fe24f64837854b7b81f42df034": {
          "model_module": "@jupyter-widgets/output",
          "model_name": "OutputModel",
          "state": {
            "_view_name": "OutputView",
            "msg_id": "",
            "_dom_classes": [],
            "_model_name": "OutputModel",
            "outputs": [
              {
                "output_type": "display_data",
                "metadata": {
                  "tags": []
                },
                "image/png": "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\n",
                "text/plain": "<Figure size 1440x1080 with 1 Axes>"
              }
            ],
            "_view_module": "@jupyter-widgets/output",
            "_model_module_version": "1.0.0",
            "_view_count": null,
            "_view_module_version": "1.0.0",
            "layout": "IPY_MODEL_ff1235e042b548e5b296aa79f5ac595d",
            "_model_module": "@jupyter-widgets/output"
          }
        },
        "398f8cc2c0c948e1a11fd43524f67c37": {
          "model_module": "@jupyter-widgets/controls",
          "model_name": "SliderStyleModel",
          "state": {
            "_view_name": "StyleView",
            "handle_color": null,
            "_model_name": "SliderStyleModel",
            "description_width": "",
            "_view_module": "@jupyter-widgets/base",
            "_model_module_version": "1.5.0",
            "_view_count": null,
            "_view_module_version": "1.2.0",
            "_model_module": "@jupyter-widgets/controls"
          }
        },
        "c2990b4b577843449c917348d3167a95": {
          "model_module": "@jupyter-widgets/base",
          "model_name": "LayoutModel",
          "state": {
            "_view_name": "LayoutView",
            "grid_template_rows": null,
            "right": null,
            "justify_content": null,
            "_view_module": "@jupyter-widgets/base",
            "overflow": null,
            "_model_module_version": "1.2.0",
            "_view_count": null,
            "flex_flow": null,
            "width": null,
            "min_width": null,
            "border": null,
            "align_items": null,
            "bottom": null,
            "_model_module": "@jupyter-widgets/base",
            "top": null,
            "grid_column": null,
            "overflow_y": null,
            "overflow_x": null,
            "grid_auto_flow": null,
            "grid_area": null,
            "grid_template_columns": null,
            "flex": null,
            "_model_name": "LayoutModel",
            "justify_items": null,
            "grid_row": null,
            "max_height": null,
            "align_content": null,
            "visibility": null,
            "align_self": null,
            "height": null,
            "min_height": null,
            "padding": null,
            "grid_auto_rows": null,
            "grid_gap": null,
            "max_width": null,
            "order": null,
            "_view_module_version": "1.2.0",
            "grid_template_areas": null,
            "object_position": null,
            "object_fit": null,
            "grid_auto_columns": null,
            "margin": null,
            "display": null,
            "left": null
          }
        },
        "4f354c9c93034f018d6664811dbe1e51": {
          "model_module": "@jupyter-widgets/controls",
          "model_name": "SliderStyleModel",
          "state": {
            "_view_name": "StyleView",
            "handle_color": null,
            "_model_name": "SliderStyleModel",
            "description_width": "",
            "_view_module": "@jupyter-widgets/base",
            "_model_module_version": "1.5.0",
            "_view_count": null,
            "_view_module_version": "1.2.0",
            "_model_module": "@jupyter-widgets/controls"
          }
        },
        "fde24e198fc74a16897438e18ae4f831": {
          "model_module": "@jupyter-widgets/base",
          "model_name": "LayoutModel",
          "state": {
            "_view_name": "LayoutView",
            "grid_template_rows": null,
            "right": null,
            "justify_content": null,
            "_view_module": "@jupyter-widgets/base",
            "overflow": null,
            "_model_module_version": "1.2.0",
            "_view_count": null,
            "flex_flow": null,
            "width": null,
            "min_width": null,
            "border": null,
            "align_items": null,
            "bottom": null,
            "_model_module": "@jupyter-widgets/base",
            "top": null,
            "grid_column": null,
            "overflow_y": null,
            "overflow_x": null,
            "grid_auto_flow": null,
            "grid_area": null,
            "grid_template_columns": null,
            "flex": null,
            "_model_name": "LayoutModel",
            "justify_items": null,
            "grid_row": null,
            "max_height": null,
            "align_content": null,
            "visibility": null,
            "align_self": null,
            "height": null,
            "min_height": null,
            "padding": null,
            "grid_auto_rows": null,
            "grid_gap": null,
            "max_width": null,
            "order": null,
            "_view_module_version": "1.2.0",
            "grid_template_areas": null,
            "object_position": null,
            "object_fit": null,
            "grid_auto_columns": null,
            "margin": null,
            "display": null,
            "left": null
          }
        },
        "e1ce70648b464103b22d6420d5e43cb2": {
          "model_module": "@jupyter-widgets/controls",
          "model_name": "SliderStyleModel",
          "state": {
            "_view_name": "StyleView",
            "handle_color": null,
            "_model_name": "SliderStyleModel",
            "description_width": "",
            "_view_module": "@jupyter-widgets/base",
            "_model_module_version": "1.5.0",
            "_view_count": null,
            "_view_module_version": "1.2.0",
            "_model_module": "@jupyter-widgets/controls"
          }
        },
        "3ea425051184442c8052424dedfb5459": {
          "model_module": "@jupyter-widgets/base",
          "model_name": "LayoutModel",
          "state": {
            "_view_name": "LayoutView",
            "grid_template_rows": null,
            "right": null,
            "justify_content": null,
            "_view_module": "@jupyter-widgets/base",
            "overflow": null,
            "_model_module_version": "1.2.0",
            "_view_count": null,
            "flex_flow": null,
            "width": null,
            "min_width": null,
            "border": null,
            "align_items": null,
            "bottom": null,
            "_model_module": "@jupyter-widgets/base",
            "top": null,
            "grid_column": null,
            "overflow_y": null,
            "overflow_x": null,
            "grid_auto_flow": null,
            "grid_area": null,
            "grid_template_columns": null,
            "flex": null,
            "_model_name": "LayoutModel",
            "justify_items": null,
            "grid_row": null,
            "max_height": null,
            "align_content": null,
            "visibility": null,
            "align_self": null,
            "height": null,
            "min_height": null,
            "padding": null,
            "grid_auto_rows": null,
            "grid_gap": null,
            "max_width": null,
            "order": null,
            "_view_module_version": "1.2.0",
            "grid_template_areas": null,
            "object_position": null,
            "object_fit": null,
            "grid_auto_columns": null,
            "margin": null,
            "display": null,
            "left": null
          }
        },
        "a078348bc4124520a1e0110bcedd1e8f": {
          "model_module": "@jupyter-widgets/controls",
          "model_name": "DescriptionStyleModel",
          "state": {
            "_view_name": "StyleView",
            "_model_name": "DescriptionStyleModel",
            "description_width": "",
            "_view_module": "@jupyter-widgets/base",
            "_model_module_version": "1.5.0",
            "_view_count": null,
            "_view_module_version": "1.2.0",
            "_model_module": "@jupyter-widgets/controls"
          }
        },
        "6e54bfb6317348dfa5bba4458ca7eacf": {
          "model_module": "@jupyter-widgets/base",
          "model_name": "LayoutModel",
          "state": {
            "_view_name": "LayoutView",
            "grid_template_rows": null,
            "right": null,
            "justify_content": null,
            "_view_module": "@jupyter-widgets/base",
            "overflow": null,
            "_model_module_version": "1.2.0",
            "_view_count": null,
            "flex_flow": null,
            "width": null,
            "min_width": null,
            "border": null,
            "align_items": null,
            "bottom": null,
            "_model_module": "@jupyter-widgets/base",
            "top": null,
            "grid_column": null,
            "overflow_y": null,
            "overflow_x": null,
            "grid_auto_flow": null,
            "grid_area": null,
            "grid_template_columns": null,
            "flex": null,
            "_model_name": "LayoutModel",
            "justify_items": null,
            "grid_row": null,
            "max_height": null,
            "align_content": null,
            "visibility": null,
            "align_self": null,
            "height": null,
            "min_height": null,
            "padding": null,
            "grid_auto_rows": null,
            "grid_gap": null,
            "max_width": null,
            "order": null,
            "_view_module_version": "1.2.0",
            "grid_template_areas": null,
            "object_position": null,
            "object_fit": null,
            "grid_auto_columns": null,
            "margin": null,
            "display": null,
            "left": null
          }
        },
        "ff1235e042b548e5b296aa79f5ac595d": {
          "model_module": "@jupyter-widgets/base",
          "model_name": "LayoutModel",
          "state": {
            "_view_name": "LayoutView",
            "grid_template_rows": null,
            "right": null,
            "justify_content": null,
            "_view_module": "@jupyter-widgets/base",
            "overflow": null,
            "_model_module_version": "1.2.0",
            "_view_count": null,
            "flex_flow": null,
            "width": null,
            "min_width": null,
            "border": null,
            "align_items": null,
            "bottom": null,
            "_model_module": "@jupyter-widgets/base",
            "top": null,
            "grid_column": null,
            "overflow_y": null,
            "overflow_x": null,
            "grid_auto_flow": null,
            "grid_area": null,
            "grid_template_columns": null,
            "flex": null,
            "_model_name": "LayoutModel",
            "justify_items": null,
            "grid_row": null,
            "max_height": null,
            "align_content": null,
            "visibility": null,
            "align_self": null,
            "height": null,
            "min_height": null,
            "padding": null,
            "grid_auto_rows": null,
            "grid_gap": null,
            "max_width": null,
            "order": null,
            "_view_module_version": "1.2.0",
            "grid_template_areas": null,
            "object_position": null,
            "object_fit": null,
            "grid_auto_columns": null,
            "margin": null,
            "display": null,
            "left": null
          }
        }
      }
    }
  },
  "cells": [
    {
      "cell_type": "markdown",
      "metadata": {
        "id": "nSZfzFroZgh7",
        "colab_type": "text"
      },
      "source": [
        "# Machine learning for medicine (MedML@Emory) Workshop\n"
      ]
    },
    {
      "cell_type": "markdown",
      "metadata": {
        "id": "7YRHNzk8PGkC",
        "colab_type": "text"
      },
      "source": [
        "## License\n",
        "    This program is free software: you can redistribute it and/or modify\n",
        "    it under the terms of the GNU General Public License as published by\n",
        "    the Free Software Foundation, either version 3 of the License, or\n",
        "    (at your option) any later version.\n",
        "\n",
        "    This program is distributed in the hope that it will be useful,\n",
        "    but WITHOUT ANY WARRANTY; without even the implied warranty of\n",
        "    MERCHANTABILITY or FITNESS FOR A PARTICULAR PURPOSE.  See the\n",
        "    GNU General Public License for more details.\n",
        "\n",
        "    You should have received a copy of the GNU General Public License\n",
        "    along with this program.  If not, see <https://www.gnu.org/licenses/>."
      ]
    },
    {
      "cell_type": "markdown",
      "metadata": {
        "id": "W7JirD8EPFEV",
        "colab_type": "text"
      },
      "source": [
        "## Training/Testing Dataset - The Basics of Inference\n",
        "Authors: Vineet Tiruvadi, Avinash Murugan, Alex Milani\n",
        "\n",
        "## Overview\n",
        "Machine learning (ML) is all about patterns, but how can we be sure the patterns we find in our data are *really there* in the thing we're trying to study?\n",
        "One way is to do another experiment and see if the pattern holds.\n",
        "But what if we could do this without having to run another experiment?\n",
        "\n",
        "In this notebook we introduce the idea of 'training and testing' sets.\n",
        "By leaving out a part of the data you collect, you can learn *and* validate complex patterns in your data.\n",
        "This simple process becomes a major strength of ML by directly addressing how \"generalizable\" your results are to broader populations and/or how well your results track with the truth.\n",
        "\n",
        "Outline:\n",
        "\n",
        "* Code imports\n",
        "* Background\n",
        "  * Standard Experiments\n",
        "  * ML and testing/training\n",
        "* Testing/training Example\n",
        "* What's \"Big\" about Big Data"
      ]
    },
    {
      "cell_type": "markdown",
      "metadata": {
        "id": "hGuaRdA-qG9x",
        "colab_type": "text"
      },
      "source": [
        "### Code Imports\n"
      ]
    },
    {
      "cell_type": "markdown",
      "metadata": {
        "id": "MyCUItTQrwDO",
        "colab_type": "text"
      },
      "source": [
        "\n",
        "#### Standard Imports"
      ]
    },
    {
      "cell_type": "code",
      "metadata": {
        "jupyter": {
          "source_hidden": true
        },
        "id": "bBCwq5EIZgh9",
        "colab_type": "code",
        "colab": {}
      },
      "source": [
        "# The big library for doing math + data in python\n",
        "import numpy as np\n",
        "\n",
        "# A big library that has a lot of useful functions for scientific use of python\n",
        "import scipy\n",
        "\n",
        "# The main library for plotting\n",
        "import matplotlib\n",
        "import matplotlib.pyplot as plt\n",
        "import seaborn as sns\n",
        "sns.set_style(\"white\")\n",
        "matplotlib.rcParams['figure.figsize'] = [20, 15]\n",
        "\n",
        "# The main library used for statistics\n",
        "import scipy.stats as stats\n",
        "\n",
        "# Libraries that let us use interactive widgets\n",
        "from ipywidgets import interact, interactive, fixed, interact_manual\n",
        "import ipywidgets as widgets\n",
        "from ipywidgets import interactive,interact, HBox, Layout,VBox\n",
        "\n",
        "# Misc stuff related to cleaning up code and displaying results in a pretty way\n",
        "#from example_systems import *\n",
        "from IPython.display import Markdown as md\n",
        "\n",
        "import logging\n",
        "logging.getLogger().setLevel(logging.CRITICAL)"
      ],
      "execution_count": 0,
      "outputs": []
    },
    {
      "cell_type": "markdown",
      "metadata": {
        "id": "lAzjOspNrc04",
        "colab_type": "text"
      },
      "source": [
        "#### ML Related Imports"
      ]
    },
    {
      "cell_type": "code",
      "metadata": {
        "id": "70xBgjncZgiB",
        "colab_type": "code",
        "colab": {}
      },
      "source": [
        "# Our machine learning libraries\n",
        "from sklearn.linear_model import LinearRegression\n",
        "from sklearn.model_selection import train_test_split"
      ],
      "execution_count": 0,
      "outputs": []
    },
    {
      "cell_type": "markdown",
      "metadata": {
        "id": "mOplM3NFrW54",
        "colab_type": "text"
      },
      "source": [
        "#### General purpose functions used in the notebook"
      ]
    },
    {
      "cell_type": "code",
      "metadata": {
        "id": "rXdyTYB8Z8XZ",
        "colab_type": "code",
        "colab": {}
      },
      "source": [
        "#### General Functions\n",
        "def gen_data(slope=2.34,noise=10,trial=1):\n",
        "    X = np.random.uniform(-10,10,size=(200,1))\n",
        "    Y = slope * X + np.random.normal(0,noise,size=X.shape)\n",
        "  \n",
        "    return X, Y\n",
        "\n",
        "def gen_data_split(slope=2.34, noise=10, trial=1, train_ratio=0.1):\n",
        "    X,Y = gen_data(slope=slope,noise=noise,trial=trial)\n",
        "    Xtr,Xte,Ytr,Yte = train_test_split(X,Y,test_size=1-train_ratio,random_state=trial)\n",
        "    \n",
        "    return {'Xtr':Xtr, 'Xte':Xte, 'Ytr':Ytr, 'Yte':Yte, 'slope':slope, 'Xb':X}\n",
        "\n",
        "def gen_lin_Y(dataset,noise,train_ratio,trial,show_truth,show_tr,show_te,show_model,show_pred):\n",
        "    #Do our linear regression analysis\n",
        "    if dataset == 0:\n",
        "      dataset = gen_data_split(noise=noise,train_ratio=train_ratio,trial=trial)\n",
        "\n",
        "    X_basis = dataset['Xb']\n",
        "\n",
        "    Xtr = dataset['Xtr']\n",
        "    Ytr = dataset['Ytr']\n",
        "\n",
        "    Xte = dataset['Xte']\n",
        "    Yte = dataset['Yte']\n",
        "\n",
        "    m = dataset['slope']\n",
        "\n",
        "    reg = LinearRegression(fit_intercept=False).fit(Xtr, Ytr)\n",
        "    reg.score(Xtr, Ytr)\n",
        "    Ypred = reg.predict(Xte)\n",
        "\n",
        "    slope_estimate = round(reg.coef_[0,0],4)\n",
        "    if show_tr: plt.scatter(Xtr,Ytr,s=30,alpha=0.7,label='Training',color='blue')\n",
        "    if show_te: plt.scatter(Xte,Yte,s=70,alpha=0.9,color='red',label='Test')\n",
        "    if show_pred: plt.scatter(Xte,Ypred,s=90, facecolors='none', edgecolors='r',alpha=0.7,label='Prediction')\n",
        "    if show_truth: plt.plot(X_basis,m*X_basis,'--',alpha=0.9,label='Truth',color='green')\n",
        "    if show_model: plt.plot(X_basis,slope_estimate*X_basis,alpha=0.3,linewidth=6,color='green',label='Model'); plt.text(0,-40,'Estimated slope: ' + str(slope_estimate),color='green')\n",
        "    \n",
        "    plt.legend()\n",
        "    plt.ylim((-50,50))\n",
        "    plt.xlim((-15,15))\n",
        "    plt.title('True slope = ' + str(m))\n",
        "    sns.despine()\n"
      ],
      "execution_count": 0,
      "outputs": []
    },
    {
      "cell_type": "markdown",
      "metadata": {
        "id": "ABUy26KRpAnL",
        "colab_type": "text"
      },
      "source": [
        "\n",
        "\n",
        "## Background\n",
        "\n",
        "### Inference\n",
        "The core goal in everything we're doing in science is *inference*.\n",
        "This means that our goal is to build a mental understanding (model) of how something we care about works.\n",
        "If we care about cardiac physiology, we need to have an understanding of how blood volume, stroke volume, coronary arteries, all interact.\n",
        "\n",
        "We build this understanding today largely by using *data*.\n",
        "While data is just one tool in a larger toolset, data is the one that keeps us most grounded in reality.\n",
        "\n",
        "The thing *generating* our data is typically the thing we're interested in understanding: inference is the process of understanding that think *through* the data we collect from it.\n"
      ]
    },
    {
      "cell_type": "markdown",
      "metadata": {
        "id": "y17qKcT6ZgiD",
        "colab_type": "text"
      },
      "source": [
        "### Experiments and data\n",
        "In a typical experiment you're trying to study something about a *population*.\n",
        "You then design careful controls and measurements, get an idea of how many 'samples' you need to collect to be able to confidently say there's an effect.\n",
        "Then, and only then, do you recruit your sample, collect your data, and analyse *all* of it.\n",
        "The statistics you do on your analysis try to give you the level of confidence you can have that what you found in  your sample is what's happening in the population.\n",
        "Here, you're *implicitly* making conclusions about how well your results reflect the population, or **generalize**.\n",
        "\n",
        "\n",
        "p-value gives us an idea of the probability we could be *wrong* in saying that there's a relationship.\n",
        "In other words, the chance that we saw the data we saw given *there is actually no connection*."
      ]
    },
    {
      "cell_type": "markdown",
      "metadata": {
        "id": "Cj2hZNc5N4Ta",
        "colab_type": "text"
      },
      "source": [
        "### The ML approach\n",
        "ML is all about finding patterns, but it doesn't care if they're simple or complex.\n",
        "ML uses modern computing power to 'find' patterns that we can't easily 'see', like patterns across many, many variables.\n",
        "\n",
        "ML typically relies on a very different approach than the experimental approach.\n",
        "\n",
        "![picture](https://drive.google.com/uc?id=1F_ZMV_Rz2PcrNZT6JQDMSwZMPZf23Lic)\n",
        "\n",
        "In ML, you collect your data and try to understand the limitations in the data you collected.\n",
        "You can then **split your dataset** into a 'training' set and a 'testing' set, with zero overlapping datapoints.\n",
        "The 'training' set is where you do your 'learning' -> let the algorithm of your choice find the patterns that it thinks are in your data.\n",
        "We then take that model and see how well it 'holds' in the rest of our data.\n",
        "This then gives us an idea of how the model will hold in the full population that we weren't able to observe.\n",
        "\n",
        "In essence, this is like a 'simulated' experiment.\n",
        "By the simple act of *not using all your data*, you generate a second experimentally derived dataset that is *exactly the same as the one you will analyse*.\n",
        "This simple act turns out to be a powerful approach and the foundations of more sophisticated 'statistical validation'.\n",
        "\n",
        "\n",
        "\n"
      ]
    },
    {
      "cell_type": "markdown",
      "metadata": {
        "id": "udXCPMcyX434",
        "colab_type": "text"
      },
      "source": [
        "### What is our goal?\n",
        "\n",
        "Inference -> we want to make a *model* that matches the *truth*.\n",
        "Data is a very powerful way of doing this.\n",
        "\n",
        "\n",
        "### How much data do we need?\n",
        "How much data we need depends on noise.\n",
        "This is similar to doing a power analysis in EBM.\n",
        "\n",
        "### Contrast 'experiment heavy' vs 'analysis heavy'\n",
        "What we would do in a standard approach...\n",
        "Then we'd publish the pattern we found\n",
        "\n",
        "Instead, in ML..."
      ]
    },
    {
      "cell_type": "markdown",
      "metadata": {
        "id": "Yyg9-UPMZgiE",
        "colab_type": "text"
      },
      "source": [
        "## Example\n",
        "We're going to deal with a concrete example: The measured Hemoglobin A1c and the lifetime risk of cardiovascular disease.\n",
        "\n",
        "### Orientation to figure\n",
        "First, let's get oriented to how we're going to be displaying our data.\n"
      ]
    },
    {
      "cell_type": "code",
      "metadata": {
        "id": "EXc8QXWcZgiJ",
        "colab_type": "code",
        "colab": {}
      },
      "source": [
        "### BLOCK LABEL - Splitting our data into training-testing\n",
        "X, Y = gen_data()\n",
        "train_size=0.8\n",
        "X_training,X_testing,Y_training,Y_testing = train_test_split(X,Y,test_size=1-train_size)\n"
      ],
      "execution_count": 0,
      "outputs": []
    },
    {
      "cell_type": "code",
      "metadata": {
        "id": "ermUF-P2OKUz",
        "colab_type": "code",
        "outputId": "5ee679c1-5f1e-4d50-9997-59117690b07b",
        "colab": {
          "base_uri": "https://localhost:8080/",
          "height": 1000,
          "referenced_widgets": [
            "d1950b4aef504711b2996c860bced602",
            "439c3f6a9e6349f5b58427a1b4373cf7",
            "ce95a2b2a4694bf2817a5c6fa612e460",
            "34bebaed189642d3a26369ee8888ffc9",
            "ea797043acd941478634b605100fe07e",
            "c4810a613c804f71b7077115a657329d",
            "f57123f8270044daaf0d75706ef38ef0",
            "586aa052324242c48d57a5b6189bc59e",
            "4e3c6e287b80473f916880d422d144a0",
            "a4c1e638742d4540aab07daf1f70ef8e",
            "cc55f9ba106f4616bbed5e37cf13d34d",
            "232c07b846984e3489f9fddabc46fbb3",
            "5675d9be2b1c4977aa7ea94b05829718",
            "c76acc8277f8424ba06b3a8300aece1f",
            "73b208e314654d9687879ea4d05d04d6",
            "6c0ce054ba664c6b917eb64469a5df83",
            "9be05d77cb384a8da23f5a5687bcdc72",
            "511c0afccc694ffa82d47b5b53ca3333",
            "8e2e41befe7547d7abad80b71b1152ca"
          ]
        }
      },
      "source": [
        "### BLOCK LABEL - How to read a regression\n",
        "\n",
        "dataset = gen_data_split()\n",
        "#First we'll fix the data and just work with building up the plot\n",
        "#w = interactive(gen_lin_Y,noise=(0.0,10.0,0.1),train_ratio=(0.05,0.95,0.05),trial=(1,1000,1),show_truth=True,show_tr=False,show_te=False,show_model=False,show_pred=False)\n",
        "w = interactive(gen_lin_Y,dataset=fixed(dataset),noise=fixed(5.0),train_ratio=fixed(0.50),trial=fixed(1),show_truth=True,show_tr=False,show_te=False,show_model=False,show_pred=False)\n",
        "#display(w)\n",
        "controls = HBox(w.children[:-1], layout = Layout(flex_flow='row wrap'))\n",
        "output = w.children[-1]\n",
        "w_vb = VBox([controls, output])\n",
        "display(w)"
      ],
      "execution_count": 0,
      "outputs": [
        {
          "output_type": "display_data",
          "data": {
            "application/vnd.jupyter.widget-view+json": {
              "model_id": "d1950b4aef504711b2996c860bced602",
              "version_minor": 0,
              "version_major": 2
            },
            "text/plain": [
              "interactive(children=(Checkbox(value=True, description='show_truth'), Checkbox(value=False, description='show_…"
            ]
          },
          "metadata": {
            "tags": []
          }
        }
      ]
    },
    {
      "cell_type": "code",
      "metadata": {
        "id": "C3A3j6paZgiN",
        "colab_type": "code",
        "outputId": "7e1bcefa-6cf4-4257-bf97-9b95b9812b8f",
        "colab": {
          "base_uri": "https://localhost:8080/",
          "height": 1000,
          "referenced_widgets": [
            "57f717be92b740d0b30997b0e1170542",
            "3a88f651fa6447eabd51d9455430ae0f",
            "ff8d73f6b0fc46c1b566a81c2ce43dc9",
            "dfbf0c19359d4df1b281e5865aebcbd7",
            "05caa8271ff74f0bb7477f5bd759d9f9",
            "73d9ddc4d0fe4154b695dbddb3017931",
            "f6d635fe24f64837854b7b81f42df034",
            "398f8cc2c0c948e1a11fd43524f67c37",
            "c2990b4b577843449c917348d3167a95",
            "4f354c9c93034f018d6664811dbe1e51",
            "fde24e198fc74a16897438e18ae4f831",
            "e1ce70648b464103b22d6420d5e43cb2",
            "3ea425051184442c8052424dedfb5459",
            "a078348bc4124520a1e0110bcedd1e8f",
            "6e54bfb6317348dfa5bba4458ca7eacf",
            "ff1235e042b548e5b296aa79f5ac595d"
          ]
        }
      },
      "source": [
        "### BLOCK LABEL - The effect of train-test ratios\n",
        "w = interactive(gen_lin_Y,dataset=fixed(0),noise=(0.0,50.0,0.1),train_ratio=(0.01,0.99,0.01),trial=(1,1000,1),show_truth=fixed(True),show_tr=fixed(True),show_te=False,show_model=fixed(True),show_pred=fixed(True))\n",
        "display(w)"
      ],
      "execution_count": 0,
      "outputs": [
        {
          "output_type": "display_data",
          "data": {
            "application/vnd.jupyter.widget-view+json": {
              "model_id": "57f717be92b740d0b30997b0e1170542",
              "version_minor": 0,
              "version_major": 2
            },
            "text/plain": [
              "interactive(children=(FloatSlider(value=25.0, description='noise', max=50.0), FloatSlider(value=0.5, descripti…"
            ]
          },
          "metadata": {
            "tags": []
          }
        }
      ]
    },
    {
      "cell_type": "markdown",
      "metadata": {
        "id": "zQxlT2M3TKQW",
        "colab_type": "text"
      },
      "source": [
        "The 'noise' slider controls how much our measurements are off from the truth.\n",
        "The train-ratio is the percent of our data we use for training.\n",
        "The trial "
      ]
    },
    {
      "cell_type": "markdown",
      "metadata": {
        "id": "zmP7soF3uzYb",
        "colab_type": "text"
      },
      "source": [
        "### How does this help us in inference?\n",
        "Here we're directly seeing how well our results generalize by trying it in the other half of our data that we didn't look at yet.\n",
        "It's \"like\" a second experiment.\n",
        "\n",
        "At the end of the day, the goal is to *infer* what's happening in our paients *through* the data we collect from them.\n",
        "\n",
        "Train-test splits is just one tool for inference.\n",
        "Many others exist\n",
        "\n",
        "All the different ways of doing machine learning rely on test-train in some way.\n",
        "\n",
        "![]()\n",
        "\n"
      ]
    },
    {
      "cell_type": "markdown",
      "metadata": {
        "id": "GkIzoNdUUDLx",
        "colab_type": "text"
      },
      "source": [
        "\n",
        "## Parting Thoughts\n",
        "In summary, the testing/training split is a powerful approach to testing inference.\n",
        "It lets us learn a complex pattern in half the data and assess how accurate this pattern, or *model*, is in the held-out set of observations, acting almost like a 'reproducibility' experiment.\n",
        "Obviously this comes at a cost: your data!\n",
        "You need a lot of *samples* to be able to do meaningful inference on half of it.\n",
        "\n",
        "In future notebooks we'll cover more advances topics in testing/training.\n",
        "For a preview, here are some external readings [cross-validation]() and [model selection]()."
      ]
    }
  ]
}