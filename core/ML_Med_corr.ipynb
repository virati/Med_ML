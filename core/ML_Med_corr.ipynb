{
 "cells": [
  {
   "cell_type": "markdown",
   "metadata": {},
   "source": [
    "# Machine learning for medicine\n",
    "## Understanding Correlation\n",
    "\n",
    "## Overview\n",
    "In medicine, we care about how differents physiologic processes *relate* to each other.\n",
    "Correlation is one way to measure how related two things are.\n",
    "In this notebook we get hands on with correlation."
   ]
  },
  {
   "cell_type": "markdown",
   "metadata": {},
   "source": [
    "## Code Setup"
   ]
  },
  {
   "cell_type": "code",
   "execution_count": 28,
   "metadata": {},
   "outputs": [],
   "source": [
    "import numpy as np\n",
    "import scipy\n",
    "\n",
    "from ipywidgets import interact, interactive, fixed, interact_manual\n",
    "import ipywidgets as widgets\n",
    "import scipy.stats as stats\n",
    "from example_systems import *\n",
    "\n",
    "import matplotlib\n",
    "import matplotlib.pyplot as plt\n",
    "import seaborn as sns\n",
    "sns.set(style=\"darkgrid\")\n",
    "matplotlib.rcParams['figure.figsize'] = [15, 10]"
   ]
  },
  {
   "cell_type": "markdown",
   "metadata": {},
   "source": [
    "## What is correlation\n",
    "Correlations are the backbone of science.\n",
    "Correlations are one way to assess whether two variables are *related* to each other.\n",
    "\n",
    "Correlation checks to see whether there's a *linear* relationship between two variables $X$ and $Y$.\n",
    "In order words: if we *double* $X$ do we double $Y$?\n",
    "For some things, this is reasonable."
   ]
  },
  {
   "cell_type": "code",
   "execution_count": 29,
   "metadata": {},
   "outputs": [
    {
     "data": {
      "application/vnd.jupyter.widget-view+json": {
       "model_id": "5f267d6fe76544db9f31f80a44e0aa6f",
       "version_major": 2,
       "version_minor": 0
      },
      "text/plain": [
       "interactive(children=(FloatSlider(value=1.0, description='slope', max=5.0, min=-5.0), FloatSlider(value=0.0, d…"
      ]
     },
     "metadata": {},
     "output_type": "display_data"
    }
   ],
   "source": [
    "interact(simple_eg,slope=(-5,5,0.1),noise=(0.0,10.0,0.5),samples=fixed(100));"
   ]
  },
  {
   "cell_type": "markdown",
   "metadata": {},
   "source": [
    "We can play around with these two variables (blue and red).\n",
    "\n",
    "The red variable *isn't* linearly correlated with x.\n",
    "No matter what we set x at, negative, zero, positive, the value of y is 0.\n",
    "\n",
    "The blue variable *is* linearly correlated with x.\n",
    "\n",
    "The slope of the relationship tells us a bit about how *robust* the relationship is.\n",
    "It doesn't mean much in the absence of noise.\n",
    "\n",
    "Now, start adding some *noise*.\n",
    "The key thing here is that noise doesn't change the underlying relationship between our variables.\n",
    "It may *look* like it does, but that's just because other things are interfering with what we care about.\n",
    "Imagine static over the radio, or buffering in your music stream."
   ]
  },
  {
   "cell_type": "markdown",
   "metadata": {},
   "source": [
    "## Limited sample size\n",
    "\n",
    "Let's do the same sort of analysis, but change the number of samples we have available to us."
   ]
  },
  {
   "cell_type": "code",
   "execution_count": 30,
   "metadata": {},
   "outputs": [
    {
     "data": {
      "application/vnd.jupyter.widget-view+json": {
       "model_id": "0ef3efa61cef4d89a408860b2a7dd19c",
       "version_major": 2,
       "version_minor": 0
      },
      "text/plain": [
       "interactive(children=(IntSlider(value=50, description='samples', max=50, min=2), Output()), _dom_classes=('wid…"
      ]
     },
     "metadata": {},
     "output_type": "display_data"
    }
   ],
   "source": [
    "interact(simple_eg,slope=fixed(0.2),noise=fixed(2.0),samples=(2,50,1));"
   ]
  },
  {
   "cell_type": "code",
   "execution_count": 31,
   "metadata": {},
   "outputs": [
    {
     "data": {
      "application/vnd.jupyter.widget-view+json": {
       "model_id": "5b164fada0b44d319d9edda4da3cb29d",
       "version_major": 2,
       "version_minor": 0
      },
      "text/plain": [
       "interactive(children=(FloatSlider(value=0.0, description='noise', max=10.0), IntSlider(value=50, description='…"
      ]
     },
     "metadata": {},
     "output_type": "display_data"
    }
   ],
   "source": [
    "interact(simple_eg,slope=fixed(0.2),noise=(0.0,10.0,0.1),samples=(2,50,1));"
   ]
  },
  {
   "cell_type": "markdown",
   "metadata": {},
   "source": [
    "You can think about this like the number of samples of a patient's \n",
    "Try sliding the samples down from 50 to 2 and see what happens to the p-value."
   ]
  },
  {
   "cell_type": "markdown",
   "metadata": {},
   "source": [
    "## Signal-to-Noise\n",
    "\n",
    "The last point we'll make is an important one that applies to everything in medicine (and science).\n",
    "The idea of a *signal-to-noise* ratio is important.\n",
    "\n",
    "We can see this by looking at the previous example: we can control the *slope* and the *noise*.\n",
    "Turns out the slope is what we're interested in: that's the **signal** that we're trying to understand.\n",
    "\n",
    "Noise, on the other hand, comes in and messes things up indiscriminantly."
   ]
  },
  {
   "cell_type": "code",
   "execution_count": 32,
   "metadata": {},
   "outputs": [
    {
     "data": {
      "application/vnd.jupyter.widget-view+json": {
       "model_id": "17b4f2d2ec344929babcb96669f7ad6c",
       "version_major": 2,
       "version_minor": 0
      },
      "text/plain": [
       "interactive(children=(FloatSlider(value=1.0, description='slope', max=5.0, step=0.01), FloatSlider(value=0.0, …"
      ]
     },
     "metadata": {},
     "output_type": "display_data"
    }
   ],
   "source": [
    "interact(simple_eg,slope=(0,5,0.01),noise=(0.0,10.0,0.1),samples=fixed(20));"
   ]
  }
 ],
 "metadata": {
  "kernelspec": {
   "display_name": "Python 3",
   "language": "python",
   "name": "python3"
  },
  "language_info": {
   "codemirror_mode": {
    "name": "ipython",
    "version": 3
   },
   "file_extension": ".py",
   "mimetype": "text/x-python",
   "name": "python",
   "nbconvert_exporter": "python",
   "pygments_lexer": "ipython3",
   "version": "3.8.2"
  }
 },
 "nbformat": 4,
 "nbformat_minor": 4
}
